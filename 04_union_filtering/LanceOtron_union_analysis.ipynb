{
 "cells": [
  {
   "cell_type": "code",
   "execution_count": 161,
   "metadata": {},
   "outputs": [],
   "source": [
    "import pandas as pd\n",
    "import numpy as np\n",
    "#!pip install pyranges\n",
    "import pyranges\n",
    "import os\n",
    "import seaborn as sns\n",
    "from scipy import stats\n",
    "import matplotlib.pyplot as plt\n",
    "import glob\n",
    "import random"
   ]
  },
  {
   "cell_type": "markdown",
   "metadata": {},
   "source": [
    "# Calculating metrics from Union made from Bedtools"
   ]
  },
  {
   "cell_type": "code",
   "execution_count": 155,
   "metadata": {},
   "outputs": [
    {
     "data": {
      "text/html": [
       "<div>\n",
       "<style scoped>\n",
       "    .dataframe tbody tr th:only-of-type {\n",
       "        vertical-align: middle;\n",
       "    }\n",
       "\n",
       "    .dataframe tbody tr th {\n",
       "        vertical-align: top;\n",
       "    }\n",
       "\n",
       "    .dataframe thead th {\n",
       "        text-align: right;\n",
       "    }\n",
       "</style>\n",
       "<table border=\"1\" class=\"dataframe\">\n",
       "  <thead>\n",
       "    <tr style=\"text-align: right;\">\n",
       "      <th></th>\n",
       "      <th>Chromosome</th>\n",
       "      <th>start</th>\n",
       "      <th>end</th>\n",
       "      <th>max-values</th>\n",
       "      <th>donor-peaks</th>\n",
       "    </tr>\n",
       "  </thead>\n",
       "  <tbody>\n",
       "    <tr>\n",
       "      <th>0</th>\n",
       "      <td>chr1</td>\n",
       "      <td>827137</td>\n",
       "      <td>828028</td>\n",
       "      <td>3.7252,4.56554,3.40374,5.65625,6.40897,3.44004...</td>\n",
       "      <td>Don049-827137-827934,Don020-827172-827970,Don0...</td>\n",
       "    </tr>\n",
       "    <tr>\n",
       "      <th>1</th>\n",
       "      <td>chr1</td>\n",
       "      <td>829923</td>\n",
       "      <td>830720</td>\n",
       "      <td>1.65689,1.09556,0.94428,1.32952,1.37397,1.3480...</td>\n",
       "      <td>Don024-829923-830551,Don043-829960-830479,Don0...</td>\n",
       "    </tr>\n",
       "    <tr>\n",
       "      <th>2</th>\n",
       "      <td>chr1</td>\n",
       "      <td>842477</td>\n",
       "      <td>843381</td>\n",
       "      <td>1.90068,1.72961,2.31814,2.2759,2.19415,2.301,1...</td>\n",
       "      <td>Don041-842477-843245,Don042-842481-843270,Don0...</td>\n",
       "    </tr>\n",
       "    <tr>\n",
       "      <th>3</th>\n",
       "      <td>chr1</td>\n",
       "      <td>869550</td>\n",
       "      <td>870311</td>\n",
       "      <td>1.806,0.988618,1.06528,0.784217,1.15545,0.9407...</td>\n",
       "      <td>Don012-869550-870214,Don027-869571-870195,Don0...</td>\n",
       "    </tr>\n",
       "    <tr>\n",
       "      <th>4</th>\n",
       "      <td>chr1</td>\n",
       "      <td>904229</td>\n",
       "      <td>905052</td>\n",
       "      <td>0.973032,0.861464,1.32952,1.02348,1.1505,1.170...</td>\n",
       "      <td>Don028-904229-904908,Don004-904257-904990,Don0...</td>\n",
       "    </tr>\n",
       "    <tr>\n",
       "      <th>...</th>\n",
       "      <td>...</td>\n",
       "      <td>...</td>\n",
       "      <td>...</td>\n",
       "      <td>...</td>\n",
       "      <td>...</td>\n",
       "    </tr>\n",
       "    <tr>\n",
       "      <th>56894</th>\n",
       "      <td>chrX</td>\n",
       "      <td>155612306</td>\n",
       "      <td>155613220</td>\n",
       "      <td>1.18388,1.40617,1.24266,1.40467,0.86545,0.6883...</td>\n",
       "      <td>Don007-155612306-155613084,Don026-155612327-15...</td>\n",
       "    </tr>\n",
       "    <tr>\n",
       "      <th>56895</th>\n",
       "      <td>chrX</td>\n",
       "      <td>155632242</td>\n",
       "      <td>155633102</td>\n",
       "      <td>0.869865,2.00273,0.823791,1.33859,1.07274,0.71...</td>\n",
       "      <td>Don024-155632242-155632906,Don026-155632256-15...</td>\n",
       "    </tr>\n",
       "    <tr>\n",
       "      <th>56896</th>\n",
       "      <td>chrX</td>\n",
       "      <td>155745433</td>\n",
       "      <td>155746210</td>\n",
       "      <td>1.04692,0.411314,0.767228,0.315434,0.976241,1....</td>\n",
       "      <td>Don008-155745433-155746210,Don003-155745540-15...</td>\n",
       "    </tr>\n",
       "    <tr>\n",
       "      <th>56897</th>\n",
       "      <td>chrX</td>\n",
       "      <td>155820003</td>\n",
       "      <td>155820512</td>\n",
       "      <td>0.264914</td>\n",
       "      <td>Don003-155820003-155820512</td>\n",
       "    </tr>\n",
       "    <tr>\n",
       "      <th>56898</th>\n",
       "      <td>chrX</td>\n",
       "      <td>155880917</td>\n",
       "      <td>155881818</td>\n",
       "      <td>3.75143,4.10098,4.03388,3.69706,2.64637,7.8404...</td>\n",
       "      <td>Don029-155880917-155881716,Don010-155880936-15...</td>\n",
       "    </tr>\n",
       "  </tbody>\n",
       "</table>\n",
       "<p>56899 rows × 5 columns</p>\n",
       "</div>"
      ],
      "text/plain": [
       "      Chromosome      start        end  \\\n",
       "0           chr1     827137     828028   \n",
       "1           chr1     829923     830720   \n",
       "2           chr1     842477     843381   \n",
       "3           chr1     869550     870311   \n",
       "4           chr1     904229     905052   \n",
       "...          ...        ...        ...   \n",
       "56894       chrX  155612306  155613220   \n",
       "56895       chrX  155632242  155633102   \n",
       "56896       chrX  155745433  155746210   \n",
       "56897       chrX  155820003  155820512   \n",
       "56898       chrX  155880917  155881818   \n",
       "\n",
       "                                              max-values  \\\n",
       "0      3.7252,4.56554,3.40374,5.65625,6.40897,3.44004...   \n",
       "1      1.65689,1.09556,0.94428,1.32952,1.37397,1.3480...   \n",
       "2      1.90068,1.72961,2.31814,2.2759,2.19415,2.301,1...   \n",
       "3      1.806,0.988618,1.06528,0.784217,1.15545,0.9407...   \n",
       "4      0.973032,0.861464,1.32952,1.02348,1.1505,1.170...   \n",
       "...                                                  ...   \n",
       "56894  1.18388,1.40617,1.24266,1.40467,0.86545,0.6883...   \n",
       "56895  0.869865,2.00273,0.823791,1.33859,1.07274,0.71...   \n",
       "56896  1.04692,0.411314,0.767228,0.315434,0.976241,1....   \n",
       "56897                                           0.264914   \n",
       "56898  3.75143,4.10098,4.03388,3.69706,2.64637,7.8404...   \n",
       "\n",
       "                                             donor-peaks  \n",
       "0      Don049-827137-827934,Don020-827172-827970,Don0...  \n",
       "1      Don024-829923-830551,Don043-829960-830479,Don0...  \n",
       "2      Don041-842477-843245,Don042-842481-843270,Don0...  \n",
       "3      Don012-869550-870214,Don027-869571-870195,Don0...  \n",
       "4      Don028-904229-904908,Don004-904257-904990,Don0...  \n",
       "...                                                  ...  \n",
       "56894  Don007-155612306-155613084,Don026-155612327-15...  \n",
       "56895  Don024-155632242-155632906,Don026-155632256-15...  \n",
       "56896  Don008-155745433-155746210,Don003-155745540-15...  \n",
       "56897                         Don003-155820003-155820512  \n",
       "56898  Don029-155880917-155881716,Don010-155880936-15...  \n",
       "\n",
       "[56899 rows x 5 columns]"
      ]
     },
     "execution_count": 155,
     "metadata": {},
     "output_type": "execute_result"
    }
   ],
   "source": [
    "union = pd.read_csv('bedtools_250bp_merge_union_ATAC_lanceotron_with_peaks_max.blacklist.bed', delimiter='\\t', header = None)\n",
    "\n",
    "union.rename({0:\"Chromosome\", 1:\"start\", 2:\"end\", 3:\"max-values\", 4:\"donor-peaks\"}, axis =1, inplace = True)\n",
    "union"
   ]
  },
  {
   "cell_type": "code",
   "execution_count": null,
   "metadata": {},
   "outputs": [],
   "source": [
    "union['max-values'] = union['max-values'].str.split(',').apply(lambda x:pd.to_numeric(x))"
   ]
  },
  {
   "cell_type": "code",
   "execution_count": null,
   "metadata": {},
   "outputs": [],
   "source": [
    "union['mean'] = union['max-values'].apply(lambda x:x.mean())"
   ]
  },
  {
   "cell_type": "code",
   "execution_count": null,
   "metadata": {},
   "outputs": [],
   "source": [
    "union['max'] = union['max-values'].apply(lambda x:x.max())"
   ]
  },
  {
   "cell_type": "code",
   "execution_count": null,
   "metadata": {},
   "outputs": [],
   "source": [
    "union['median'] = union['max-values'].apply(lambda x:np.quantile(x,0.5))"
   ]
  },
  {
   "cell_type": "code",
   "execution_count": null,
   "metadata": {},
   "outputs": [],
   "source": [
    "union['Q1'] = union['max-values'].apply(lambda x:np.quantile(x,0.25))"
   ]
  },
  {
   "cell_type": "code",
   "execution_count": null,
   "metadata": {},
   "outputs": [],
   "source": [
    "union['Q3'] = union['max-values'].apply(lambda x:np.quantile(x,0.75))"
   ]
  },
  {
   "cell_type": "code",
   "execution_count": null,
   "metadata": {},
   "outputs": [],
   "source": [
    "union['SD'] = union['max-values'].apply(lambda x:np.std(x))"
   ]
  },
  {
   "cell_type": "code",
   "execution_count": null,
   "metadata": {},
   "outputs": [],
   "source": [
    "union['CoefOfVar'] = union['SD']/union['mean']"
   ]
  },
  {
   "cell_type": "code",
   "execution_count": null,
   "metadata": {},
   "outputs": [],
   "source": [
    "union['Total'] = union['max-values'].apply(lambda x:len(x))"
   ]
  },
  {
   "cell_type": "code",
   "execution_count": null,
   "metadata": {},
   "outputs": [],
   "source": [
    "union['length'] = union['end'] - union['start']"
   ]
  },
  {
   "cell_type": "code",
   "execution_count": null,
   "metadata": {},
   "outputs": [],
   "source": [
    "#union.to_csv('bedtools_250bp_union_ATAC_lanceotron_with_stats.csv', index=False)"
   ]
  },
  {
   "cell_type": "markdown",
   "metadata": {},
   "source": [
    "# Filtering the Union"
   ]
  },
  {
   "cell_type": "code",
   "execution_count": 162,
   "metadata": {},
   "outputs": [],
   "source": [
    "union = pd.read_csv('bedtools_250bp_union_ATAC_lanceotron_with_stats.csv')\n"
   ]
  },
  {
   "cell_type": "code",
   "execution_count": 163,
   "metadata": {},
   "outputs": [
    {
     "data": {
      "text/plain": [
       "22972.7"
      ]
     },
     "execution_count": 163,
     "metadata": {},
     "output_type": "execute_result"
    }
   ],
   "source": [
    "1148635/50"
   ]
  },
  {
   "cell_type": "code",
   "execution_count": 164,
   "metadata": {},
   "outputs": [
    {
     "data": {
      "text/plain": [
       "21720.4"
      ]
     },
     "execution_count": 164,
     "metadata": {},
     "output_type": "execute_result"
    }
   ],
   "source": [
    "sum(union['Total'])/50"
   ]
  },
  {
   "cell_type": "code",
   "execution_count": 165,
   "metadata": {},
   "outputs": [
    {
     "data": {
      "image/png": "[encoded data removed]",
      "text/plain": [
       "<Figure size 360x360 with 1 Axes>"
      ]
     },
     "metadata": {
      "needs_background": "light"
     },
     "output_type": "display_data"
    }
   ],
   "source": [
    "#plot = pd.Series(union['Total']).hist(bins = 12)\n",
    "plt = sns.displot(union, x=\"Total\", binwidth=10).set(title='Number of Peaks called within Union Peaks')\n",
    "#sns.displot(union, x=\"Total\", kind = \"kde\")\n",
    "#plot.set_title('Total number of Peaks called within Union Peaks')\n",
    "plt.savefig('/datashare/project/fgenomics/jinchaus/rotation/plots/Number_peaks_called_pre-filtering.png', dpi =400)\n"
   ]
  },
  {
   "cell_type": "code",
   "execution_count": 166,
   "metadata": {},
   "outputs": [
    {
     "data": {
      "image/png": "[encoded data removed]",
      "text/plain": [
       "<Figure size 360x360 with 1 Axes>"
      ]
     },
     "metadata": {
      "needs_background": "light"
     },
     "output_type": "display_data"
    }
   ],
   "source": [
    "#plot = pd.Series(union['Total']).hist(bins = 12)\n",
    "plt = sns.displot(union, x=\"length\", binwidth=100).set(title=\"Union Peaks' Length distribution\", xlabel = \"Length (bp)\")\n",
    "#sns.displot(union, x=\"Total\", kind = \"kde\")\n",
    "#plot.set_title('Total number of Peaks called within Union Peaks')\n",
    "\n",
    "plt.savefig('/datashare/project/fgenomics/jinchaus/rotation/plots/Peaks_length_pre-filtering.png', dpi =400)\n"
   ]
  },
  {
   "cell_type": "code",
   "execution_count": 167,
   "metadata": {},
   "outputs": [
    {
     "data": {
      "image/png": "[encoded data removed]",
      "text/plain": [
       "<Figure size 360x360 with 1 Axes>"
      ]
     },
     "metadata": {
      "needs_background": "light"
     },
     "output_type": "display_data"
    }
   ],
   "source": [
    "#plot = pd.Series(union['Total']).hist(bins = 12)\n",
    "plt = sns.displot(union, x=\"max\", binwidth=1).set(title=\"Union Peaks' maximum values distribution\", xlabel = \"Maximum value\")\n",
    "#sns.displot(union, x=\"Total\", kind = \"kde\")\n",
    "#plot.set_title('Total number of Peaks called within Union Peaks')\n",
    "\n",
    "plt.savefig('/datashare/project/fgenomics/jinchaus/rotation/plots/Max_values_pre-filtering.png', dpi =400)\n"
   ]
  },
  {
   "cell_type": "code",
   "execution_count": 168,
   "metadata": {},
   "outputs": [],
   "source": [
    "union_f = union[(union['Total']<=60) & (union['length']>=150)]"
   ]
  },
  {
   "cell_type": "code",
   "execution_count": 169,
   "metadata": {},
   "outputs": [
    {
     "data": {
      "text/plain": [
       "Text(0.5, 1.0, 'Total number of values per peak distribution')"
      ]
     },
     "execution_count": 169,
     "metadata": {},
     "output_type": "execute_result"
    },
    {
     "data": {
      "image/png": "[encoded data removed]",
      "text/plain": [
       "<Figure size 720x360 with 1 Axes>"
      ]
     },
     "metadata": {
      "needs_background": "light"
     },
     "output_type": "display_data"
    }
   ],
   "source": [
    "plot = pd.Series(union_f['Total']).plot.kde()\n",
    "plot.set_title(\"Total number of values per peak distribution\")"
   ]
  },
  {
   "cell_type": "code",
   "execution_count": 170,
   "metadata": {},
   "outputs": [
    {
     "data": {
      "text/plain": [
       "Text(0.5, 1.0, 'Peak Length distribution')"
      ]
     },
     "execution_count": 170,
     "metadata": {},
     "output_type": "execute_result"
    },
    {
     "data": {
      "image/png": "[encoded data removed]",
      "text/plain": [
       "<Figure size 720x360 with 1 Axes>"
      ]
     },
     "metadata": {
      "needs_background": "light"
     },
     "output_type": "display_data"
    }
   ],
   "source": [
    "plot = pd.Series(union_f['length']).plot.kde()\n",
    "plot.set_title(\"Peak Length distribution\")"
   ]
  },
  {
   "cell_type": "code",
   "execution_count": 171,
   "metadata": {
    "scrolled": true
   },
   "outputs": [
    {
     "data": {
      "text/plain": [
       "Text(0.5, 1.0, 'Union ATAC max peak values distribution')"
      ]
     },
     "execution_count": 171,
     "metadata": {},
     "output_type": "execute_result"
    },
    {
     "data": {
      "image/png": "[encoded data removed]",
      "text/plain": [
       "<Figure size 720x360 with 1 Axes>"
      ]
     },
     "metadata": {
      "needs_background": "light"
     },
     "output_type": "display_data"
    }
   ],
   "source": [
    "plot = union_f['max'].plot.kde()\n",
    "plot.set_xlabel(\"Max values\")\n",
    "plot.set_title(\"Union ATAC max peak values distribution\")"
   ]
  },
  {
   "cell_type": "code",
   "execution_count": 173,
   "metadata": {},
   "outputs": [
    {
     "data": {
      "text/html": [
       "<div>\n",
       "<style scoped>\n",
       "    .dataframe tbody tr th:only-of-type {\n",
       "        vertical-align: middle;\n",
       "    }\n",
       "\n",
       "    .dataframe tbody tr th {\n",
       "        vertical-align: top;\n",
       "    }\n",
       "\n",
       "    .dataframe thead th {\n",
       "        text-align: right;\n",
       "    }\n",
       "</style>\n",
       "<table border=\"1\" class=\"dataframe\">\n",
       "  <thead>\n",
       "    <tr style=\"text-align: right;\">\n",
       "      <th></th>\n",
       "      <th>max</th>\n",
       "    </tr>\n",
       "  </thead>\n",
       "  <tbody>\n",
       "    <tr>\n",
       "      <th>count</th>\n",
       "      <td>56899.000000</td>\n",
       "    </tr>\n",
       "    <tr>\n",
       "      <th>mean</th>\n",
       "      <td>2.898560</td>\n",
       "    </tr>\n",
       "    <tr>\n",
       "      <th>std</th>\n",
       "      <td>3.985970</td>\n",
       "    </tr>\n",
       "    <tr>\n",
       "      <th>min</th>\n",
       "      <td>0.052286</td>\n",
       "    </tr>\n",
       "    <tr>\n",
       "      <th>25%</th>\n",
       "      <td>0.847993</td>\n",
       "    </tr>\n",
       "    <tr>\n",
       "      <th>50%</th>\n",
       "      <td>1.471560</td>\n",
       "    </tr>\n",
       "    <tr>\n",
       "      <th>75%</th>\n",
       "      <td>3.076890</td>\n",
       "    </tr>\n",
       "    <tr>\n",
       "      <th>max</th>\n",
       "      <td>44.908700</td>\n",
       "    </tr>\n",
       "  </tbody>\n",
       "</table>\n",
       "</div>"
      ],
      "text/plain": [
       "                max\n",
       "count  56899.000000\n",
       "mean       2.898560\n",
       "std        3.985970\n",
       "min        0.052286\n",
       "25%        0.847993\n",
       "50%        1.471560\n",
       "75%        3.076890\n",
       "max       44.908700"
      ]
     },
     "execution_count": 173,
     "metadata": {},
     "output_type": "execute_result"
    }
   ],
   "source": [
    "union[['max']].describe()"
   ]
  },
  {
   "cell_type": "code",
   "execution_count": null,
   "metadata": {},
   "outputs": [],
   "source": [
    "union_f[['max']].quantile(0.3)"
   ]
  },
  {
   "cell_type": "code",
   "execution_count": null,
   "metadata": {},
   "outputs": [],
   "source": [
    "union_f[['length']].describe()"
   ]
  },
  {
   "cell_type": "code",
   "execution_count": null,
   "metadata": {},
   "outputs": [],
   "source": [
    "union[['length']].describe()"
   ]
  },
  {
   "cell_type": "code",
   "execution_count": null,
   "metadata": {},
   "outputs": [],
   "source": [
    "union[['max']].describe()"
   ]
  },
  {
   "cell_type": "code",
   "execution_count": null,
   "metadata": {},
   "outputs": [],
   "source": [
    "union[['max']].quantile(0.3)"
   ]
  },
  {
   "cell_type": "code",
   "execution_count": null,
   "metadata": {},
   "outputs": [],
   "source": [
    "union_f[['max']].quantile(0.323)"
   ]
  },
  {
   "cell_type": "code",
   "execution_count": null,
   "metadata": {},
   "outputs": [],
   "source": [
    "union_filtered = union[(union['Total']<=60) & (union['length']>=150) & (union['max']>=1.11916)]"
   ]
  },
  {
   "cell_type": "code",
   "execution_count": null,
   "metadata": {},
   "outputs": [],
   "source": [
    "#union_filtered[['Chromosome','start','end','length','CoefOfVar','SD','Total','max','mean','median', 'Q1','Q3']].to_csv('Union_filtered_T60_L150_M30.csv', header = False, sep = \"\\t\", index=False)\n",
    "\n"
   ]
  },
  {
   "cell_type": "markdown",
   "metadata": {},
   "source": [
    "Now making bedfile for H3K27ac windows"
   ]
  },
  {
   "cell_type": "code",
   "execution_count": null,
   "metadata": {},
   "outputs": [],
   "source": [
    "union_filtered[\"start-500\"]=round((union_filtered['start'] + (union_filtered['length']/2) - 500)).astype(int)"
   ]
  },
  {
   "cell_type": "code",
   "execution_count": null,
   "metadata": {},
   "outputs": [],
   "source": [
    "union_filtered[\"end-500\"]=round((union_filtered['end'] - (union_filtered['length']/2) + 500)).astype(int)"
   ]
  },
  {
   "cell_type": "code",
   "execution_count": null,
   "metadata": {},
   "outputs": [],
   "source": [
    "union_filtered[\"start-500-300\"]=round((union_filtered['start'] + (union_filtered['length']/2) - 500 -300)).astype(int)"
   ]
  },
  {
   "cell_type": "code",
   "execution_count": null,
   "metadata": {},
   "outputs": [],
   "source": [
    "union_filtered[\"end-500-300\"]=round((union_filtered['end'] - (union_filtered['length']/2) + 500 + 300)).astype(int)"
   ]
  },
  {
   "cell_type": "code",
   "execution_count": null,
   "metadata": {},
   "outputs": [],
   "source": [
    "union_filtered[\"start-500-600\"]=round((union_filtered['start'] + (union_filtered['length']/2) - 500 - 600)).astype(int)\n",
    "union_filtered[\"end-500-600\"]=round((union_filtered['end'] - (union_filtered['length']/2) + 500 + 600)).astype(int)\n"
   ]
  },
  {
   "cell_type": "code",
   "execution_count": null,
   "metadata": {},
   "outputs": [],
   "source": [
    "#union_filtered[['Chromosome','start-500','end-500','start', 'end','length','max']].to_csv('Union-500bp_filtered_T60_L150_M30.csv', header = False, sep = \"\\t\", index=False)\n",
    "#f = open('colnames_union_filtered.txt', 'w').write(\"Chromosome, start-500, end-500, start-ATAC-union, end-ATAC-union, length-ATAC-union, Max_peak_value\")"
   ]
  },
  {
   "cell_type": "code",
   "execution_count": null,
   "metadata": {},
   "outputs": [],
   "source": [
    "#union_filtered[['Chromosome','start-500-300','end-500-300','start','end','length','max']].to_csv('Union-500-300bp_filtered_T60_L150_M30.csv', header = False, sep = \"\\t\", index=False)"
   ]
  },
  {
   "cell_type": "code",
   "execution_count": null,
   "metadata": {},
   "outputs": [],
   "source": [
    "#union_filtered[['Chromosome','start-500-600','end-500-600','start','end','length','max']].to_csv('Union-500-600bp_filtered_T60_L150_M30.csv', header = False, sep = \"\\t\", index=False)"
   ]
  },
  {
   "cell_type": "code",
   "execution_count": null,
   "metadata": {},
   "outputs": [],
   "source": [
    "#union_filtered[['Chromosome','start','end','Total']].to_csv('Union_filtered_T60_L150_M30_Total_n_peaks.csv', sep = \"\\t\", index=False)"
   ]
  },
  {
   "cell_type": "markdown",
   "metadata": {},
   "source": [
    "# Merge individual ATAC files with values from Union positions"
   ]
  },
  {
   "cell_type": "code",
   "execution_count": 2,
   "metadata": {},
   "outputs": [],
   "source": [
    "import sys  \n",
    "sys.path.insert(0, '/t1-data/project/fgenomics/jinchaus/rotation/50Donors/peakcall/ATAC/lanceotron/maxunion')"
   ]
  },
  {
   "cell_type": "code",
   "execution_count": 3,
   "metadata": {},
   "outputs": [],
   "source": [
    "\n",
    "path = '/t1-data/project/fgenomics/jinchaus/rotation/50Donors/peakcall/ATAC/lanceotron/maxunion' # use your path\n"
   ]
  },
  {
   "cell_type": "code",
   "execution_count": 4,
   "metadata": {},
   "outputs": [],
   "source": [
    "union_vals = pd.read_csv(\"/t1-data/project/fgenomics/jinchaus/rotation/50Donors/peakcall/ATAC/lanceotron/maxunion/Don001_ATAC_lanceotron_values_union_with_ID.bed\", delimiter=' ')\n",
    "\n",
    "for don in range(2,10):\n",
    "    file = pd.read_csv(path+\"/Don00\"+str(don)+\"_ATAC_lanceotron_values_union_with_ID.bed\", delimiter=' ')\n",
    "    union_vals = union_vals.merge(file, on= [\"Chromosome\", \"start\", \"end\", \"length\", \"Max_peak_value\"])\n",
    " "
   ]
  },
  {
   "cell_type": "code",
   "execution_count": 5,
   "metadata": {},
   "outputs": [],
   "source": [
    "for don in range(10,51):\n",
    "    file = pd.read_csv(path+\"/Don0\"+str(don)+\"_ATAC_lanceotron_values_union_with_ID.bed\", delimiter=' ')\n",
    "    union_vals = union_vals.merge(file, on= [\"Chromosome\", \"start\", \"end\", \"length\", \"Max_peak_value\"])\n",
    " "
   ]
  },
  {
   "cell_type": "code",
   "execution_count": 6,
   "metadata": {},
   "outputs": [],
   "source": [
    "union_vals2 = union_vals.copy()"
   ]
  },
  {
   "cell_type": "code",
   "execution_count": 7,
   "metadata": {},
   "outputs": [],
   "source": [
    "union_vals2[\"ID\"] = union_vals2[\"Chromosome\"].str.cat(union_vals2[[\"start\", \"end\"]].astype(str), sep=\"-\")"
   ]
  },
  {
   "cell_type": "code",
   "execution_count": 8,
   "metadata": {},
   "outputs": [],
   "source": [
    "Donors2 = list(union_vals2)[5:]"
   ]
  },
  {
   "cell_type": "code",
   "execution_count": 9,
   "metadata": {},
   "outputs": [],
   "source": [
    "Donors2 = [Donors2[-1]] + Donors2[:-1] # put ID as first column\n",
    "union_vals2 = union_vals2[Donors2]\n",
    "\n",
    "#path1 = \"/t1-data/project/fgenomics/jinchaus/rotation/50Donors/peakcall/H3K27ac/sumunion/Values_only_ATAC.csv\"\n",
    "#path2 = \"/datashare/project/fgenomics/jinchaus/rotation/lanceotron/ATAC/Values_only_ATAC.csv\"\n",
    "#union_vals2.to_csv(path1, sep = \"\\t\", index=False)\n",
    "#union_vals2.to_csv(path2, sep = \"\\t\", index=False)"
   ]
  },
  {
   "cell_type": "markdown",
   "metadata": {},
   "source": [
    "# ATAC Statistical analysis to find variable peaks"
   ]
  },
  {
   "cell_type": "code",
   "execution_count": 10,
   "metadata": {},
   "outputs": [],
   "source": [
    "Donors = list(union_vals)[5:]"
   ]
  },
  {
   "cell_type": "code",
   "execution_count": null,
   "metadata": {},
   "outputs": [],
   "source": [
    "df = union_vals[Donors]"
   ]
  },
  {
   "cell_type": "code",
   "execution_count": null,
   "metadata": {},
   "outputs": [],
   "source": [
    "df = df.T"
   ]
  },
  {
   "cell_type": "code",
   "execution_count": null,
   "metadata": {
    "scrolled": false
   },
   "outputs": [],
   "source": [
    "def ks_test(x,y):\n",
    "    return stats.ks_2samp(x, y)[-1]\n",
    "def mwu_test(x,y):\n",
    "    return stats.mannwhitneyu(x, y)[-1]\n",
    "\n",
    "ks_results = {}\n",
    "\n",
    "for peak in df.columns[:]:\n",
    "    temp = np.array(df[peak])\n",
    "    \n",
    "    pvals = []\n",
    "    for rep in range(101):\n",
    "        random_donors = random.sample(range(0,49), 20)\n",
    "        temp1= temp[random_donors] \n",
    "        mask = np.ones(50, dtype=bool)\n",
    "        mask[random_donors] = False\n",
    "        temp2 = temp[mask]\n",
    "        random_donors_2 = random.sample(range(0,29), 20)\n",
    "        temp3 = temp2[random_donors_2]\n",
    "        pval= ks_test(temp1, temp3)\n",
    "        pvals.append(pval)\n",
    "        \n",
    "        \n",
    "        \n",
    "    ks_results[peak] = pvals\n"
   ]
  },
  {
   "cell_type": "code",
   "execution_count": null,
   "metadata": {},
   "outputs": [],
   "source": [
    "results = pd.DataFrame.from_dict(ks_results).median()"
   ]
  },
  {
   "cell_type": "code",
   "execution_count": null,
   "metadata": {},
   "outputs": [],
   "source": [
    "plt.rcParams['figure.figsize'] = [20, 5]\n",
    "results.plot()"
   ]
  },
  {
   "cell_type": "code",
   "execution_count": null,
   "metadata": {},
   "outputs": [],
   "source": [
    "results[results<0.4]"
   ]
  },
  {
   "cell_type": "markdown",
   "metadata": {},
   "source": [
    "No significant values"
   ]
  },
  {
   "cell_type": "markdown",
   "metadata": {},
   "source": [
    "Now we will compute the coefficient of variation only for extreme quantiles in order to exacerbate the variance"
   ]
  },
  {
   "cell_type": "code",
   "execution_count": 11,
   "metadata": {},
   "outputs": [
    {
     "ename": "NameError",
     "evalue": "name 'df' is not defined",
     "output_type": "error",
     "traceback": [
      "\u001b[0;31m---------------------------------------------------------------------------\u001b[0m",
      "\u001b[0;31mNameError\u001b[0m                                 Traceback (most recent call last)",
      "\u001b[0;32m<ipython-input-11-75fc32398ebd>\u001b[0m in \u001b[0;36m<module>\u001b[0;34m\u001b[0m\n\u001b[1;32m      1\u001b[0m \u001b[0mCoeffsVarQ1Q3\u001b[0m \u001b[0;34m=\u001b[0m \u001b[0;34m[\u001b[0m\u001b[0;34m]\u001b[0m\u001b[0;34m\u001b[0m\u001b[0;34m\u001b[0m\u001b[0m\n\u001b[1;32m      2\u001b[0m \u001b[0;34m\u001b[0m\u001b[0m\n\u001b[0;32m----> 3\u001b[0;31m \u001b[0;32mfor\u001b[0m \u001b[0mpeak\u001b[0m \u001b[0;32min\u001b[0m \u001b[0mdf\u001b[0m\u001b[0;34m.\u001b[0m\u001b[0mcolumns\u001b[0m\u001b[0;34m[\u001b[0m\u001b[0;34m:\u001b[0m\u001b[0;34m]\u001b[0m\u001b[0;34m:\u001b[0m\u001b[0;34m\u001b[0m\u001b[0;34m\u001b[0m\u001b[0m\n\u001b[0m\u001b[1;32m      4\u001b[0m     \u001b[0mtemp\u001b[0m \u001b[0;34m=\u001b[0m \u001b[0mnp\u001b[0m\u001b[0;34m.\u001b[0m\u001b[0marray\u001b[0m\u001b[0;34m(\u001b[0m\u001b[0mdf\u001b[0m\u001b[0;34m[\u001b[0m\u001b[0mpeak\u001b[0m\u001b[0;34m]\u001b[0m\u001b[0;34m)\u001b[0m\u001b[0;34m\u001b[0m\u001b[0;34m\u001b[0m\u001b[0m\n\u001b[1;32m      5\u001b[0m     \u001b[0mquantiles\u001b[0m \u001b[0;34m=\u001b[0m \u001b[0mpd\u001b[0m\u001b[0;34m.\u001b[0m\u001b[0mqcut\u001b[0m\u001b[0;34m(\u001b[0m\u001b[0mtemp\u001b[0m\u001b[0;34m,\u001b[0m \u001b[0mq\u001b[0m \u001b[0;34m=\u001b[0m \u001b[0;36m3\u001b[0m\u001b[0;34m,\u001b[0m \u001b[0mlabels\u001b[0m\u001b[0;34m=\u001b[0m\u001b[0;32mFalse\u001b[0m\u001b[0;34m,\u001b[0m \u001b[0mduplicates\u001b[0m \u001b[0;34m=\u001b[0m \u001b[0;34m\"drop\"\u001b[0m\u001b[0;34m)\u001b[0m\u001b[0;34m\u001b[0m\u001b[0;34m\u001b[0m\u001b[0m\n",
      "\u001b[0;31mNameError\u001b[0m: name 'df' is not defined"
     ]
    }
   ],
   "source": [
    "CoeffsVarQ1Q3 = []\n",
    "\n",
    "for peak in df.columns[:]:\n",
    "    temp = np.array(df[peak])\n",
    "    quantiles = pd.qcut(temp, q = 3, labels=False, duplicates = \"drop\")\n",
    "    temp1 = temp[(quantiles == 0) | (quantiles == 2)]\n",
    "    CoeffVarQ1Q3= temp1.std()/temp1.mean()\n",
    "    CoeffsVarQ1Q3.append(CoeffVarQ1Q3)\n"
   ]
  },
  {
   "cell_type": "code",
   "execution_count": 12,
   "metadata": {},
   "outputs": [
    {
     "ename": "ValueError",
     "evalue": "Length of values (0) does not match length of index (29777)",
     "output_type": "error",
     "traceback": [
      "\u001b[0;31m---------------------------------------------------------------------------\u001b[0m",
      "\u001b[0;31mValueError\u001b[0m                                Traceback (most recent call last)",
      "\u001b[0;32m<ipython-input-12-8cd3d7875af1>\u001b[0m in \u001b[0;36m<module>\u001b[0;34m\u001b[0m\n\u001b[0;32m----> 1\u001b[0;31m \u001b[0munion_vals\u001b[0m\u001b[0;34m[\u001b[0m\u001b[0;34m\"CoefOfVar_Q1Q3_(SD/Mean)_ATAC_union\"\u001b[0m\u001b[0;34m]\u001b[0m \u001b[0;34m=\u001b[0m \u001b[0mCoeffsVarQ1Q3\u001b[0m\u001b[0;34m\u001b[0m\u001b[0;34m\u001b[0m\u001b[0m\n\u001b[0m",
      "\u001b[0;32m/package/python-cbrg/current/3.8/lib/python3.8/site-packages/pandas/core/frame.py\u001b[0m in \u001b[0;36m__setitem__\u001b[0;34m(self, key, value)\u001b[0m\n\u001b[1;32m   3161\u001b[0m         \u001b[0;32melse\u001b[0m\u001b[0;34m:\u001b[0m\u001b[0;34m\u001b[0m\u001b[0;34m\u001b[0m\u001b[0m\n\u001b[1;32m   3162\u001b[0m             \u001b[0;31m# set column\u001b[0m\u001b[0;34m\u001b[0m\u001b[0;34m\u001b[0m\u001b[0;34m\u001b[0m\u001b[0m\n\u001b[0;32m-> 3163\u001b[0;31m             \u001b[0mself\u001b[0m\u001b[0;34m.\u001b[0m\u001b[0m_set_item\u001b[0m\u001b[0;34m(\u001b[0m\u001b[0mkey\u001b[0m\u001b[0;34m,\u001b[0m \u001b[0mvalue\u001b[0m\u001b[0;34m)\u001b[0m\u001b[0;34m\u001b[0m\u001b[0;34m\u001b[0m\u001b[0m\n\u001b[0m\u001b[1;32m   3164\u001b[0m \u001b[0;34m\u001b[0m\u001b[0m\n\u001b[1;32m   3165\u001b[0m     \u001b[0;32mdef\u001b[0m \u001b[0m_setitem_slice\u001b[0m\u001b[0;34m(\u001b[0m\u001b[0mself\u001b[0m\u001b[0;34m,\u001b[0m \u001b[0mkey\u001b[0m\u001b[0;34m:\u001b[0m \u001b[0mslice\u001b[0m\u001b[0;34m,\u001b[0m \u001b[0mvalue\u001b[0m\u001b[0;34m)\u001b[0m\u001b[0;34m:\u001b[0m\u001b[0;34m\u001b[0m\u001b[0;34m\u001b[0m\u001b[0m\n",
      "\u001b[0;32m/package/python-cbrg/current/3.8/lib/python3.8/site-packages/pandas/core/frame.py\u001b[0m in \u001b[0;36m_set_item\u001b[0;34m(self, key, value)\u001b[0m\n\u001b[1;32m   3237\u001b[0m         \"\"\"\n\u001b[1;32m   3238\u001b[0m         \u001b[0mself\u001b[0m\u001b[0;34m.\u001b[0m\u001b[0m_ensure_valid_index\u001b[0m\u001b[0;34m(\u001b[0m\u001b[0mvalue\u001b[0m\u001b[0;34m)\u001b[0m\u001b[0;34m\u001b[0m\u001b[0;34m\u001b[0m\u001b[0m\n\u001b[0;32m-> 3239\u001b[0;31m         \u001b[0mvalue\u001b[0m \u001b[0;34m=\u001b[0m \u001b[0mself\u001b[0m\u001b[0;34m.\u001b[0m\u001b[0m_sanitize_column\u001b[0m\u001b[0;34m(\u001b[0m\u001b[0mkey\u001b[0m\u001b[0;34m,\u001b[0m \u001b[0mvalue\u001b[0m\u001b[0;34m)\u001b[0m\u001b[0;34m\u001b[0m\u001b[0;34m\u001b[0m\u001b[0m\n\u001b[0m\u001b[1;32m   3240\u001b[0m         \u001b[0mNDFrame\u001b[0m\u001b[0;34m.\u001b[0m\u001b[0m_set_item\u001b[0m\u001b[0;34m(\u001b[0m\u001b[0mself\u001b[0m\u001b[0;34m,\u001b[0m \u001b[0mkey\u001b[0m\u001b[0;34m,\u001b[0m \u001b[0mvalue\u001b[0m\u001b[0;34m)\u001b[0m\u001b[0;34m\u001b[0m\u001b[0;34m\u001b[0m\u001b[0m\n\u001b[1;32m   3241\u001b[0m \u001b[0;34m\u001b[0m\u001b[0m\n",
      "\u001b[0;32m/package/python-cbrg/current/3.8/lib/python3.8/site-packages/pandas/core/frame.py\u001b[0m in \u001b[0;36m_sanitize_column\u001b[0;34m(self, key, value, broadcast)\u001b[0m\n\u001b[1;32m   3894\u001b[0m \u001b[0;34m\u001b[0m\u001b[0m\n\u001b[1;32m   3895\u001b[0m             \u001b[0;31m# turn me into an ndarray\u001b[0m\u001b[0;34m\u001b[0m\u001b[0;34m\u001b[0m\u001b[0;34m\u001b[0m\u001b[0m\n\u001b[0;32m-> 3896\u001b[0;31m             \u001b[0mvalue\u001b[0m \u001b[0;34m=\u001b[0m \u001b[0msanitize_index\u001b[0m\u001b[0;34m(\u001b[0m\u001b[0mvalue\u001b[0m\u001b[0;34m,\u001b[0m \u001b[0mself\u001b[0m\u001b[0;34m.\u001b[0m\u001b[0mindex\u001b[0m\u001b[0;34m)\u001b[0m\u001b[0;34m\u001b[0m\u001b[0;34m\u001b[0m\u001b[0m\n\u001b[0m\u001b[1;32m   3897\u001b[0m             \u001b[0;32mif\u001b[0m \u001b[0;32mnot\u001b[0m \u001b[0misinstance\u001b[0m\u001b[0;34m(\u001b[0m\u001b[0mvalue\u001b[0m\u001b[0;34m,\u001b[0m \u001b[0;34m(\u001b[0m\u001b[0mnp\u001b[0m\u001b[0;34m.\u001b[0m\u001b[0mndarray\u001b[0m\u001b[0;34m,\u001b[0m \u001b[0mIndex\u001b[0m\u001b[0;34m)\u001b[0m\u001b[0;34m)\u001b[0m\u001b[0;34m:\u001b[0m\u001b[0;34m\u001b[0m\u001b[0;34m\u001b[0m\u001b[0m\n\u001b[1;32m   3898\u001b[0m                 \u001b[0;32mif\u001b[0m \u001b[0misinstance\u001b[0m\u001b[0;34m(\u001b[0m\u001b[0mvalue\u001b[0m\u001b[0;34m,\u001b[0m \u001b[0mlist\u001b[0m\u001b[0;34m)\u001b[0m \u001b[0;32mand\u001b[0m \u001b[0mlen\u001b[0m\u001b[0;34m(\u001b[0m\u001b[0mvalue\u001b[0m\u001b[0;34m)\u001b[0m \u001b[0;34m>\u001b[0m \u001b[0;36m0\u001b[0m\u001b[0;34m:\u001b[0m\u001b[0;34m\u001b[0m\u001b[0;34m\u001b[0m\u001b[0m\n",
      "\u001b[0;32m/package/python-cbrg/current/3.8/lib/python3.8/site-packages/pandas/core/internals/construction.py\u001b[0m in \u001b[0;36msanitize_index\u001b[0;34m(data, index)\u001b[0m\n\u001b[1;32m    749\u001b[0m     \"\"\"\n\u001b[1;32m    750\u001b[0m     \u001b[0;32mif\u001b[0m \u001b[0mlen\u001b[0m\u001b[0;34m(\u001b[0m\u001b[0mdata\u001b[0m\u001b[0;34m)\u001b[0m \u001b[0;34m!=\u001b[0m \u001b[0mlen\u001b[0m\u001b[0;34m(\u001b[0m\u001b[0mindex\u001b[0m\u001b[0;34m)\u001b[0m\u001b[0;34m:\u001b[0m\u001b[0;34m\u001b[0m\u001b[0;34m\u001b[0m\u001b[0m\n\u001b[0;32m--> 751\u001b[0;31m         raise ValueError(\n\u001b[0m\u001b[1;32m    752\u001b[0m             \u001b[0;34m\"Length of values \"\u001b[0m\u001b[0;34m\u001b[0m\u001b[0;34m\u001b[0m\u001b[0m\n\u001b[1;32m    753\u001b[0m             \u001b[0;34mf\"({len(data)}) \"\u001b[0m\u001b[0;34m\u001b[0m\u001b[0;34m\u001b[0m\u001b[0m\n",
      "\u001b[0;31mValueError\u001b[0m: Length of values (0) does not match length of index (29777)"
     ]
    }
   ],
   "source": [
    "union_vals[\"CoefOfVar_Q1Q3_(SD/Mean)_ATAC_union\"] = CoeffsVarQ1Q3 "
   ]
  },
  {
   "cell_type": "code",
   "execution_count": null,
   "metadata": {},
   "outputs": [],
   "source": [
    "plt.rcParams['figure.figsize'] = [20, 5]\n",
    "plot = union_vals[\"CoefOfVar_Q1Q3_(SD/Mean)_ATAC_union\"].plot.kde()\n",
    "plot.set_xlabel(\"Distribution of the Variation Coefficient when taking extremeties\")\n"
   ]
  },
  {
   "cell_type": "markdown",
   "metadata": {},
   "source": [
    "# Calculating useful metrics from the ATAC values"
   ]
  },
  {
   "cell_type": "code",
   "execution_count": 13,
   "metadata": {},
   "outputs": [],
   "source": [
    "union_vals[\"SD_ATAC_union\"] = union_vals[Donors].std(axis = 1)"
   ]
  },
  {
   "cell_type": "code",
   "execution_count": 14,
   "metadata": {},
   "outputs": [],
   "source": [
    "union_vals['Mean_ATAC_union'] = union_vals[Donors].mean(axis = 1)"
   ]
  },
  {
   "cell_type": "code",
   "execution_count": 15,
   "metadata": {},
   "outputs": [],
   "source": [
    "union_vals['Max_ATAC_union'] = union_vals[Donors].max(axis = 1)"
   ]
  },
  {
   "cell_type": "code",
   "execution_count": 16,
   "metadata": {},
   "outputs": [],
   "source": [
    "union_vals['Min_ATAC_union'] = union_vals[Donors].min(axis = 1)"
   ]
  },
  {
   "cell_type": "code",
   "execution_count": 17,
   "metadata": {},
   "outputs": [],
   "source": [
    "union_vals[\"CoefOfVar_(SD/Mean)_ATAC_union\"] = union_vals[\"SD_ATAC_union\"]/union_vals[\"Mean_ATAC_union\"]"
   ]
  },
  {
   "cell_type": "code",
   "execution_count": 18,
   "metadata": {},
   "outputs": [],
   "source": [
    "union_vals['Max-Mean_ATAC_union'] = union_vals['Max_ATAC_union'] - union_vals['Mean_ATAC_union']"
   ]
  },
  {
   "cell_type": "code",
   "execution_count": 19,
   "metadata": {},
   "outputs": [],
   "source": [
    "union_vals_long = pd.melt(union_vals, id_vars = [\"Chromosome\", \"start\", \"end\", \"length\", \"Max_peak_value\", \"SD_ATAC_union\",\"Mean_ATAC_union\",\"CoefOfVar_(SD/Mean)_ATAC_union\", \"Max-Mean_ATAC_union\"], value_vars = Donors, var_name = \"Donors\", value_name = \"value\" )\n",
    "\n"
   ]
  },
  {
   "cell_type": "code",
   "execution_count": 20,
   "metadata": {},
   "outputs": [],
   "source": [
    "union_vals_long=union_vals_long.sort_values(by = [\"Chromosome\", \"start\", \"end\"])"
   ]
  },
  {
   "cell_type": "code",
   "execution_count": 21,
   "metadata": {},
   "outputs": [],
   "source": [
    "start= union_vals_long[\"start\"].unique()"
   ]
  },
  {
   "cell_type": "code",
   "execution_count": 22,
   "metadata": {},
   "outputs": [
    {
     "data": {
      "text/plain": [
       "0             827137\n",
       "29777         827137\n",
       "59554         827137\n",
       "89331         827137\n",
       "119108        827137\n",
       "             ...    \n",
       "1369741    155880917\n",
       "1399518    155880917\n",
       "1429295    155880917\n",
       "1459072    155880917\n",
       "1488849    155880917\n",
       "Name: start, Length: 1488850, dtype: int64"
      ]
     },
     "execution_count": 22,
     "metadata": {},
     "output_type": "execute_result"
    }
   ],
   "source": [
    "union_vals_long[\"start\"]"
   ]
  },
  {
   "cell_type": "code",
   "execution_count": 23,
   "metadata": {},
   "outputs": [
    {
     "data": {
      "text/plain": [
       "Text(0.5, 1.0, 'Some union peaks values accross the 50 individuals')"
      ]
     },
     "execution_count": 23,
     "metadata": {},
     "output_type": "execute_result"
    },
    {
     "data": {
      "image/png": "[encoded data removed]",
      "text/plain": [
       "<Figure size 1440x360 with 1 Axes>"
      ]
     },
     "metadata": {
      "needs_background": "light"
     },
     "output_type": "display_data"
    }
   ],
   "source": [
    "plt.rcParams['figure.figsize'] = [20, 5]\n",
    "ax = sns.violinplot(x = \"start\", y=\"value\", data=union_vals_long[union_vals_long[\"start\"].isin(start[0:15])])\n",
    "ax.set_xlabel(\"Example peaks\")\n",
    "ax.set_ylabel(\"Values\")\n",
    "ax.set_title(\"Some union peaks values accross the 50 individuals\")"
   ]
  },
  {
   "cell_type": "code",
   "execution_count": 24,
   "metadata": {},
   "outputs": [
    {
     "data": {
      "text/plain": [
       "Text(0.5, 1.0, 'SD of track values at union peaks')"
      ]
     },
     "execution_count": 24,
     "metadata": {},
     "output_type": "execute_result"
    },
    {
     "data": {
      "image/png": "[encoded data removed]",
      "text/plain": [
       "<Figure size 720x360 with 1 Axes>"
      ]
     },
     "metadata": {
      "needs_background": "light"
     },
     "output_type": "display_data"
    }
   ],
   "source": [
    "plt.rcParams['figure.figsize'] = [10, 5]\n",
    "plot = union_vals[\"SD_ATAC_union\"].plot.kde()\n",
    "plot.set_xlabel(\"Distribution of Standard Deviation\")\n",
    "plot.set_title(\"SD of track values at union peaks\")\n",
    "\n"
   ]
  },
  {
   "cell_type": "code",
   "execution_count": 25,
   "metadata": {},
   "outputs": [
    {
     "data": {
      "text/plain": [
       "count    29777.000000\n",
       "mean         0.852358\n",
       "std          0.851782\n",
       "min          0.155754\n",
       "25%          0.323095\n",
       "50%          0.504309\n",
       "75%          1.039336\n",
       "max          8.359380\n",
       "Name: SD_ATAC_union, dtype: float64"
      ]
     },
     "execution_count": 25,
     "metadata": {},
     "output_type": "execute_result"
    }
   ],
   "source": [
    "union_vals[\"SD_ATAC_union\"].describe()"
   ]
  },
  {
   "cell_type": "markdown",
   "metadata": {},
   "source": [
    "Now we will plot values for some peaks with high SD"
   ]
  },
  {
   "cell_type": "code",
   "execution_count": 26,
   "metadata": {},
   "outputs": [
    {
     "data": {
      "image/png": "[encoded data removed]",
      "text/plain": [
       "<Figure size 1440x360 with 1 Axes>"
      ]
     },
     "metadata": {
      "needs_background": "light"
     },
     "output_type": "display_data"
    }
   ],
   "source": [
    "cutoff = 1.04\n",
    "union_vals_long_high_variation = union_vals_long[union_vals_long[\"SD_ATAC_union\"]> cutoff]\n",
    "start_high_variation= union_vals_long_high_variation[\"start\"].unique()\n",
    "plt.rcParams['figure.figsize'] = [20, 5]\n",
    "ax = sns.violinplot(x = \"start\", y=\"value\", data=union_vals_long_high_variation[union_vals_long_high_variation[\"start\"].isin(start_high_variation[0:15])])\n",
    "ax.set_xlabel(\"Variable example peaks values\")\n",
    "ax.set_ylabel(\"Values\")\n",
    "ax.set_title(\"Some highly variable union peaks, std > \" + str(cutoff))\n",
    "ax.set(ylim=(-1, 20))\n",
    "plt.savefig('some_high_var_peaks.png', dpi =500)"
   ]
  },
  {
   "cell_type": "code",
   "execution_count": 27,
   "metadata": {},
   "outputs": [
    {
     "data": {
      "image/png": "[encoded data removed]",
      "text/plain": [
       "<Figure size 1440x360 with 1 Axes>"
      ]
     },
     "metadata": {
      "needs_background": "light"
     },
     "output_type": "display_data"
    }
   ],
   "source": [
    "cutoff = 1.04\n",
    "union_vals_long_low_variation = union_vals_long[union_vals_long[\"SD_ATAC_union\"]<= cutoff]\n",
    "start_low_variation= union_vals_long_low_variation[\"start\"].unique()\n",
    "plt.rcParams['figure.figsize'] = [20, 5]\n",
    "ax = sns.violinplot(x = \"start\", y=\"value\", data=union_vals_long_low_variation[union_vals_long_low_variation[\"start\"].isin(start_low_variation[0:15])])\n",
    "ax.set_xlabel(\"Low variation example peaks values\")\n",
    "ax.set_ylabel(\"Values\")\n",
    "ax.set_title(\"Some low variation union peaks, std < \"+ str(cutoff))\n",
    "ax.set(ylim=(-1, 20))\n",
    "plt.savefig('some_low_var_peaks.png', dpi =500)"
   ]
  },
  {
   "cell_type": "markdown",
   "metadata": {},
   "source": [
    "We need to control for max peak values to see variation while controling for peak size, because larger peaks would otherwise look as if they vary more."
   ]
  },
  {
   "cell_type": "code",
   "execution_count": 29,
   "metadata": {},
   "outputs": [
    {
     "data": {
      "text/plain": [
       "count    29777.000000\n",
       "mean         0.395619\n",
       "std          0.118280\n",
       "min          0.235023\n",
       "25%          0.340022\n",
       "50%          0.372798\n",
       "75%          0.420308\n",
       "max          5.059216\n",
       "Name: CoefOfVar_(SD/Mean)_ATAC_union, dtype: float64"
      ]
     },
     "execution_count": 29,
     "metadata": {},
     "output_type": "execute_result"
    }
   ],
   "source": [
    "union_vals[\"CoefOfVar_(SD/Mean)_ATAC_union\"].describe()"
   ]
  },
  {
   "cell_type": "code",
   "execution_count": 30,
   "metadata": {},
   "outputs": [
    {
     "data": {
      "image/png": "[encoded data removed]",
      "text/plain": [
       "<Figure size 1440x360 with 1 Axes>"
      ]
     },
     "metadata": {
      "needs_background": "light"
     },
     "output_type": "display_data"
    }
   ],
   "source": [
    "cutoff = 0.42\n",
    "union_vals_long_relative_high_variation = union_vals_long[union_vals_long[\"CoefOfVar_(SD/Mean)_ATAC_union\"]> cutoff]\n",
    "start_relative_high_variation= union_vals_long_relative_high_variation[\"start\"].unique()\n",
    "plt.rcParams['figure.figsize'] = [20, 5]\n",
    "ax = sns.violinplot(x = \"start\", y=\"value\", data=union_vals_long_relative_high_variation[union_vals_long_relative_high_variation[\"start\"].isin(start_relative_high_variation[0:20])])\n",
    "ax.set_xlabel(\"Variable example peaks values\")\n",
    "ax.set_ylabel(\"Values\")\n",
    "ax.set_title(\"Some highly variable union peaks, SD/Mean > \" + str(cutoff))\n",
    "ax.set(ylim=(-1, 10))\n",
    "plt.savefig('some_high_var_peaks_relative_to_mean.png', dpi =500)"
   ]
  },
  {
   "cell_type": "code",
   "execution_count": 36,
   "metadata": {},
   "outputs": [
    {
     "data": {
      "image/png": "[encoded data removed]",
      "text/plain": [
       "<Figure size 1440x360 with 1 Axes>"
      ]
     },
     "metadata": {
      "needs_background": "light"
     },
     "output_type": "display_data"
    }
   ],
   "source": [
    "cutoff = 0.34\n",
    "union_vals_long_relative_low_variation = union_vals_long[union_vals_long[\"CoefOfVar_(SD/Mean)_ATAC_union\"]<= cutoff]\n",
    "start_relative_low_variation= union_vals_long_relative_low_variation[\"start\"].unique()\n",
    "plt.rcParams['figure.figsize'] = [20, 5]\n",
    "ax = sns.violinplot(x = \"start\", y=\"value\", data=union_vals_long_relative_low_variation[union_vals_long_relative_low_variation[\"start\"].isin(start_relative_low_variation[0:20])])\n",
    "ax.set_xlabel(\"Variable example peaks values\")\n",
    "ax.set_ylabel(\"Values\")\n",
    "ax.set_title(\"Some low variation union peaks, SD/Max < \" + str(cutoff))\n",
    "ax.set(ylim=(-1, 10))\n",
    "plt.savefig('some_low_var_peaks_relative_to_mean.png', dpi =500)"
   ]
  },
  {
   "cell_type": "code",
   "execution_count": 46,
   "metadata": {},
   "outputs": [
    {
     "data": {
      "image/png": "[encoded data removed]",
      "text/plain": [
       "<Figure size 360x360 with 1 Axes>"
      ]
     },
     "metadata": {
      "needs_background": "light"
     },
     "output_type": "display_data"
    }
   ],
   "source": [
    "\n",
    "plt = sns.displot(union_vals, x=\"CoefOfVar_(SD/Mean)_ATAC_union\", binwidth=0.2).set(title=\"Coefficient of Variation at Union peaks\")\n",
    "\n",
    "#plt.savefig('/datashare/project/fgenomics/jinchaus/rotation/plots/Coefficient_of_Var_peaks_filtered_union.png', dpi =400)\n"
   ]
  },
  {
   "cell_type": "code",
   "execution_count": null,
   "metadata": {},
   "outputs": [],
   "source": [
    "union_vals.rename({'start':'start-ATAC-union', 'end':'end-ATAC-union', 'length':'length-ATAC-union', 'Max_peak_value':'Max_peak_value_ATAC'}, axis = 1, inplace =True)\n",
    "#union_vals[[\"Chromosome\", \"start-ATAC-union\", \"end-ATAC-union\", \"length-ATAC-union\", \"Max_peak_value_ATAC\", \"CoefOfVar_Q1Q3_(SD/Mean)_ATAC_union\", \"SD_ATAC_union\",\"Mean_ATAC_union\",\"Min_ATAC_union\",\"Max_ATAC_union\",\"CoefOfVar_(SD/Mean)_ATAC_union\", \"Max-Mean_ATAC_union\"]].to_csv(\"/t1-data/project/fgenomics/jinchaus/rotation/50Donors/peakcall/ATAC/lanceotron/maxunion/MLV_bedtools_100bp_union_ATAC_lanceotron_values_with_variance.csv\", sep = \"\\t\", index=False)\n",
    "#union_vals[[\"Chromosome\", \"start-ATAC-union\", \"end-ATAC-union\", \"length-ATAC-union\", \"Max_peak_value_ATAC\",\"CoefOfVar_Q1Q3_(SD/Mean)_ATAC_union\", \"SD_ATAC_union\",\"Mean_ATAC_union\",\"Min_ATAC_union\",\"Max_ATAC_union\",\"CoefOfVar_(SD/Mean)_ATAC_union\", \"Max-Mean_ATAC_union\"]].to_csv(\"/datashare/project/fgenomics/jinchaus/rotation/lanceotron/ATAC/MLV_bedtools_100bp_union_ATAC_lanceotron_values_with_variance.csv\", sep = \"\\t\", index=False)\n"
   ]
  },
  {
   "cell_type": "markdown",
   "metadata": {},
   "source": [
    "# Merge individual H3K27ac files with values from Union "
   ]
  },
  {
   "cell_type": "markdown",
   "metadata": {},
   "source": [
    "Starting with 500 bp window, then change window"
   ]
  },
  {
   "cell_type": "code",
   "execution_count": null,
   "metadata": {},
   "outputs": [],
   "source": [
    "import sys  \n",
    "sys.path.insert(0, '/t1-data/project/fgenomics/jinchaus/rotation/50Donors/peakcall/H3K27ac/sumunion/with-ID')"
   ]
  },
  {
   "cell_type": "code",
   "execution_count": null,
   "metadata": {},
   "outputs": [],
   "source": [
    "\n",
    "path = \"/t1-data/project/fgenomics/jinchaus/rotation/50Donors/peakcall/H3K27ac/sumunion/with_ID\" # use your path\n"
   ]
  },
  {
   "cell_type": "code",
   "execution_count": null,
   "metadata": {},
   "outputs": [],
   "source": [
    "window=\"500-600\" # change window here"
   ]
  },
  {
   "cell_type": "code",
   "execution_count": null,
   "metadata": {},
   "outputs": [],
   "source": [
    "union_vals = pd.read_csv(\"/t1-data/project/fgenomics/jinchaus/rotation/50Donors/peakcall/H3K27ac/sumunion/with_ID/Don001_H3K27ac_\"+window+\"bp_lanceotron_values_union_with_ID.bed\", delimiter=' ')\n",
    " \n",
    "for don in range(2,10):\n",
    "    file = pd.read_csv(path+\"/Don00\"+str(don)+\"_H3K27ac_\"+window+\"bp_lanceotron_values_union_with_ID.bed\", delimiter=' ')\n",
    "    union_vals = union_vals.merge(file, on= [\"Chromosome\", \"start-\"+window, \"end-\"+window,\"start-ATAC-union\", \"end-ATAC-union\", \"length-ATAC-union\"])\n",
    " "
   ]
  },
  {
   "cell_type": "code",
   "execution_count": null,
   "metadata": {},
   "outputs": [],
   "source": [
    "for don in range(10,51):\n",
    "    file = pd.read_csv(path+\"/Don0\"+str(don)+\"_H3K27ac_\"+window+\"bp_lanceotron_values_union_with_ID.bed\", delimiter=' ')\n",
    "    union_vals = union_vals.merge(file, on= [\"Chromosome\", \"start-\"+window, \"end-\"+window,\"start-ATAC-union\", \"end-ATAC-union\", \"length-ATAC-union\"])\n",
    " "
   ]
  },
  {
   "cell_type": "code",
   "execution_count": null,
   "metadata": {},
   "outputs": [],
   "source": [
    "Donors = list(union_vals)[6:]\n",
    "union_vals2 = union_vals.copy() # To send to simone for Self Organising Maps\n"
   ]
  },
  {
   "cell_type": "code",
   "execution_count": null,
   "metadata": {},
   "outputs": [],
   "source": [
    "union_vals2"
   ]
  },
  {
   "cell_type": "code",
   "execution_count": null,
   "metadata": {},
   "outputs": [],
   "source": [
    "union_vals2[\"ID\"] = union_vals2[\"Chromosome\"].str.cat(union_vals2[[\"start-500-600\", \"end-500-600\"]].astype(str), sep=\"-\")\n",
    "Donors2 = list(union_vals2)[6:]\n",
    "Donors2 = [Donors2[-1]] + Donors2[:-1]\n",
    "union_vals2 = union_vals2[Donors2]\n",
    "\n",
    "path1 = \"/t1-data/project/fgenomics/jinchaus/rotation/50Donors/peakcall/H3K27ac/sumunion/Values_only_H3K27ac_window\"+window+\"bp.csv\"\n",
    "path2 = \"/datashare/project/fgenomics/jinchaus/rotation/lanceotron/ATAC/Values_only_H3K27ac_window\"+window+\"bp.csv\"\n",
    "#union_vals2.to_csv(path1, sep = \"\\t\", index=False)\n",
    "#union_vals2.to_csv(path2, sep = \"\\t\", index=False)"
   ]
  },
  {
   "cell_type": "code",
   "execution_count": null,
   "metadata": {},
   "outputs": [],
   "source": [
    "union_vals3 = union_vals.copy()\n",
    "union_vals3[\"ID\"] = union_vals3[\"Chromosome\"].str.cat(union_vals3[[\"start-ATAC-union\", \"end-ATAC-union\"]].astype(str), sep=\"-\")\n",
    "Donors3 = list(union_vals3)[6:]\n",
    "Donors3 = [Donors3[-1]] + Donors3[:-1]\n",
    "union_vals3 = union_vals3[Donors3]\n",
    "union_vals3"
   ]
  },
  {
   "cell_type": "code",
   "execution_count": null,
   "metadata": {},
   "outputs": [],
   "source": [
    "\n",
    "path1 = \"/t1-data/project/fgenomics/jinchaus/rotation/50Donors/peakcall/H3K27ac/sumunion/Values_only_H3K27ac_window\"+window+\"bp_ATAC_ID.csv\"\n",
    "path2 = \"/datashare/project/fgenomics/jinchaus/rotation/lanceotron/ATAC/Values_only_H3K27ac_window\"+window+\"bp_ATAC_ID.csv\"\n",
    "#union_vals3.to_csv(path1, sep = \"\\t\", index=False)\n",
    "#union_vals3.to_csv(path2, sep = \"\\t\", index=False)"
   ]
  },
  {
   "cell_type": "markdown",
   "metadata": {},
   "source": [
    "# H3K27ac Statistical analysis to find variable peaks"
   ]
  },
  {
   "cell_type": "code",
   "execution_count": null,
   "metadata": {},
   "outputs": [],
   "source": [
    "df = union_vals[Donors]"
   ]
  },
  {
   "cell_type": "code",
   "execution_count": null,
   "metadata": {},
   "outputs": [],
   "source": [
    "df = df.T"
   ]
  },
  {
   "cell_type": "code",
   "execution_count": null,
   "metadata": {
    "scrolled": false
   },
   "outputs": [],
   "source": [
    "def ks_test(x,y):\n",
    "    return stats.ks_2samp(x, y)[-1]\n",
    "def mwu_test(x,y):\n",
    "    return stats.mannwhitneyu(x, y)[-1]\n",
    "\n",
    "ks_results = {}\n",
    "\n",
    "for peak in df.columns[:]:\n",
    "    temp = np.array(df[peak])\n",
    "    \n",
    "    pvals = []\n",
    "    for rep in range(101):\n",
    "        random_donors = random.sample(range(0,49), 20)\n",
    "        temp1= temp[random_donors] \n",
    "        mask = np.ones(50, dtype=bool)\n",
    "        mask[random_donors] = False\n",
    "        temp2 = temp[mask]\n",
    "        random_donors_2 = random.sample(range(0,29), 20)\n",
    "        temp3 = temp2[random_donors_2]\n",
    "        pval= ks_test(temp1, temp3)\n",
    "        pvals.append(pval)\n",
    "        \n",
    "        \n",
    "        \n",
    "    ks_results[peak] = pvals\n"
   ]
  },
  {
   "cell_type": "code",
   "execution_count": null,
   "metadata": {},
   "outputs": [],
   "source": [
    "results = pd.DataFrame.from_dict(ks_results).median()"
   ]
  },
  {
   "cell_type": "code",
   "execution_count": null,
   "metadata": {},
   "outputs": [],
   "source": [
    "results.plot()"
   ]
  },
  {
   "cell_type": "markdown",
   "metadata": {},
   "source": [
    "Not significant. Now trying to run tests on quantiles instead. We find that it's always significant."
   ]
  },
  {
   "cell_type": "code",
   "execution_count": null,
   "metadata": {},
   "outputs": [],
   "source": [
    "min(pd.DataFrame.from_dict(ks_results).median())"
   ]
  },
  {
   "cell_type": "code",
   "execution_count": null,
   "metadata": {},
   "outputs": [],
   "source": [
    "temp1 = temp[temp < np.percentile(temp,50)]\n",
    "print(temp1)\n",
    "\n",
    "temp2 = temp[temp >= np.percentile(temp,50)]\n",
    "print(temp2)\n",
    "\n",
    "pval= ks_test(temp1, temp2)\n",
    "\n",
    "print(pval)"
   ]
  },
  {
   "cell_type": "code",
   "execution_count": null,
   "metadata": {},
   "outputs": [],
   "source": [
    "bonferroni_p_val = 0.1e29777"
   ]
  },
  {
   "cell_type": "code",
   "execution_count": null,
   "metadata": {},
   "outputs": [],
   "source": [
    "bonferroni_p_val"
   ]
  },
  {
   "cell_type": "code",
   "execution_count": null,
   "metadata": {},
   "outputs": [],
   "source": [
    "df_pvals = pd.DataFrame(pvals) "
   ]
  },
  {
   "cell_type": "code",
   "execution_count": null,
   "metadata": {},
   "outputs": [],
   "source": [
    "pd.DataFrame(pvals).describe()"
   ]
  },
  {
   "cell_type": "code",
   "execution_count": null,
   "metadata": {},
   "outputs": [],
   "source": [
    "CoeffsVarQ1Q3 = []\n",
    "\n",
    "for peak in df.columns[:]:\n",
    "    temp = np.array(df[peak])\n",
    "    quantiles = pd.qcut(temp, q = 3, labels=False, duplicates = \"drop\")\n",
    "    temp1 = temp[(quantiles == 0) | (quantiles == 2)]\n",
    "    CoeffVarQ1Q3= temp1.std()/temp1.mean()\n",
    "    CoeffsVarQ1Q3.append(CoeffVarQ1Q3)\n"
   ]
  },
  {
   "cell_type": "code",
   "execution_count": null,
   "metadata": {},
   "outputs": [],
   "source": [
    "union_vals[\"CoefOfVar_Q1Q3_K27_\"+window+\"_union\"] = CoeffsVarQ1Q3 "
   ]
  },
  {
   "cell_type": "code",
   "execution_count": null,
   "metadata": {},
   "outputs": [],
   "source": [
    "union_vals[\"CoefOfVar_Q1Q3_K27_\"+window+\"_union\"].plot()"
   ]
  },
  {
   "cell_type": "code",
   "execution_count": null,
   "metadata": {},
   "outputs": [],
   "source": [
    "pd.DataFrame(sorted(union_vals[\"CoefOfVar_Q1Q3_K27_\"+window+\"_union\"])).plot()"
   ]
  },
  {
   "cell_type": "code",
   "execution_count": null,
   "metadata": {},
   "outputs": [],
   "source": [
    "plt.rcParams['figure.figsize'] = [20, 5]\n",
    "plot = union_vals[\"CoefOfVar_Q1Q3_K27_\"+window+\"_union\"].plot.kde()\n",
    "plot.set_xlabel(\"Distribution of the Variation Coefficient when taking extremeties\")\n"
   ]
  },
  {
   "cell_type": "markdown",
   "metadata": {},
   "source": [
    "# Calculating more metrics "
   ]
  },
  {
   "cell_type": "code",
   "execution_count": null,
   "metadata": {},
   "outputs": [],
   "source": [
    "union_vals[\"Max_K27_\"+window+\"bp_union\"] = union_vals[Donors].max(axis = 1)"
   ]
  },
  {
   "cell_type": "code",
   "execution_count": null,
   "metadata": {},
   "outputs": [],
   "source": [
    "union_vals[\"Min_K27_\"+window+\"bp_union\"] = union_vals[Donors].min(axis = 1)"
   ]
  },
  {
   "cell_type": "code",
   "execution_count": null,
   "metadata": {},
   "outputs": [],
   "source": [
    "union_vals[\"Drop_(Max-Min/Max)_K27_\"+window+\"bp_union\"] = (union_vals[\"Max_K27_\"+window+\"bp_union\"]-union_vals[\"Min_K27_\"+window+\"bp_union\"])/union_vals[\"Max_K27_\"+window+\"bp_union\"]"
   ]
  },
  {
   "cell_type": "code",
   "execution_count": null,
   "metadata": {},
   "outputs": [],
   "source": [
    "union_vals[\"Mean_K27_\"+window+\"bp_union\"] = union_vals[Donors].mean(axis = 1)"
   ]
  },
  {
   "cell_type": "code",
   "execution_count": null,
   "metadata": {},
   "outputs": [],
   "source": [
    "union_vals[\"SD_K27_\"+window+\"bp_union\"] = union_vals[Donors].std(axis = 1)"
   ]
  },
  {
   "cell_type": "code",
   "execution_count": null,
   "metadata": {},
   "outputs": [],
   "source": [
    "#union_vals[\"MedianAbsDev_K27_\"+window+\"bp_union/Mean\"] = union_vals[Donors].apply(lambda x: stats.median_abs_deviation(x)/(x.mean()), axis = 1)"
   ]
  },
  {
   "cell_type": "code",
   "execution_count": null,
   "metadata": {},
   "outputs": [],
   "source": [
    "union_vals[\"CoefOfVar_K27_\"+window+\"bp_union\"] = union_vals[\"SD_K27_\"+window+\"bp_union\"]/union_vals[\"Mean_K27_\"+window+\"bp_union\"]\n"
   ]
  },
  {
   "cell_type": "code",
   "execution_count": null,
   "metadata": {},
   "outputs": [],
   "source": [
    "#union_vals[\"Max-Mean_K27_\"+window+\"bp_union\"] = union_vals[\"Max_K27_\"+window+\"bp_union\"] - union_vals[\"Mean_K27_\"+window+\"bp_union\"]\n",
    "\n"
   ]
  },
  {
   "cell_type": "code",
   "execution_count": null,
   "metadata": {},
   "outputs": [],
   "source": [
    "#union_vals[\"Mean-Min_K27_\"+window+\"bp_union\"] = union_vals[\"Mean_K27_\"+window+\"bp_union\"] - union_vals[\"Min_K27_\"+window+\"bp_union\"]\n"
   ]
  },
  {
   "cell_type": "code",
   "execution_count": null,
   "metadata": {},
   "outputs": [],
   "source": [
    "maincols = union_vals.columns[~union_vals.columns.str.contains(\"Don\")]"
   ]
  },
  {
   "cell_type": "code",
   "execution_count": null,
   "metadata": {},
   "outputs": [],
   "source": [
    "union_vals[maincols]"
   ]
  },
  {
   "cell_type": "code",
   "execution_count": null,
   "metadata": {},
   "outputs": [],
   "source": [
    "\n",
    "path1 = \"/t1-data/project/fgenomics/jinchaus/rotation/50Donors/peakcall/H3K27ac/sumunion/MLV_union_H3K27ac_window\"+window+\"bp_lanceotron_values_with_variance.csv\""
   ]
  },
  {
   "cell_type": "code",
   "execution_count": null,
   "metadata": {},
   "outputs": [],
   "source": [
    "path2 = \"/datashare/project/fgenomics/jinchaus/rotation/lanceotron/ATAC/MLV_union_H3K27ac_window\"+window+\"bp_lanceotron_values_with_variance.csv\""
   ]
  },
  {
   "cell_type": "code",
   "execution_count": null,
   "metadata": {},
   "outputs": [],
   "source": [
    "#union_vals[maincols].to_csv(path1, sep = \"\\t\", index=False)\n",
    "#union_vals[maincols].to_csv(path2, sep = \"\\t\", index=False)"
   ]
  },
  {
   "cell_type": "code",
   "execution_count": null,
   "metadata": {},
   "outputs": [],
   "source": [
    "pd.read_csv(path1, sep = \"\\t\" )"
   ]
  },
  {
   "cell_type": "markdown",
   "metadata": {},
   "source": [
    "# Merging all metrics from ATAC and H3K27ac"
   ]
  },
  {
   "cell_type": "code",
   "execution_count": 101,
   "metadata": {},
   "outputs": [],
   "source": [
    "H3K27ac_500bp = pd.read_csv(\"/t1-data/project/fgenomics/jinchaus/rotation/50Donors/peakcall/H3K27ac/sumunion/MLV_union_H3K27ac_window500bp_lanceotron_values_with_variance.csv\", sep = \"\\t\" )\n",
    "H3K27ac_500_300bp = pd.read_csv(\"/t1-data/project/fgenomics/jinchaus/rotation/50Donors/peakcall/H3K27ac/sumunion/MLV_union_H3K27ac_window500-300bp_lanceotron_values_with_variance.csv\", sep = \"\\t\" )\n",
    "H3K27ac_500_600bp = pd.read_csv(\"/t1-data/project/fgenomics/jinchaus/rotation/50Donors/peakcall/H3K27ac/sumunion/MLV_union_H3K27ac_window500-600bp_lanceotron_values_with_variance.csv\", sep = \"\\t\" )\n",
    "ATAC_union= pd.read_csv(\"/t1-data/project/fgenomics/jinchaus/rotation/50Donors/peakcall/ATAC/lanceotron/maxunion/MLV_bedtools_100bp_union_ATAC_lanceotron_values_with_variance.csv\", sep = \"\\t\" )\n",
    "\n",
    "ATAC_union_total_n_peaks= pd.read_csv(\"/t1-data/project/fgenomics/jinchaus/rotation/50Donors/peakcall/ATAC/lanceotron/maxpeaks/Union_filtered_T60_L150_M30_Total_n_peaks.csv\", sep = \"\\t\" )\n",
    "\n",
    "\n",
    "\n"
   ]
  },
  {
   "cell_type": "code",
   "execution_count": 107,
   "metadata": {},
   "outputs": [],
   "source": [
    "ATAC_union = ATAC_union.merge(ATAC_union_total_n_peaks, on= [\"Chromosome\", \"start-ATAC-union\", \"end-ATAC-union\"]) "
   ]
  },
  {
   "cell_type": "code",
   "execution_count": 108,
   "metadata": {},
   "outputs": [],
   "source": [
    "main_union_file = ATAC_union.merge(H3K27ac_500bp, on= [\"Chromosome\", \"start-ATAC-union\", \"end-ATAC-union\", \"length-ATAC-union\"])\n",
    " "
   ]
  },
  {
   "cell_type": "code",
   "execution_count": 109,
   "metadata": {},
   "outputs": [],
   "source": [
    "main_union_file = main_union_file.merge(H3K27ac_500_300bp, on= [\"Chromosome\", \"start-ATAC-union\", \"end-ATAC-union\", \"length-ATAC-union\"])\n",
    " "
   ]
  },
  {
   "cell_type": "code",
   "execution_count": 110,
   "metadata": {},
   "outputs": [],
   "source": [
    "main_union_file = main_union_file.merge(H3K27ac_500_600bp, on= [\"Chromosome\", \"start-ATAC-union\", \"end-ATAC-union\", \"length-ATAC-union\"])\n"
   ]
  },
  {
   "cell_type": "code",
   "execution_count": 111,
   "metadata": {},
   "outputs": [],
   "source": [
    "path1 = \"/t1-data/project/fgenomics/jinchaus/rotation/50Donors/peakcall/H3K27ac/sumunion/MLV_main_union ATAC_K27_with_variance.csv\""
   ]
  },
  {
   "cell_type": "code",
   "execution_count": 61,
   "metadata": {},
   "outputs": [],
   "source": [
    "path2 = \"/datashare/project/fgenomics/jinchaus/rotation/lanceotron/ATAC/MLV_main_union ATAC_K27_with_variance.csv\""
   ]
  },
  {
   "cell_type": "code",
   "execution_count": 62,
   "metadata": {},
   "outputs": [],
   "source": [
    "#main_union_file.to_csv(path1, sep = \"\\t\", index=False)\n",
    "#main_union_file.to_csv(path2, sep = \"\\t\", index=False)"
   ]
  },
  {
   "cell_type": "code",
   "execution_count": 113,
   "metadata": {},
   "outputs": [],
   "source": [
    "main_union_file['TotalN_ATAC_peaks_called']= pd.to_numeric(main_union_file['TotalN_ATAC_peaks_called'])"
   ]
  },
  {
   "cell_type": "code",
   "execution_count": 122,
   "metadata": {},
   "outputs": [
    {
     "data": {
      "image/png": "[encoded data removed]",
      "text/plain": [
       "<Figure size 720x360 with 1 Axes>"
      ]
     },
     "metadata": {
      "needs_background": "light"
     },
     "output_type": "display_data"
    }
   ],
   "source": [
    "plot = sns.scatterplot(data=main_union_file, \n",
    "                x='CoefOfVar_(SD/Mean)_ATAC_union', \n",
    "                y='CoefOfVar_K27_500-600bp_union', \n",
    "                hue=\"TotalN_ATAC_peaks_called\")\n",
    "\n",
    "plot.set(title=\"Coefficient of Variations ATAC and H3K27ac\",\n",
    "        xlabel = \"Coefficient of Variation ATAC\", \n",
    "        ylabel = \"Coefficient of Variation H3K27ac\")\n",
    "plot.legend(title=\"Number Peaks called\");\n",
    "fig = plot.get_figure()\n",
    "\n",
    "fig.savefig('/datashare/project/fgenomics/jinchaus/rotation/plots/Coefficients_of_Variation.png', dpi =400)\n"
   ]
  },
  {
   "cell_type": "markdown",
   "metadata": {},
   "source": [
    "# Merging all metrics for SOM"
   ]
  },
  {
   "cell_type": "code",
   "execution_count": 63,
   "metadata": {},
   "outputs": [],
   "source": [
    "for_SOM = main_union_file.copy()"
   ]
  },
  {
   "cell_type": "code",
   "execution_count": 64,
   "metadata": {},
   "outputs": [],
   "source": [
    "for_SOM[\"ID\"] = for_SOM[\"Chromosome\"].str.cat(for_SOM[[\"start-ATAC-union\", \"end-ATAC-union\"]].astype(str), sep=\"-\")"
   ]
  },
  {
   "cell_type": "code",
   "execution_count": 65,
   "metadata": {},
   "outputs": [],
   "source": [
    "path3 = \"/datashare/project/fgenomics/jinchaus/rotation/lanceotron/ATAC/metrics_forSOM.csv\"\n",
    "#for_SOM[['ID','CoefOfVar_K27_500-600bp_union', 'CoefOfVar_(SD/Mean)_ATAC_union', 'Drop_(Max-Min/Max)_K27_500-600bp_union', 'Min_K27_500-600bp_union','Min_ATAC_union','Mean_ATAC_union', 'Mean_K27_500-600bp_union', 'TotalN_ATAC_peaks_called']].to_csv(path3, sep = \"\\t\", index=False)"
   ]
  },
  {
   "cell_type": "code",
   "execution_count": 66,
   "metadata": {},
   "outputs": [],
   "source": [
    "low_ATAC_Var = main_union_file[(main_union_file['Min_ATAC_union']>0.5) & (main_union_file['CoefOfVar_(SD/Mean)_ATAC_union']<1.3)].sort_values(by = 'CoefOfVar_(SD/Mean)_ATAC_union')\n"
   ]
  },
  {
   "cell_type": "code",
   "execution_count": 68,
   "metadata": {},
   "outputs": [
    {
     "data": {
      "text/html": [
       "<div>\n",
       "<style scoped>\n",
       "    .dataframe tbody tr th:only-of-type {\n",
       "        vertical-align: middle;\n",
       "    }\n",
       "\n",
       "    .dataframe tbody tr th {\n",
       "        vertical-align: top;\n",
       "    }\n",
       "\n",
       "    .dataframe thead th {\n",
       "        text-align: right;\n",
       "    }\n",
       "</style>\n",
       "<table border=\"1\" class=\"dataframe\">\n",
       "  <thead>\n",
       "    <tr style=\"text-align: right;\">\n",
       "      <th></th>\n",
       "      <th>Chromosome</th>\n",
       "      <th>start-ATAC-union</th>\n",
       "      <th>end-ATAC-union</th>\n",
       "      <th>length-ATAC-union</th>\n",
       "      <th>Max_peak_value_ATAC</th>\n",
       "      <th>CoefOfVar_Q1Q3_(SD/Mean)_ATAC_union</th>\n",
       "      <th>SD_ATAC_union</th>\n",
       "      <th>Mean_ATAC_union</th>\n",
       "      <th>Min_ATAC_union</th>\n",
       "      <th>Max_ATAC_union</th>\n",
       "      <th>...</th>\n",
       "      <th>CoefOfVar_K27_500-300bp_union</th>\n",
       "      <th>start-500-600</th>\n",
       "      <th>end-500-600</th>\n",
       "      <th>CoefOfVar_Q1Q3_K27_500-600_union</th>\n",
       "      <th>Max_K27_500-600bp_union</th>\n",
       "      <th>Min_K27_500-600bp_union</th>\n",
       "      <th>Drop_(Max-Min/Max)_K27_500-600bp_union</th>\n",
       "      <th>Mean_K27_500-600bp_union</th>\n",
       "      <th>SD_K27_500-600bp_union</th>\n",
       "      <th>CoefOfVar_K27_500-600bp_union</th>\n",
       "    </tr>\n",
       "  </thead>\n",
       "  <tbody>\n",
       "    <tr>\n",
       "      <th>11833</th>\n",
       "      <td>chr17</td>\n",
       "      <td>59331187</td>\n",
       "      <td>59332158</td>\n",
       "      <td>971</td>\n",
       "      <td>2.24300</td>\n",
       "      <td>0.278296</td>\n",
       "      <td>0.343706</td>\n",
       "      <td>1.462433</td>\n",
       "      <td>0.538128</td>\n",
       "      <td>2.24300</td>\n",
       "      <td>...</td>\n",
       "      <td>0.504415</td>\n",
       "      <td>59330572</td>\n",
       "      <td>59332772</td>\n",
       "      <td>0.561280</td>\n",
       "      <td>745.791036</td>\n",
       "      <td>100.114100</td>\n",
       "      <td>0.865761</td>\n",
       "      <td>241.701716</td>\n",
       "      <td>119.277197</td>\n",
       "      <td>0.493489</td>\n",
       "    </tr>\n",
       "    <tr>\n",
       "      <th>11607</th>\n",
       "      <td>chr17</td>\n",
       "      <td>42676717</td>\n",
       "      <td>42677679</td>\n",
       "      <td>962</td>\n",
       "      <td>5.64051</td>\n",
       "      <td>0.296031</td>\n",
       "      <td>0.886016</td>\n",
       "      <td>3.596432</td>\n",
       "      <td>1.761970</td>\n",
       "      <td>5.64051</td>\n",
       "      <td>...</td>\n",
       "      <td>0.302473</td>\n",
       "      <td>42676098</td>\n",
       "      <td>42678298</td>\n",
       "      <td>0.346786</td>\n",
       "      <td>9911.208795</td>\n",
       "      <td>2400.221400</td>\n",
       "      <td>0.757828</td>\n",
       "      <td>5196.035282</td>\n",
       "      <td>1562.473244</td>\n",
       "      <td>0.300705</td>\n",
       "    </tr>\n",
       "    <tr>\n",
       "      <th>6307</th>\n",
       "      <td>chr12</td>\n",
       "      <td>7932923</td>\n",
       "      <td>7933886</td>\n",
       "      <td>963</td>\n",
       "      <td>2.08795</td>\n",
       "      <td>0.295466</td>\n",
       "      <td>0.334557</td>\n",
       "      <td>1.355438</td>\n",
       "      <td>0.697121</td>\n",
       "      <td>2.08795</td>\n",
       "      <td>...</td>\n",
       "      <td>0.820733</td>\n",
       "      <td>7932304</td>\n",
       "      <td>7934504</td>\n",
       "      <td>0.919747</td>\n",
       "      <td>594.813369</td>\n",
       "      <td>12.609169</td>\n",
       "      <td>0.978801</td>\n",
       "      <td>121.625707</td>\n",
       "      <td>100.569572</td>\n",
       "      <td>0.826878</td>\n",
       "    </tr>\n",
       "    <tr>\n",
       "      <th>13698</th>\n",
       "      <td>chr19</td>\n",
       "      <td>49589806</td>\n",
       "      <td>49590809</td>\n",
       "      <td>1003</td>\n",
       "      <td>2.89257</td>\n",
       "      <td>0.300514</td>\n",
       "      <td>0.441749</td>\n",
       "      <td>1.772582</td>\n",
       "      <td>0.782732</td>\n",
       "      <td>2.89257</td>\n",
       "      <td>...</td>\n",
       "      <td>0.620675</td>\n",
       "      <td>49589208</td>\n",
       "      <td>49591408</td>\n",
       "      <td>0.599886</td>\n",
       "      <td>767.226703</td>\n",
       "      <td>67.368596</td>\n",
       "      <td>0.912192</td>\n",
       "      <td>284.158883</td>\n",
       "      <td>151.406422</td>\n",
       "      <td>0.532823</td>\n",
       "    </tr>\n",
       "    <tr>\n",
       "      <th>7574</th>\n",
       "      <td>chr12</td>\n",
       "      <td>123972454</td>\n",
       "      <td>123973421</td>\n",
       "      <td>967</td>\n",
       "      <td>2.80933</td>\n",
       "      <td>0.296823</td>\n",
       "      <td>0.415501</td>\n",
       "      <td>1.665599</td>\n",
       "      <td>0.635970</td>\n",
       "      <td>2.80933</td>\n",
       "      <td>...</td>\n",
       "      <td>0.661676</td>\n",
       "      <td>123971838</td>\n",
       "      <td>123974038</td>\n",
       "      <td>0.671817</td>\n",
       "      <td>366.177745</td>\n",
       "      <td>26.664008</td>\n",
       "      <td>0.927183</td>\n",
       "      <td>131.985755</td>\n",
       "      <td>83.460419</td>\n",
       "      <td>0.632344</td>\n",
       "    </tr>\n",
       "    <tr>\n",
       "      <th>...</th>\n",
       "      <td>...</td>\n",
       "      <td>...</td>\n",
       "      <td>...</td>\n",
       "      <td>...</td>\n",
       "      <td>...</td>\n",
       "      <td>...</td>\n",
       "      <td>...</td>\n",
       "      <td>...</td>\n",
       "      <td>...</td>\n",
       "      <td>...</td>\n",
       "      <td>...</td>\n",
       "      <td>...</td>\n",
       "      <td>...</td>\n",
       "      <td>...</td>\n",
       "      <td>...</td>\n",
       "      <td>...</td>\n",
       "      <td>...</td>\n",
       "      <td>...</td>\n",
       "      <td>...</td>\n",
       "      <td>...</td>\n",
       "      <td>...</td>\n",
       "    </tr>\n",
       "    <tr>\n",
       "      <th>24518</th>\n",
       "      <td>chr6</td>\n",
       "      <td>155314194</td>\n",
       "      <td>155315163</td>\n",
       "      <td>969</td>\n",
       "      <td>27.74490</td>\n",
       "      <td>0.396899</td>\n",
       "      <td>5.177173</td>\n",
       "      <td>15.474056</td>\n",
       "      <td>5.858260</td>\n",
       "      <td>27.74490</td>\n",
       "      <td>...</td>\n",
       "      <td>0.393277</td>\n",
       "      <td>155313578</td>\n",
       "      <td>155315778</td>\n",
       "      <td>0.444286</td>\n",
       "      <td>2054.282241</td>\n",
       "      <td>379.566295</td>\n",
       "      <td>0.815232</td>\n",
       "      <td>960.233423</td>\n",
       "      <td>369.552995</td>\n",
       "      <td>0.384857</td>\n",
       "    </tr>\n",
       "    <tr>\n",
       "      <th>12740</th>\n",
       "      <td>chr19</td>\n",
       "      <td>1275222</td>\n",
       "      <td>1276125</td>\n",
       "      <td>903</td>\n",
       "      <td>4.93447</td>\n",
       "      <td>0.392656</td>\n",
       "      <td>0.900200</td>\n",
       "      <td>2.690555</td>\n",
       "      <td>1.015110</td>\n",
       "      <td>4.93447</td>\n",
       "      <td>...</td>\n",
       "      <td>0.379752</td>\n",
       "      <td>1274574</td>\n",
       "      <td>1276774</td>\n",
       "      <td>0.432260</td>\n",
       "      <td>7086.782549</td>\n",
       "      <td>1512.608415</td>\n",
       "      <td>0.786559</td>\n",
       "      <td>2956.888152</td>\n",
       "      <td>1120.596708</td>\n",
       "      <td>0.378978</td>\n",
       "    </tr>\n",
       "    <tr>\n",
       "      <th>21617</th>\n",
       "      <td>chr5</td>\n",
       "      <td>95655270</td>\n",
       "      <td>95656207</td>\n",
       "      <td>937</td>\n",
       "      <td>4.52808</td>\n",
       "      <td>0.398137</td>\n",
       "      <td>0.903104</td>\n",
       "      <td>2.699205</td>\n",
       "      <td>1.088490</td>\n",
       "      <td>4.52808</td>\n",
       "      <td>...</td>\n",
       "      <td>0.454199</td>\n",
       "      <td>95654638</td>\n",
       "      <td>95656838</td>\n",
       "      <td>0.511711</td>\n",
       "      <td>1158.248057</td>\n",
       "      <td>173.063305</td>\n",
       "      <td>0.850582</td>\n",
       "      <td>572.188942</td>\n",
       "      <td>262.862215</td>\n",
       "      <td>0.459398</td>\n",
       "    </tr>\n",
       "    <tr>\n",
       "      <th>28246</th>\n",
       "      <td>chr9</td>\n",
       "      <td>91423385</td>\n",
       "      <td>91424269</td>\n",
       "      <td>884</td>\n",
       "      <td>5.88622</td>\n",
       "      <td>0.396048</td>\n",
       "      <td>0.965897</td>\n",
       "      <td>2.886844</td>\n",
       "      <td>1.039570</td>\n",
       "      <td>5.88622</td>\n",
       "      <td>...</td>\n",
       "      <td>0.542235</td>\n",
       "      <td>91422727</td>\n",
       "      <td>91424927</td>\n",
       "      <td>0.576670</td>\n",
       "      <td>22.741610</td>\n",
       "      <td>2.402007</td>\n",
       "      <td>0.894378</td>\n",
       "      <td>9.738020</td>\n",
       "      <td>4.924669</td>\n",
       "      <td>0.505716</td>\n",
       "    </tr>\n",
       "    <tr>\n",
       "      <th>6384</th>\n",
       "      <td>chr12</td>\n",
       "      <td>12786541</td>\n",
       "      <td>12787439</td>\n",
       "      <td>898</td>\n",
       "      <td>2.18361</td>\n",
       "      <td>0.392364</td>\n",
       "      <td>0.419078</td>\n",
       "      <td>1.252475</td>\n",
       "      <td>0.518115</td>\n",
       "      <td>2.18361</td>\n",
       "      <td>...</td>\n",
       "      <td>0.567025</td>\n",
       "      <td>12785890</td>\n",
       "      <td>12788090</td>\n",
       "      <td>0.644119</td>\n",
       "      <td>264.381197</td>\n",
       "      <td>29.656980</td>\n",
       "      <td>0.887825</td>\n",
       "      <td>96.802455</td>\n",
       "      <td>53.959872</td>\n",
       "      <td>0.557423</td>\n",
       "    </tr>\n",
       "  </tbody>\n",
       "</table>\n",
       "<p>5000 rows × 40 columns</p>\n",
       "</div>"
      ],
      "text/plain": [
       "      Chromosome  start-ATAC-union  end-ATAC-union  length-ATAC-union  \\\n",
       "11833      chr17          59331187        59332158                971   \n",
       "11607      chr17          42676717        42677679                962   \n",
       "6307       chr12           7932923         7933886                963   \n",
       "13698      chr19          49589806        49590809               1003   \n",
       "7574       chr12         123972454       123973421                967   \n",
       "...          ...               ...             ...                ...   \n",
       "24518       chr6         155314194       155315163                969   \n",
       "12740      chr19           1275222         1276125                903   \n",
       "21617       chr5          95655270        95656207                937   \n",
       "28246       chr9          91423385        91424269                884   \n",
       "6384       chr12          12786541        12787439                898   \n",
       "\n",
       "       Max_peak_value_ATAC  CoefOfVar_Q1Q3_(SD/Mean)_ATAC_union  \\\n",
       "11833              2.24300                             0.278296   \n",
       "11607              5.64051                             0.296031   \n",
       "6307               2.08795                             0.295466   \n",
       "13698              2.89257                             0.300514   \n",
       "7574               2.80933                             0.296823   \n",
       "...                    ...                                  ...   \n",
       "24518             27.74490                             0.396899   \n",
       "12740              4.93447                             0.392656   \n",
       "21617              4.52808                             0.398137   \n",
       "28246              5.88622                             0.396048   \n",
       "6384               2.18361                             0.392364   \n",
       "\n",
       "       SD_ATAC_union  Mean_ATAC_union  Min_ATAC_union  Max_ATAC_union  ...  \\\n",
       "11833       0.343706         1.462433        0.538128         2.24300  ...   \n",
       "11607       0.886016         3.596432        1.761970         5.64051  ...   \n",
       "6307        0.334557         1.355438        0.697121         2.08795  ...   \n",
       "13698       0.441749         1.772582        0.782732         2.89257  ...   \n",
       "7574        0.415501         1.665599        0.635970         2.80933  ...   \n",
       "...              ...              ...             ...             ...  ...   \n",
       "24518       5.177173        15.474056        5.858260        27.74490  ...   \n",
       "12740       0.900200         2.690555        1.015110         4.93447  ...   \n",
       "21617       0.903104         2.699205        1.088490         4.52808  ...   \n",
       "28246       0.965897         2.886844        1.039570         5.88622  ...   \n",
       "6384        0.419078         1.252475        0.518115         2.18361  ...   \n",
       "\n",
       "       CoefOfVar_K27_500-300bp_union  start-500-600  end-500-600  \\\n",
       "11833                       0.504415       59330572     59332772   \n",
       "11607                       0.302473       42676098     42678298   \n",
       "6307                        0.820733        7932304      7934504   \n",
       "13698                       0.620675       49589208     49591408   \n",
       "7574                        0.661676      123971838    123974038   \n",
       "...                              ...            ...          ...   \n",
       "24518                       0.393277      155313578    155315778   \n",
       "12740                       0.379752        1274574      1276774   \n",
       "21617                       0.454199       95654638     95656838   \n",
       "28246                       0.542235       91422727     91424927   \n",
       "6384                        0.567025       12785890     12788090   \n",
       "\n",
       "       CoefOfVar_Q1Q3_K27_500-600_union  Max_K27_500-600bp_union  \\\n",
       "11833                          0.561280               745.791036   \n",
       "11607                          0.346786              9911.208795   \n",
       "6307                           0.919747               594.813369   \n",
       "13698                          0.599886               767.226703   \n",
       "7574                           0.671817               366.177745   \n",
       "...                                 ...                      ...   \n",
       "24518                          0.444286              2054.282241   \n",
       "12740                          0.432260              7086.782549   \n",
       "21617                          0.511711              1158.248057   \n",
       "28246                          0.576670                22.741610   \n",
       "6384                           0.644119               264.381197   \n",
       "\n",
       "       Min_K27_500-600bp_union  Drop_(Max-Min/Max)_K27_500-600bp_union  \\\n",
       "11833               100.114100                                0.865761   \n",
       "11607              2400.221400                                0.757828   \n",
       "6307                 12.609169                                0.978801   \n",
       "13698                67.368596                                0.912192   \n",
       "7574                 26.664008                                0.927183   \n",
       "...                        ...                                     ...   \n",
       "24518               379.566295                                0.815232   \n",
       "12740              1512.608415                                0.786559   \n",
       "21617               173.063305                                0.850582   \n",
       "28246                 2.402007                                0.894378   \n",
       "6384                 29.656980                                0.887825   \n",
       "\n",
       "       Mean_K27_500-600bp_union  SD_K27_500-600bp_union  \\\n",
       "11833                241.701716              119.277197   \n",
       "11607               5196.035282             1562.473244   \n",
       "6307                 121.625707              100.569572   \n",
       "13698                284.158883              151.406422   \n",
       "7574                 131.985755               83.460419   \n",
       "...                         ...                     ...   \n",
       "24518                960.233423              369.552995   \n",
       "12740               2956.888152             1120.596708   \n",
       "21617                572.188942              262.862215   \n",
       "28246                  9.738020                4.924669   \n",
       "6384                  96.802455               53.959872   \n",
       "\n",
       "       CoefOfVar_K27_500-600bp_union  \n",
       "11833                       0.493489  \n",
       "11607                       0.300705  \n",
       "6307                        0.826878  \n",
       "13698                       0.532823  \n",
       "7574                        0.632344  \n",
       "...                              ...  \n",
       "24518                       0.384857  \n",
       "12740                       0.378978  \n",
       "21617                       0.459398  \n",
       "28246                       0.505716  \n",
       "6384                        0.557423  \n",
       "\n",
       "[5000 rows x 40 columns]"
      ]
     },
     "execution_count": 68,
     "metadata": {},
     "output_type": "execute_result"
    }
   ],
   "source": [
    "low_ATAC_Var[:5000]"
   ]
  },
  {
   "cell_type": "code",
   "execution_count": 69,
   "metadata": {},
   "outputs": [
    {
     "data": {
      "text/plain": [
       "<AxesSubplot:>"
      ]
     },
     "execution_count": 69,
     "metadata": {},
     "output_type": "execute_result"
    },
    {
     "data": {
      "image/png": "[encoded data removed]",
      "text/plain": [
       "<Figure size 720x360 with 1 Axes>"
      ]
     },
     "metadata": {
      "needs_background": "light"
     },
     "output_type": "display_data"
    }
   ],
   "source": [
    "main_union_file.sort_values(by = 'CoefOfVar_(SD/Mean)_ATAC_union')[:10000].reset_index()['CoefOfVar_(SD/Mean)_ATAC_union'].plot()"
   ]
  },
  {
   "cell_type": "code",
   "execution_count": 70,
   "metadata": {},
   "outputs": [
    {
     "data": {
      "text/plain": [
       "<AxesSubplot:>"
      ]
     },
     "execution_count": 70,
     "metadata": {},
     "output_type": "execute_result"
    },
    {
     "data": {
      "image/png": "[encoded data removed]",
      "text/plain": [
       "<Figure size 720x360 with 1 Axes>"
      ]
     },
     "metadata": {
      "needs_background": "light"
     },
     "output_type": "display_data"
    }
   ],
   "source": [
    "low_ATAC_Var[:10000].reset_index()['CoefOfVar_(SD/Mean)_ATAC_union'].plot()"
   ]
  },
  {
   "cell_type": "code",
   "execution_count": 71,
   "metadata": {},
   "outputs": [],
   "source": [
    "high_K27_Drop = main_union_file[(main_union_file['Min_ATAC_union']>0.5) & (main_union_file['CoefOfVar_(SD/Mean)_ATAC_union']<1.3)].sort_values(by = 'Drop_(Max-Min/Max)_K27_500-600bp_union', ascending = False)\n"
   ]
  },
  {
   "cell_type": "code",
   "execution_count": 72,
   "metadata": {},
   "outputs": [
    {
     "data": {
      "text/plain": [
       "<AxesSubplot:>"
      ]
     },
     "execution_count": 72,
     "metadata": {},
     "output_type": "execute_result"
    },
    {
     "data": {
      "image/png": "[encoded data removed]",
      "text/plain": [
       "<Figure size 720x360 with 1 Axes>"
      ]
     },
     "metadata": {
      "needs_background": "light"
     },
     "output_type": "display_data"
    }
   ],
   "source": [
    "main_union_file.sort_values(by = 'Drop_(Max-Min/Max)_K27_500-600bp_union', ascending = False)[:10000].reset_index()['Drop_(Max-Min/Max)_K27_500-600bp_union'].plot()\n"
   ]
  },
  {
   "cell_type": "code",
   "execution_count": 73,
   "metadata": {},
   "outputs": [
    {
     "data": {
      "text/plain": [
       "<AxesSubplot:>"
      ]
     },
     "execution_count": 73,
     "metadata": {},
     "output_type": "execute_result"
    },
    {
     "data": {
      "image/png": "[encoded data removed]",
      "text/plain": [
       "<Figure size 720x360 with 1 Axes>"
      ]
     },
     "metadata": {
      "needs_background": "light"
     },
     "output_type": "display_data"
    }
   ],
   "source": [
    "high_K27_Drop[:10000].reset_index()['Drop_(Max-Min/Max)_K27_500-600bp_union'].plot()"
   ]
  },
  {
   "cell_type": "code",
   "execution_count": 74,
   "metadata": {},
   "outputs": [],
   "source": [
    "high_K27_Var = main_union_file.sort_values(by = 'CoefOfVar_K27_500-600bp_union', ascending = False)\n"
   ]
  },
  {
   "cell_type": "code",
   "execution_count": 75,
   "metadata": {},
   "outputs": [
    {
     "data": {
      "text/html": [
       "<div>\n",
       "<style scoped>\n",
       "    .dataframe tbody tr th:only-of-type {\n",
       "        vertical-align: middle;\n",
       "    }\n",
       "\n",
       "    .dataframe tbody tr th {\n",
       "        vertical-align: top;\n",
       "    }\n",
       "\n",
       "    .dataframe thead th {\n",
       "        text-align: right;\n",
       "    }\n",
       "</style>\n",
       "<table border=\"1\" class=\"dataframe\">\n",
       "  <thead>\n",
       "    <tr style=\"text-align: right;\">\n",
       "      <th></th>\n",
       "      <th>Chromosome</th>\n",
       "      <th>start-ATAC-union</th>\n",
       "      <th>end-ATAC-union</th>\n",
       "      <th>length-ATAC-union_x</th>\n",
       "      <th>Max_peak_value_ATAC_x</th>\n",
       "      <th>CoefOfVar_Q1Q3_(SD/Mean)_ATAC_union_x</th>\n",
       "      <th>SD_ATAC_union_x</th>\n",
       "      <th>Mean_ATAC_union_x</th>\n",
       "      <th>Min_ATAC_union_x</th>\n",
       "      <th>Max_ATAC_union_x</th>\n",
       "      <th>...</th>\n",
       "      <th>CoefOfVar_K27_500-300bp_union_y</th>\n",
       "      <th>start-500-600_y</th>\n",
       "      <th>end-500-600_y</th>\n",
       "      <th>CoefOfVar_Q1Q3_K27_500-600_union_y</th>\n",
       "      <th>Max_K27_500-600bp_union_y</th>\n",
       "      <th>Min_K27_500-600bp_union_y</th>\n",
       "      <th>Drop_(Max-Min/Max)_K27_500-600bp_union_y</th>\n",
       "      <th>Mean_K27_500-600bp_union_y</th>\n",
       "      <th>SD_K27_500-600bp_union_y</th>\n",
       "      <th>CoefOfVar_K27_500-600bp_union_y</th>\n",
       "    </tr>\n",
       "  </thead>\n",
       "  <tbody>\n",
       "    <tr>\n",
       "      <th>654</th>\n",
       "      <td>chr2</td>\n",
       "      <td>217905041</td>\n",
       "      <td>217906062</td>\n",
       "      <td>1021</td>\n",
       "      <td>2.84926</td>\n",
       "      <td>0.373916</td>\n",
       "      <td>0.526976</td>\n",
       "      <td>1.673742</td>\n",
       "      <td>0.574659</td>\n",
       "      <td>2.84926</td>\n",
       "      <td>...</td>\n",
       "      <td>1.263708</td>\n",
       "      <td>217904452</td>\n",
       "      <td>217906652</td>\n",
       "      <td>1.185466</td>\n",
       "      <td>1726.709418</td>\n",
       "      <td>9.679085</td>\n",
       "      <td>0.994394</td>\n",
       "      <td>244.801538</td>\n",
       "      <td>297.193624</td>\n",
       "      <td>1.214019</td>\n",
       "    </tr>\n",
       "    <tr>\n",
       "      <th>230</th>\n",
       "      <td>chr16</td>\n",
       "      <td>54928788</td>\n",
       "      <td>54929661</td>\n",
       "      <td>873</td>\n",
       "      <td>14.68210</td>\n",
       "      <td>0.350394</td>\n",
       "      <td>2.354296</td>\n",
       "      <td>7.967468</td>\n",
       "      <td>2.715100</td>\n",
       "      <td>14.68210</td>\n",
       "      <td>...</td>\n",
       "      <td>0.668777</td>\n",
       "      <td>54928124</td>\n",
       "      <td>54930324</td>\n",
       "      <td>0.731277</td>\n",
       "      <td>951.965727</td>\n",
       "      <td>11.023484</td>\n",
       "      <td>0.988420</td>\n",
       "      <td>254.152587</td>\n",
       "      <td>171.177607</td>\n",
       "      <td>0.673523</td>\n",
       "    </tr>\n",
       "    <tr>\n",
       "      <th>643</th>\n",
       "      <td>chr1</td>\n",
       "      <td>182235915</td>\n",
       "      <td>182236868</td>\n",
       "      <td>953</td>\n",
       "      <td>10.77610</td>\n",
       "      <td>0.371753</td>\n",
       "      <td>1.743217</td>\n",
       "      <td>5.540472</td>\n",
       "      <td>2.645660</td>\n",
       "      <td>10.77610</td>\n",
       "      <td>...</td>\n",
       "      <td>0.995986</td>\n",
       "      <td>182235292</td>\n",
       "      <td>182237492</td>\n",
       "      <td>1.078659</td>\n",
       "      <td>2816.976470</td>\n",
       "      <td>35.333280</td>\n",
       "      <td>0.987457</td>\n",
       "      <td>464.618128</td>\n",
       "      <td>462.501072</td>\n",
       "      <td>0.995443</td>\n",
       "    </tr>\n",
       "    <tr>\n",
       "      <th>90</th>\n",
       "      <td>chr9</td>\n",
       "      <td>27529182</td>\n",
       "      <td>27530136</td>\n",
       "      <td>954</td>\n",
       "      <td>2.74476</td>\n",
       "      <td>0.338159</td>\n",
       "      <td>0.435631</td>\n",
       "      <td>1.541176</td>\n",
       "      <td>0.679143</td>\n",
       "      <td>2.74476</td>\n",
       "      <td>...</td>\n",
       "      <td>0.999871</td>\n",
       "      <td>27528559</td>\n",
       "      <td>27530759</td>\n",
       "      <td>0.985458</td>\n",
       "      <td>158.860211</td>\n",
       "      <td>2.101529</td>\n",
       "      <td>0.986771</td>\n",
       "      <td>39.841425</td>\n",
       "      <td>39.273786</td>\n",
       "      <td>0.985753</td>\n",
       "    </tr>\n",
       "    <tr>\n",
       "      <th>634</th>\n",
       "      <td>chr8</td>\n",
       "      <td>9150395</td>\n",
       "      <td>9151273</td>\n",
       "      <td>878</td>\n",
       "      <td>9.63200</td>\n",
       "      <td>0.378706</td>\n",
       "      <td>1.580605</td>\n",
       "      <td>5.029437</td>\n",
       "      <td>1.871220</td>\n",
       "      <td>9.63200</td>\n",
       "      <td>...</td>\n",
       "      <td>0.801567</td>\n",
       "      <td>9149734</td>\n",
       "      <td>9151934</td>\n",
       "      <td>0.858193</td>\n",
       "      <td>4772.023153</td>\n",
       "      <td>70.350671</td>\n",
       "      <td>0.985258</td>\n",
       "      <td>1406.788497</td>\n",
       "      <td>1163.293275</td>\n",
       "      <td>0.826914</td>\n",
       "    </tr>\n",
       "    <tr>\n",
       "      <th>...</th>\n",
       "      <td>...</td>\n",
       "      <td>...</td>\n",
       "      <td>...</td>\n",
       "      <td>...</td>\n",
       "      <td>...</td>\n",
       "      <td>...</td>\n",
       "      <td>...</td>\n",
       "      <td>...</td>\n",
       "      <td>...</td>\n",
       "      <td>...</td>\n",
       "      <td>...</td>\n",
       "      <td>...</td>\n",
       "      <td>...</td>\n",
       "      <td>...</td>\n",
       "      <td>...</td>\n",
       "      <td>...</td>\n",
       "      <td>...</td>\n",
       "      <td>...</td>\n",
       "      <td>...</td>\n",
       "      <td>...</td>\n",
       "      <td>...</td>\n",
       "    </tr>\n",
       "    <tr>\n",
       "      <th>113</th>\n",
       "      <td>chr12</td>\n",
       "      <td>63843561</td>\n",
       "      <td>63844425</td>\n",
       "      <td>864</td>\n",
       "      <td>5.50997</td>\n",
       "      <td>0.339143</td>\n",
       "      <td>0.966387</td>\n",
       "      <td>3.383199</td>\n",
       "      <td>1.186330</td>\n",
       "      <td>5.50997</td>\n",
       "      <td>...</td>\n",
       "      <td>0.465055</td>\n",
       "      <td>63842893</td>\n",
       "      <td>63845093</td>\n",
       "      <td>0.496441</td>\n",
       "      <td>14.785080</td>\n",
       "      <td>2.069028</td>\n",
       "      <td>0.860060</td>\n",
       "      <td>6.922275</td>\n",
       "      <td>2.969660</td>\n",
       "      <td>0.429001</td>\n",
       "    </tr>\n",
       "    <tr>\n",
       "      <th>305</th>\n",
       "      <td>chr9</td>\n",
       "      <td>5832566</td>\n",
       "      <td>5833462</td>\n",
       "      <td>896</td>\n",
       "      <td>6.16241</td>\n",
       "      <td>0.353192</td>\n",
       "      <td>1.102058</td>\n",
       "      <td>3.669615</td>\n",
       "      <td>1.700000</td>\n",
       "      <td>6.16241</td>\n",
       "      <td>...</td>\n",
       "      <td>0.515979</td>\n",
       "      <td>5831914</td>\n",
       "      <td>5834114</td>\n",
       "      <td>0.550459</td>\n",
       "      <td>103.712307</td>\n",
       "      <td>14.519649</td>\n",
       "      <td>0.860001</td>\n",
       "      <td>39.387409</td>\n",
       "      <td>19.629352</td>\n",
       "      <td>0.498366</td>\n",
       "    </tr>\n",
       "    <tr>\n",
       "      <th>1340</th>\n",
       "      <td>chr3</td>\n",
       "      <td>50600773</td>\n",
       "      <td>50601724</td>\n",
       "      <td>951</td>\n",
       "      <td>5.31493</td>\n",
       "      <td>0.392776</td>\n",
       "      <td>0.872042</td>\n",
       "      <td>2.616617</td>\n",
       "      <td>1.185270</td>\n",
       "      <td>5.31493</td>\n",
       "      <td>...</td>\n",
       "      <td>0.394962</td>\n",
       "      <td>50600148</td>\n",
       "      <td>50602348</td>\n",
       "      <td>0.457618</td>\n",
       "      <td>10947.368180</td>\n",
       "      <td>1533.002259</td>\n",
       "      <td>0.859966</td>\n",
       "      <td>5765.242611</td>\n",
       "      <td>2334.232714</td>\n",
       "      <td>0.404880</td>\n",
       "    </tr>\n",
       "    <tr>\n",
       "      <th>563</th>\n",
       "      <td>chr1</td>\n",
       "      <td>93847159</td>\n",
       "      <td>93848037</td>\n",
       "      <td>878</td>\n",
       "      <td>7.68150</td>\n",
       "      <td>0.368229</td>\n",
       "      <td>1.523471</td>\n",
       "      <td>4.884946</td>\n",
       "      <td>1.864890</td>\n",
       "      <td>7.68150</td>\n",
       "      <td>...</td>\n",
       "      <td>0.471101</td>\n",
       "      <td>93846498</td>\n",
       "      <td>93848698</td>\n",
       "      <td>0.524275</td>\n",
       "      <td>709.851533</td>\n",
       "      <td>99.495469</td>\n",
       "      <td>0.859836</td>\n",
       "      <td>299.110680</td>\n",
       "      <td>139.769937</td>\n",
       "      <td>0.467285</td>\n",
       "    </tr>\n",
       "    <tr>\n",
       "      <th>498</th>\n",
       "      <td>chr1</td>\n",
       "      <td>180154361</td>\n",
       "      <td>180155244</td>\n",
       "      <td>883</td>\n",
       "      <td>7.50916</td>\n",
       "      <td>0.374206</td>\n",
       "      <td>1.297638</td>\n",
       "      <td>4.191143</td>\n",
       "      <td>1.455390</td>\n",
       "      <td>7.50916</td>\n",
       "      <td>...</td>\n",
       "      <td>0.386614</td>\n",
       "      <td>180153702</td>\n",
       "      <td>180155902</td>\n",
       "      <td>0.456265</td>\n",
       "      <td>496.823603</td>\n",
       "      <td>69.689984</td>\n",
       "      <td>0.859729</td>\n",
       "      <td>244.004157</td>\n",
       "      <td>93.987911</td>\n",
       "      <td>0.385190</td>\n",
       "    </tr>\n",
       "  </tbody>\n",
       "</table>\n",
       "<p>1408 rows × 77 columns</p>\n",
       "</div>"
      ],
      "text/plain": [
       "     Chromosome  start-ATAC-union  end-ATAC-union  length-ATAC-union_x  \\\n",
       "654        chr2         217905041       217906062                 1021   \n",
       "230       chr16          54928788        54929661                  873   \n",
       "643        chr1         182235915       182236868                  953   \n",
       "90         chr9          27529182        27530136                  954   \n",
       "634        chr8           9150395         9151273                  878   \n",
       "...         ...               ...             ...                  ...   \n",
       "113       chr12          63843561        63844425                  864   \n",
       "305        chr9           5832566         5833462                  896   \n",
       "1340       chr3          50600773        50601724                  951   \n",
       "563        chr1          93847159        93848037                  878   \n",
       "498        chr1         180154361       180155244                  883   \n",
       "\n",
       "      Max_peak_value_ATAC_x  CoefOfVar_Q1Q3_(SD/Mean)_ATAC_union_x  \\\n",
       "654                 2.84926                               0.373916   \n",
       "230                14.68210                               0.350394   \n",
       "643                10.77610                               0.371753   \n",
       "90                  2.74476                               0.338159   \n",
       "634                 9.63200                               0.378706   \n",
       "...                     ...                                    ...   \n",
       "113                 5.50997                               0.339143   \n",
       "305                 6.16241                               0.353192   \n",
       "1340                5.31493                               0.392776   \n",
       "563                 7.68150                               0.368229   \n",
       "498                 7.50916                               0.374206   \n",
       "\n",
       "      SD_ATAC_union_x  Mean_ATAC_union_x  Min_ATAC_union_x  Max_ATAC_union_x  \\\n",
       "654          0.526976           1.673742          0.574659           2.84926   \n",
       "230          2.354296           7.967468          2.715100          14.68210   \n",
       "643          1.743217           5.540472          2.645660          10.77610   \n",
       "90           0.435631           1.541176          0.679143           2.74476   \n",
       "634          1.580605           5.029437          1.871220           9.63200   \n",
       "...               ...                ...               ...               ...   \n",
       "113          0.966387           3.383199          1.186330           5.50997   \n",
       "305          1.102058           3.669615          1.700000           6.16241   \n",
       "1340         0.872042           2.616617          1.185270           5.31493   \n",
       "563          1.523471           4.884946          1.864890           7.68150   \n",
       "498          1.297638           4.191143          1.455390           7.50916   \n",
       "\n",
       "      ...  CoefOfVar_K27_500-300bp_union_y  start-500-600_y  end-500-600_y  \\\n",
       "654   ...                         1.263708        217904452      217906652   \n",
       "230   ...                         0.668777         54928124       54930324   \n",
       "643   ...                         0.995986        182235292      182237492   \n",
       "90    ...                         0.999871         27528559       27530759   \n",
       "634   ...                         0.801567          9149734        9151934   \n",
       "...   ...                              ...              ...            ...   \n",
       "113   ...                         0.465055         63842893       63845093   \n",
       "305   ...                         0.515979          5831914        5834114   \n",
       "1340  ...                         0.394962         50600148       50602348   \n",
       "563   ...                         0.471101         93846498       93848698   \n",
       "498   ...                         0.386614        180153702      180155902   \n",
       "\n",
       "      CoefOfVar_Q1Q3_K27_500-600_union_y  Max_K27_500-600bp_union_y  \\\n",
       "654                             1.185466                1726.709418   \n",
       "230                             0.731277                 951.965727   \n",
       "643                             1.078659                2816.976470   \n",
       "90                              0.985458                 158.860211   \n",
       "634                             0.858193                4772.023153   \n",
       "...                                  ...                        ...   \n",
       "113                             0.496441                  14.785080   \n",
       "305                             0.550459                 103.712307   \n",
       "1340                            0.457618               10947.368180   \n",
       "563                             0.524275                 709.851533   \n",
       "498                             0.456265                 496.823603   \n",
       "\n",
       "      Min_K27_500-600bp_union_y  Drop_(Max-Min/Max)_K27_500-600bp_union_y  \\\n",
       "654                    9.679085                                  0.994394   \n",
       "230                   11.023484                                  0.988420   \n",
       "643                   35.333280                                  0.987457   \n",
       "90                     2.101529                                  0.986771   \n",
       "634                   70.350671                                  0.985258   \n",
       "...                         ...                                       ...   \n",
       "113                    2.069028                                  0.860060   \n",
       "305                   14.519649                                  0.860001   \n",
       "1340                1533.002259                                  0.859966   \n",
       "563                   99.495469                                  0.859836   \n",
       "498                   69.689984                                  0.859729   \n",
       "\n",
       "      Mean_K27_500-600bp_union_y  SD_K27_500-600bp_union_y  \\\n",
       "654                   244.801538                297.193624   \n",
       "230                   254.152587                171.177607   \n",
       "643                   464.618128                462.501072   \n",
       "90                     39.841425                 39.273786   \n",
       "634                  1406.788497               1163.293275   \n",
       "...                          ...                       ...   \n",
       "113                     6.922275                  2.969660   \n",
       "305                    39.387409                 19.629352   \n",
       "1340                 5765.242611               2334.232714   \n",
       "563                   299.110680                139.769937   \n",
       "498                   244.004157                 93.987911   \n",
       "\n",
       "      CoefOfVar_K27_500-600bp_union_y  \n",
       "654                          1.214019  \n",
       "230                          0.673523  \n",
       "643                          0.995443  \n",
       "90                           0.985753  \n",
       "634                          0.826914  \n",
       "...                               ...  \n",
       "113                          0.429001  \n",
       "305                          0.498366  \n",
       "1340                         0.404880  \n",
       "563                          0.467285  \n",
       "498                          0.385190  \n",
       "\n",
       "[1408 rows x 77 columns]"
      ]
     },
     "execution_count": 75,
     "metadata": {},
     "output_type": "execute_result"
    }
   ],
   "source": [
    "pd.merge(low_ATAC_Var[:5000], high_K27_Drop[:5000], how='inner', on=['Chromosome', 'start-ATAC-union','end-ATAC-union']).sort_values(by = 'Drop_(Max-Min/Max)_K27_500-600bp_union_y', ascending = False)\n"
   ]
  },
  {
   "cell_type": "code",
   "execution_count": 76,
   "metadata": {},
   "outputs": [
    {
     "data": {
      "text/html": [
       "<div>\n",
       "<style scoped>\n",
       "    .dataframe tbody tr th:only-of-type {\n",
       "        vertical-align: middle;\n",
       "    }\n",
       "\n",
       "    .dataframe tbody tr th {\n",
       "        vertical-align: top;\n",
       "    }\n",
       "\n",
       "    .dataframe thead th {\n",
       "        text-align: right;\n",
       "    }\n",
       "</style>\n",
       "<table border=\"1\" class=\"dataframe\">\n",
       "  <thead>\n",
       "    <tr style=\"text-align: right;\">\n",
       "      <th></th>\n",
       "      <th>Chromosome</th>\n",
       "      <th>start-ATAC-union</th>\n",
       "      <th>end-ATAC-union</th>\n",
       "      <th>length-ATAC-union_x</th>\n",
       "      <th>Max_peak_value_ATAC_x</th>\n",
       "      <th>CoefOfVar_Q1Q3_(SD/Mean)_ATAC_union_x</th>\n",
       "      <th>SD_ATAC_union_x</th>\n",
       "      <th>Mean_ATAC_union_x</th>\n",
       "      <th>Min_ATAC_union_x</th>\n",
       "      <th>Max_ATAC_union_x</th>\n",
       "      <th>...</th>\n",
       "      <th>CoefOfVar_K27_500-300bp_union_y</th>\n",
       "      <th>start-500-600_y</th>\n",
       "      <th>end-500-600_y</th>\n",
       "      <th>CoefOfVar_Q1Q3_K27_500-600_union_y</th>\n",
       "      <th>Max_K27_500-600bp_union_y</th>\n",
       "      <th>Min_K27_500-600bp_union_y</th>\n",
       "      <th>Drop_(Max-Min/Max)_K27_500-600bp_union_y</th>\n",
       "      <th>Mean_K27_500-600bp_union_y</th>\n",
       "      <th>SD_K27_500-600bp_union_y</th>\n",
       "      <th>CoefOfVar_K27_500-600bp_union_y</th>\n",
       "    </tr>\n",
       "  </thead>\n",
       "  <tbody>\n",
       "    <tr>\n",
       "      <th>0</th>\n",
       "      <td>chr10</td>\n",
       "      <td>72354143</td>\n",
       "      <td>72355225</td>\n",
       "      <td>1082</td>\n",
       "      <td>4.79828</td>\n",
       "      <td>0.413808</td>\n",
       "      <td>1.046835</td>\n",
       "      <td>2.934099</td>\n",
       "      <td>1.273100</td>\n",
       "      <td>4.79828</td>\n",
       "      <td>...</td>\n",
       "      <td>0.332760</td>\n",
       "      <td>72353584</td>\n",
       "      <td>72355784</td>\n",
       "      <td>0.378503</td>\n",
       "      <td>11137.328080</td>\n",
       "      <td>2813.271807</td>\n",
       "      <td>0.747402</td>\n",
       "      <td>4692.887087</td>\n",
       "      <td>1569.732285</td>\n",
       "      <td>0.334492</td>\n",
       "    </tr>\n",
       "    <tr>\n",
       "      <th>1</th>\n",
       "      <td>chr3</td>\n",
       "      <td>45688809</td>\n",
       "      <td>45689735</td>\n",
       "      <td>926</td>\n",
       "      <td>15.45420</td>\n",
       "      <td>0.421120</td>\n",
       "      <td>3.035370</td>\n",
       "      <td>8.507344</td>\n",
       "      <td>2.610850</td>\n",
       "      <td>15.45420</td>\n",
       "      <td>...</td>\n",
       "      <td>0.388276</td>\n",
       "      <td>45688172</td>\n",
       "      <td>45690372</td>\n",
       "      <td>0.420906</td>\n",
       "      <td>2322.158905</td>\n",
       "      <td>571.946318</td>\n",
       "      <td>0.753701</td>\n",
       "      <td>1161.071455</td>\n",
       "      <td>426.258663</td>\n",
       "      <td>0.367125</td>\n",
       "    </tr>\n",
       "    <tr>\n",
       "      <th>2</th>\n",
       "      <td>chr10</td>\n",
       "      <td>50326650</td>\n",
       "      <td>50327545</td>\n",
       "      <td>895</td>\n",
       "      <td>11.02490</td>\n",
       "      <td>0.423933</td>\n",
       "      <td>2.045786</td>\n",
       "      <td>5.733761</td>\n",
       "      <td>2.342310</td>\n",
       "      <td>11.02490</td>\n",
       "      <td>...</td>\n",
       "      <td>0.281279</td>\n",
       "      <td>50325998</td>\n",
       "      <td>50328198</td>\n",
       "      <td>0.344003</td>\n",
       "      <td>15358.866810</td>\n",
       "      <td>3166.322909</td>\n",
       "      <td>0.793844</td>\n",
       "      <td>8272.970929</td>\n",
       "      <td>2403.278665</td>\n",
       "      <td>0.290498</td>\n",
       "    </tr>\n",
       "    <tr>\n",
       "      <th>3</th>\n",
       "      <td>chr5</td>\n",
       "      <td>81750838</td>\n",
       "      <td>81751917</td>\n",
       "      <td>1079</td>\n",
       "      <td>13.65300</td>\n",
       "      <td>0.416440</td>\n",
       "      <td>2.541312</td>\n",
       "      <td>7.122540</td>\n",
       "      <td>2.640690</td>\n",
       "      <td>13.65300</td>\n",
       "      <td>...</td>\n",
       "      <td>0.292791</td>\n",
       "      <td>81750278</td>\n",
       "      <td>81752478</td>\n",
       "      <td>0.339774</td>\n",
       "      <td>8500.966073</td>\n",
       "      <td>2681.999687</td>\n",
       "      <td>0.684506</td>\n",
       "      <td>4723.125530</td>\n",
       "      <td>1397.125460</td>\n",
       "      <td>0.295805</td>\n",
       "    </tr>\n",
       "    <tr>\n",
       "      <th>4</th>\n",
       "      <td>chr17</td>\n",
       "      <td>42677639</td>\n",
       "      <td>42678659</td>\n",
       "      <td>1020</td>\n",
       "      <td>2.63947</td>\n",
       "      <td>0.421399</td>\n",
       "      <td>0.482197</td>\n",
       "      <td>1.351418</td>\n",
       "      <td>0.522537</td>\n",
       "      <td>2.63947</td>\n",
       "      <td>...</td>\n",
       "      <td>0.266853</td>\n",
       "      <td>42677049</td>\n",
       "      <td>42679249</td>\n",
       "      <td>0.313325</td>\n",
       "      <td>7251.461516</td>\n",
       "      <td>1839.283418</td>\n",
       "      <td>0.746357</td>\n",
       "      <td>4040.628297</td>\n",
       "      <td>1078.027657</td>\n",
       "      <td>0.266797</td>\n",
       "    </tr>\n",
       "    <tr>\n",
       "      <th>...</th>\n",
       "      <td>...</td>\n",
       "      <td>...</td>\n",
       "      <td>...</td>\n",
       "      <td>...</td>\n",
       "      <td>...</td>\n",
       "      <td>...</td>\n",
       "      <td>...</td>\n",
       "      <td>...</td>\n",
       "      <td>...</td>\n",
       "      <td>...</td>\n",
       "      <td>...</td>\n",
       "      <td>...</td>\n",
       "      <td>...</td>\n",
       "      <td>...</td>\n",
       "      <td>...</td>\n",
       "      <td>...</td>\n",
       "      <td>...</td>\n",
       "      <td>...</td>\n",
       "      <td>...</td>\n",
       "      <td>...</td>\n",
       "      <td>...</td>\n",
       "    </tr>\n",
       "    <tr>\n",
       "      <th>1349</th>\n",
       "      <td>chr3</td>\n",
       "      <td>129399116</td>\n",
       "      <td>129400043</td>\n",
       "      <td>927</td>\n",
       "      <td>9.10588</td>\n",
       "      <td>0.538170</td>\n",
       "      <td>1.934314</td>\n",
       "      <td>4.140337</td>\n",
       "      <td>1.118940</td>\n",
       "      <td>9.10588</td>\n",
       "      <td>...</td>\n",
       "      <td>0.294886</td>\n",
       "      <td>129398480</td>\n",
       "      <td>129400680</td>\n",
       "      <td>0.334403</td>\n",
       "      <td>4321.131874</td>\n",
       "      <td>1250.025579</td>\n",
       "      <td>0.710718</td>\n",
       "      <td>2365.182515</td>\n",
       "      <td>695.531274</td>\n",
       "      <td>0.294071</td>\n",
       "    </tr>\n",
       "    <tr>\n",
       "      <th>1350</th>\n",
       "      <td>chr2</td>\n",
       "      <td>201117164</td>\n",
       "      <td>201118034</td>\n",
       "      <td>870</td>\n",
       "      <td>3.00138</td>\n",
       "      <td>0.523325</td>\n",
       "      <td>0.611300</td>\n",
       "      <td>1.305437</td>\n",
       "      <td>0.567144</td>\n",
       "      <td>3.00138</td>\n",
       "      <td>...</td>\n",
       "      <td>0.322787</td>\n",
       "      <td>201116499</td>\n",
       "      <td>201118699</td>\n",
       "      <td>0.360385</td>\n",
       "      <td>11950.057690</td>\n",
       "      <td>3235.649624</td>\n",
       "      <td>0.729236</td>\n",
       "      <td>5528.214158</td>\n",
       "      <td>1736.248398</td>\n",
       "      <td>0.314070</td>\n",
       "    </tr>\n",
       "    <tr>\n",
       "      <th>1351</th>\n",
       "      <td>chr6</td>\n",
       "      <td>27134183</td>\n",
       "      <td>27134838</td>\n",
       "      <td>655</td>\n",
       "      <td>2.84877</td>\n",
       "      <td>0.522012</td>\n",
       "      <td>0.664476</td>\n",
       "      <td>1.407970</td>\n",
       "      <td>0.548989</td>\n",
       "      <td>2.84877</td>\n",
       "      <td>...</td>\n",
       "      <td>0.296687</td>\n",
       "      <td>27133410</td>\n",
       "      <td>27135610</td>\n",
       "      <td>0.328565</td>\n",
       "      <td>4575.353643</td>\n",
       "      <td>1012.547044</td>\n",
       "      <td>0.778695</td>\n",
       "      <td>2857.929940</td>\n",
       "      <td>797.787285</td>\n",
       "      <td>0.279149</td>\n",
       "    </tr>\n",
       "    <tr>\n",
       "      <th>1352</th>\n",
       "      <td>chr20</td>\n",
       "      <td>50958282</td>\n",
       "      <td>50959195</td>\n",
       "      <td>913</td>\n",
       "      <td>5.58735</td>\n",
       "      <td>0.546097</td>\n",
       "      <td>1.133903</td>\n",
       "      <td>2.369743</td>\n",
       "      <td>0.676335</td>\n",
       "      <td>5.58735</td>\n",
       "      <td>...</td>\n",
       "      <td>0.257055</td>\n",
       "      <td>50957638</td>\n",
       "      <td>50959838</td>\n",
       "      <td>0.294996</td>\n",
       "      <td>4618.454486</td>\n",
       "      <td>1497.262432</td>\n",
       "      <td>0.675809</td>\n",
       "      <td>2575.757895</td>\n",
       "      <td>660.171520</td>\n",
       "      <td>0.256302</td>\n",
       "    </tr>\n",
       "    <tr>\n",
       "      <th>1353</th>\n",
       "      <td>chr4</td>\n",
       "      <td>102825158</td>\n",
       "      <td>102826043</td>\n",
       "      <td>885</td>\n",
       "      <td>4.57838</td>\n",
       "      <td>0.562390</td>\n",
       "      <td>0.870614</td>\n",
       "      <td>1.768391</td>\n",
       "      <td>0.522170</td>\n",
       "      <td>4.57838</td>\n",
       "      <td>...</td>\n",
       "      <td>0.391359</td>\n",
       "      <td>102824500</td>\n",
       "      <td>102826700</td>\n",
       "      <td>0.417210</td>\n",
       "      <td>10023.045770</td>\n",
       "      <td>2186.567751</td>\n",
       "      <td>0.781846</td>\n",
       "      <td>4223.785343</td>\n",
       "      <td>1577.613588</td>\n",
       "      <td>0.373507</td>\n",
       "    </tr>\n",
       "  </tbody>\n",
       "</table>\n",
       "<p>1354 rows × 77 columns</p>\n",
       "</div>"
      ],
      "text/plain": [
       "     Chromosome  start-ATAC-union  end-ATAC-union  length-ATAC-union_x  \\\n",
       "0         chr10          72354143        72355225                 1082   \n",
       "1          chr3          45688809        45689735                  926   \n",
       "2         chr10          50326650        50327545                  895   \n",
       "3          chr5          81750838        81751917                 1079   \n",
       "4         chr17          42677639        42678659                 1020   \n",
       "...         ...               ...             ...                  ...   \n",
       "1349       chr3         129399116       129400043                  927   \n",
       "1350       chr2         201117164       201118034                  870   \n",
       "1351       chr6          27134183        27134838                  655   \n",
       "1352      chr20          50958282        50959195                  913   \n",
       "1353       chr4         102825158       102826043                  885   \n",
       "\n",
       "      Max_peak_value_ATAC_x  CoefOfVar_Q1Q3_(SD/Mean)_ATAC_union_x  \\\n",
       "0                   4.79828                               0.413808   \n",
       "1                  15.45420                               0.421120   \n",
       "2                  11.02490                               0.423933   \n",
       "3                  13.65300                               0.416440   \n",
       "4                   2.63947                               0.421399   \n",
       "...                     ...                                    ...   \n",
       "1349                9.10588                               0.538170   \n",
       "1350                3.00138                               0.523325   \n",
       "1351                2.84877                               0.522012   \n",
       "1352                5.58735                               0.546097   \n",
       "1353                4.57838                               0.562390   \n",
       "\n",
       "      SD_ATAC_union_x  Mean_ATAC_union_x  Min_ATAC_union_x  Max_ATAC_union_x  \\\n",
       "0            1.046835           2.934099          1.273100           4.79828   \n",
       "1            3.035370           8.507344          2.610850          15.45420   \n",
       "2            2.045786           5.733761          2.342310          11.02490   \n",
       "3            2.541312           7.122540          2.640690          13.65300   \n",
       "4            0.482197           1.351418          0.522537           2.63947   \n",
       "...               ...                ...               ...               ...   \n",
       "1349         1.934314           4.140337          1.118940           9.10588   \n",
       "1350         0.611300           1.305437          0.567144           3.00138   \n",
       "1351         0.664476           1.407970          0.548989           2.84877   \n",
       "1352         1.133903           2.369743          0.676335           5.58735   \n",
       "1353         0.870614           1.768391          0.522170           4.57838   \n",
       "\n",
       "      ...  CoefOfVar_K27_500-300bp_union_y  start-500-600_y  end-500-600_y  \\\n",
       "0     ...                         0.332760         72353584       72355784   \n",
       "1     ...                         0.388276         45688172       45690372   \n",
       "2     ...                         0.281279         50325998       50328198   \n",
       "3     ...                         0.292791         81750278       81752478   \n",
       "4     ...                         0.266853         42677049       42679249   \n",
       "...   ...                              ...              ...            ...   \n",
       "1349  ...                         0.294886        129398480      129400680   \n",
       "1350  ...                         0.322787        201116499      201118699   \n",
       "1351  ...                         0.296687         27133410       27135610   \n",
       "1352  ...                         0.257055         50957638       50959838   \n",
       "1353  ...                         0.391359        102824500      102826700   \n",
       "\n",
       "      CoefOfVar_Q1Q3_K27_500-600_union_y  Max_K27_500-600bp_union_y  \\\n",
       "0                               0.378503               11137.328080   \n",
       "1                               0.420906                2322.158905   \n",
       "2                               0.344003               15358.866810   \n",
       "3                               0.339774                8500.966073   \n",
       "4                               0.313325                7251.461516   \n",
       "...                                  ...                        ...   \n",
       "1349                            0.334403                4321.131874   \n",
       "1350                            0.360385               11950.057690   \n",
       "1351                            0.328565                4575.353643   \n",
       "1352                            0.294996                4618.454486   \n",
       "1353                            0.417210               10023.045770   \n",
       "\n",
       "      Min_K27_500-600bp_union_y  Drop_(Max-Min/Max)_K27_500-600bp_union_y  \\\n",
       "0                   2813.271807                                  0.747402   \n",
       "1                    571.946318                                  0.753701   \n",
       "2                   3166.322909                                  0.793844   \n",
       "3                   2681.999687                                  0.684506   \n",
       "4                   1839.283418                                  0.746357   \n",
       "...                         ...                                       ...   \n",
       "1349                1250.025579                                  0.710718   \n",
       "1350                3235.649624                                  0.729236   \n",
       "1351                1012.547044                                  0.778695   \n",
       "1352                1497.262432                                  0.675809   \n",
       "1353                2186.567751                                  0.781846   \n",
       "\n",
       "      Mean_K27_500-600bp_union_y  SD_K27_500-600bp_union_y  \\\n",
       "0                    4692.887087               1569.732285   \n",
       "1                    1161.071455                426.258663   \n",
       "2                    8272.970929               2403.278665   \n",
       "3                    4723.125530               1397.125460   \n",
       "4                    4040.628297               1078.027657   \n",
       "...                          ...                       ...   \n",
       "1349                 2365.182515                695.531274   \n",
       "1350                 5528.214158               1736.248398   \n",
       "1351                 2857.929940                797.787285   \n",
       "1352                 2575.757895                660.171520   \n",
       "1353                 4223.785343               1577.613588   \n",
       "\n",
       "      CoefOfVar_K27_500-600bp_union_y  \n",
       "0                            0.334492  \n",
       "1                            0.367125  \n",
       "2                            0.290498  \n",
       "3                            0.295805  \n",
       "4                            0.266797  \n",
       "...                               ...  \n",
       "1349                         0.294071  \n",
       "1350                         0.314070  \n",
       "1351                         0.279149  \n",
       "1352                         0.256302  \n",
       "1353                         0.373507  \n",
       "\n",
       "[1354 rows x 77 columns]"
      ]
     },
     "execution_count": 76,
     "metadata": {},
     "output_type": "execute_result"
    }
   ],
   "source": [
    "pd.merge(low_ATAC_Var[-5000:], high_K27_Drop[-5000:], how='inner', on=['Chromosome', 'start-ATAC-union','end-ATAC-union'])"
   ]
  },
  {
   "cell_type": "markdown",
   "metadata": {},
   "source": [
    "# Calculating covariance between ATAC and H3K27ac"
   ]
  },
  {
   "cell_type": "code",
   "execution_count": 141,
   "metadata": {},
   "outputs": [
    {
     "data": {
      "text/plain": [
       "(29777, 50)"
      ]
     },
     "execution_count": 141,
     "metadata": {},
     "output_type": "execute_result"
    }
   ],
   "source": [
    "all_peaks_ATAC = pd.read_csv(\"/t1-data/project/fgenomics/jinchaus/rotation/50Donors/peakcall/H3K27ac/sumunion/Values_only_ATAC.csv\", sep = \"\\t\")\n",
    "all_peaks_K27 = pd.read_csv(\"/t1-data/project/fgenomics/jinchaus/rotation/50Donors/peakcall/H3K27ac/sumunion/Values_only_H3K27ac_window500-600bp_ATAC_ID.csv\", sep = \"\\t\")\n",
    "all_peaks_ATAC.iloc[:,1:].shape"
   ]
  },
  {
   "cell_type": "code",
   "execution_count": 143,
   "metadata": {},
   "outputs": [],
   "source": [
    "all_peaks_K27.columns = all_peaks_ATAC.columns"
   ]
  },
  {
   "cell_type": "code",
   "execution_count": 150,
   "metadata": {},
   "outputs": [],
   "source": [
    "correlation = pd.DataFrame(all_peaks_K27.iloc[:,1:].corrwith(all_peaks_ATAC.iloc[:,1:], axis = 1))"
   ]
  },
  {
   "cell_type": "code",
   "execution_count": 147,
   "metadata": {},
   "outputs": [
    {
     "data": {
      "text/plain": [
       "count    29777.000000\n",
       "mean        -0.005061\n",
       "std          0.235215\n",
       "min         -0.594479\n",
       "25%         -0.177707\n",
       "50%         -0.025678\n",
       "75%          0.138397\n",
       "max          0.998096\n",
       "dtype: float64"
      ]
     },
     "execution_count": 147,
     "metadata": {},
     "output_type": "execute_result"
    }
   ],
   "source": [
    "all_peaks_K27.iloc[:,1:].corrwith(all_peaks_ATAC.iloc[:,1:], axis = 1).describe()"
   ]
  },
  {
   "cell_type": "code",
   "execution_count": 154,
   "metadata": {},
   "outputs": [
    {
     "data": {
      "image/png": "[encoded data removed]",
      "text/plain": [
       "<Figure size 360x360 with 1 Axes>"
      ]
     },
     "metadata": {
      "needs_background": "light"
     },
     "output_type": "display_data"
    }
   ],
   "source": [
    "plt = sns.displot(correlation, x=0, binwidth=0.1).set(title=\"ATAC and H3K27ac Correlation Coefficients distribution\",xlabel=\"Pearson Correlation Coefficient\")\n",
    "plt.savefig('/datashare/project/fgenomics/jinchaus/rotation/plots/Correlation_coefficient.png', dpi =400)\n",
    "\n",
    "#all_peaks_K27.iloc[:,1:].corrwith(all_peaks_ATAC.iloc[:,1:], axis = 1).hist()"
   ]
  },
  {
   "cell_type": "code",
   "execution_count": 126,
   "metadata": {},
   "outputs": [
    {
     "data": {
      "text/html": [
       "<div>\n",
       "<style scoped>\n",
       "    .dataframe tbody tr th:only-of-type {\n",
       "        vertical-align: middle;\n",
       "    }\n",
       "\n",
       "    .dataframe tbody tr th {\n",
       "        vertical-align: top;\n",
       "    }\n",
       "\n",
       "    .dataframe thead th {\n",
       "        text-align: right;\n",
       "    }\n",
       "</style>\n",
       "<table border=\"1\" class=\"dataframe\">\n",
       "  <thead>\n",
       "    <tr style=\"text-align: right;\">\n",
       "      <th></th>\n",
       "      <th>ID</th>\n",
       "      <th>Don001_K27_500_600bp</th>\n",
       "      <th>Don002_K27_500_600bp</th>\n",
       "      <th>Don003_K27_500_600bp</th>\n",
       "      <th>Don004_K27_500_600bp</th>\n",
       "      <th>Don005_K27_500_600bp</th>\n",
       "      <th>Don006_K27_500_600bp</th>\n",
       "      <th>Don007_K27_500_600bp</th>\n",
       "      <th>Don008_K27_500_600bp</th>\n",
       "      <th>Don009_K27_500_600bp</th>\n",
       "      <th>...</th>\n",
       "      <th>Don041</th>\n",
       "      <th>Don042</th>\n",
       "      <th>Don043</th>\n",
       "      <th>Don044</th>\n",
       "      <th>Don045</th>\n",
       "      <th>Don046</th>\n",
       "      <th>Don047</th>\n",
       "      <th>Don048</th>\n",
       "      <th>Don049</th>\n",
       "      <th>Don050</th>\n",
       "    </tr>\n",
       "  </thead>\n",
       "  <tbody>\n",
       "    <tr>\n",
       "      <th>0</th>\n",
       "      <td>chr1-827137-828028</td>\n",
       "      <td>5066.223801</td>\n",
       "      <td>3072.009926</td>\n",
       "      <td>3767.704604</td>\n",
       "      <td>2277.343231</td>\n",
       "      <td>2056.208693</td>\n",
       "      <td>2309.564902</td>\n",
       "      <td>2205.978804</td>\n",
       "      <td>4336.682684</td>\n",
       "      <td>1840.576691</td>\n",
       "      <td>...</td>\n",
       "      <td>3.801350</td>\n",
       "      <td>3.515020</td>\n",
       "      <td>3.779680</td>\n",
       "      <td>3.452520</td>\n",
       "      <td>1.455390</td>\n",
       "      <td>3.403740</td>\n",
       "      <td>3.440040</td>\n",
       "      <td>1.295290</td>\n",
       "      <td>3.725200</td>\n",
       "      <td>3.806610</td>\n",
       "    </tr>\n",
       "    <tr>\n",
       "      <th>1</th>\n",
       "      <td>chr1-829923-830720</td>\n",
       "      <td>558.854617</td>\n",
       "      <td>407.994367</td>\n",
       "      <td>825.097319</td>\n",
       "      <td>331.514932</td>\n",
       "      <td>179.666927</td>\n",
       "      <td>305.580195</td>\n",
       "      <td>453.832238</td>\n",
       "      <td>899.159149</td>\n",
       "      <td>620.477535</td>\n",
       "      <td>...</td>\n",
       "      <td>1.173950</td>\n",
       "      <td>1.171670</td>\n",
       "      <td>1.095560</td>\n",
       "      <td>0.944280</td>\n",
       "      <td>0.415826</td>\n",
       "      <td>0.739389</td>\n",
       "      <td>0.767612</td>\n",
       "      <td>0.362680</td>\n",
       "      <td>1.015960</td>\n",
       "      <td>1.338590</td>\n",
       "    </tr>\n",
       "    <tr>\n",
       "      <th>2</th>\n",
       "      <td>chr1-842477-843381</td>\n",
       "      <td>147.696023</td>\n",
       "      <td>173.365111</td>\n",
       "      <td>186.793999</td>\n",
       "      <td>104.364021</td>\n",
       "      <td>89.948761</td>\n",
       "      <td>154.989097</td>\n",
       "      <td>161.144003</td>\n",
       "      <td>258.805460</td>\n",
       "      <td>230.406974</td>\n",
       "      <td>...</td>\n",
       "      <td>1.900680</td>\n",
       "      <td>1.729610</td>\n",
       "      <td>2.026780</td>\n",
       "      <td>1.504950</td>\n",
       "      <td>0.587049</td>\n",
       "      <td>1.631760</td>\n",
       "      <td>1.478360</td>\n",
       "      <td>0.906701</td>\n",
       "      <td>2.144810</td>\n",
       "      <td>1.631400</td>\n",
       "    </tr>\n",
       "    <tr>\n",
       "      <th>3</th>\n",
       "      <td>chr1-869550-870311</td>\n",
       "      <td>4.672640</td>\n",
       "      <td>1.706295</td>\n",
       "      <td>1.144129</td>\n",
       "      <td>4.454415</td>\n",
       "      <td>4.542397</td>\n",
       "      <td>6.519577</td>\n",
       "      <td>4.525046</td>\n",
       "      <td>3.347218</td>\n",
       "      <td>3.718479</td>\n",
       "      <td>...</td>\n",
       "      <td>1.006240</td>\n",
       "      <td>0.613734</td>\n",
       "      <td>0.821669</td>\n",
       "      <td>0.649193</td>\n",
       "      <td>0.330215</td>\n",
       "      <td>0.662901</td>\n",
       "      <td>0.625462</td>\n",
       "      <td>0.414492</td>\n",
       "      <td>0.940706</td>\n",
       "      <td>0.794787</td>\n",
       "    </tr>\n",
       "    <tr>\n",
       "      <th>4</th>\n",
       "      <td>chr1-904229-905052</td>\n",
       "      <td>1.320528</td>\n",
       "      <td>5.633477</td>\n",
       "      <td>1.294672</td>\n",
       "      <td>3.268185</td>\n",
       "      <td>3.527852</td>\n",
       "      <td>5.790267</td>\n",
       "      <td>2.767384</td>\n",
       "      <td>3.209188</td>\n",
       "      <td>3.233459</td>\n",
       "      <td>...</td>\n",
       "      <td>0.559023</td>\n",
       "      <td>0.446352</td>\n",
       "      <td>0.931225</td>\n",
       "      <td>0.649193</td>\n",
       "      <td>0.452517</td>\n",
       "      <td>0.815878</td>\n",
       "      <td>1.023480</td>\n",
       "      <td>0.375633</td>\n",
       "      <td>0.564424</td>\n",
       "      <td>1.380420</td>\n",
       "    </tr>\n",
       "    <tr>\n",
       "      <th>...</th>\n",
       "      <td>...</td>\n",
       "      <td>...</td>\n",
       "      <td>...</td>\n",
       "      <td>...</td>\n",
       "      <td>...</td>\n",
       "      <td>...</td>\n",
       "      <td>...</td>\n",
       "      <td>...</td>\n",
       "      <td>...</td>\n",
       "      <td>...</td>\n",
       "      <td>...</td>\n",
       "      <td>...</td>\n",
       "      <td>...</td>\n",
       "      <td>...</td>\n",
       "      <td>...</td>\n",
       "      <td>...</td>\n",
       "      <td>...</td>\n",
       "      <td>...</td>\n",
       "      <td>...</td>\n",
       "      <td>...</td>\n",
       "      <td>...</td>\n",
       "    </tr>\n",
       "    <tr>\n",
       "      <th>29772</th>\n",
       "      <td>chrX-155434658-155435575</td>\n",
       "      <td>3719.724875</td>\n",
       "      <td>2063.399500</td>\n",
       "      <td>4121.932760</td>\n",
       "      <td>2006.108369</td>\n",
       "      <td>1428.942641</td>\n",
       "      <td>1025.075628</td>\n",
       "      <td>1410.112967</td>\n",
       "      <td>3662.856250</td>\n",
       "      <td>1082.007503</td>\n",
       "      <td>...</td>\n",
       "      <td>4.360380</td>\n",
       "      <td>2.678110</td>\n",
       "      <td>2.793670</td>\n",
       "      <td>2.832840</td>\n",
       "      <td>1.443160</td>\n",
       "      <td>2.383890</td>\n",
       "      <td>2.501850</td>\n",
       "      <td>1.398910</td>\n",
       "      <td>3.386540</td>\n",
       "      <td>4.141260</td>\n",
       "    </tr>\n",
       "    <tr>\n",
       "      <th>29773</th>\n",
       "      <td>chrX-155612306-155613220</td>\n",
       "      <td>933.240892</td>\n",
       "      <td>917.743434</td>\n",
       "      <td>327.491736</td>\n",
       "      <td>643.420854</td>\n",
       "      <td>540.637992</td>\n",
       "      <td>532.527656</td>\n",
       "      <td>696.427161</td>\n",
       "      <td>886.874525</td>\n",
       "      <td>531.880753</td>\n",
       "      <td>...</td>\n",
       "      <td>1.509360</td>\n",
       "      <td>1.115880</td>\n",
       "      <td>1.150340</td>\n",
       "      <td>0.796736</td>\n",
       "      <td>0.476977</td>\n",
       "      <td>0.688397</td>\n",
       "      <td>0.739182</td>\n",
       "      <td>0.466303</td>\n",
       "      <td>0.865450</td>\n",
       "      <td>1.087600</td>\n",
       "    </tr>\n",
       "    <tr>\n",
       "      <th>29774</th>\n",
       "      <td>chrX-155632242-155633102</td>\n",
       "      <td>5.485274</td>\n",
       "      <td>7.610623</td>\n",
       "      <td>9.393896</td>\n",
       "      <td>13.581120</td>\n",
       "      <td>8.554465</td>\n",
       "      <td>11.116433</td>\n",
       "      <td>10.489874</td>\n",
       "      <td>19.393158</td>\n",
       "      <td>12.333337</td>\n",
       "      <td>...</td>\n",
       "      <td>0.726730</td>\n",
       "      <td>0.557940</td>\n",
       "      <td>0.657335</td>\n",
       "      <td>0.885263</td>\n",
       "      <td>0.317985</td>\n",
       "      <td>0.407939</td>\n",
       "      <td>0.710752</td>\n",
       "      <td>0.310869</td>\n",
       "      <td>0.602052</td>\n",
       "      <td>1.338590</td>\n",
       "    </tr>\n",
       "    <tr>\n",
       "      <th>29775</th>\n",
       "      <td>chrX-155745433-155746210</td>\n",
       "      <td>4.909662</td>\n",
       "      <td>1.110446</td>\n",
       "      <td>1.535541</td>\n",
       "      <td>8.400446</td>\n",
       "      <td>4.703804</td>\n",
       "      <td>3.646543</td>\n",
       "      <td>6.544487</td>\n",
       "      <td>1.690863</td>\n",
       "      <td>5.774040</td>\n",
       "      <td>...</td>\n",
       "      <td>0.726730</td>\n",
       "      <td>0.781116</td>\n",
       "      <td>0.986003</td>\n",
       "      <td>0.767228</td>\n",
       "      <td>0.391366</td>\n",
       "      <td>0.611908</td>\n",
       "      <td>0.426451</td>\n",
       "      <td>0.246104</td>\n",
       "      <td>0.564424</td>\n",
       "      <td>0.920280</td>\n",
       "    </tr>\n",
       "    <tr>\n",
       "      <th>29776</th>\n",
       "      <td>chrX-155880917-155881818</td>\n",
       "      <td>972.044284</td>\n",
       "      <td>1418.284143</td>\n",
       "      <td>1992.830596</td>\n",
       "      <td>836.776261</td>\n",
       "      <td>799.923651</td>\n",
       "      <td>744.049267</td>\n",
       "      <td>800.652689</td>\n",
       "      <td>2268.481457</td>\n",
       "      <td>964.448311</td>\n",
       "      <td>...</td>\n",
       "      <td>4.639890</td>\n",
       "      <td>4.463520</td>\n",
       "      <td>4.217900</td>\n",
       "      <td>3.836140</td>\n",
       "      <td>1.271940</td>\n",
       "      <td>2.957560</td>\n",
       "      <td>3.212600</td>\n",
       "      <td>1.683870</td>\n",
       "      <td>3.988590</td>\n",
       "      <td>6.023650</td>\n",
       "    </tr>\n",
       "  </tbody>\n",
       "</table>\n",
       "<p>29777 rows × 101 columns</p>\n",
       "</div>"
      ],
      "text/plain": [
       "                             ID  Don001_K27_500_600bp  Don002_K27_500_600bp  \\\n",
       "0            chr1-827137-828028           5066.223801           3072.009926   \n",
       "1            chr1-829923-830720            558.854617            407.994367   \n",
       "2            chr1-842477-843381            147.696023            173.365111   \n",
       "3            chr1-869550-870311              4.672640              1.706295   \n",
       "4            chr1-904229-905052              1.320528              5.633477   \n",
       "...                         ...                   ...                   ...   \n",
       "29772  chrX-155434658-155435575           3719.724875           2063.399500   \n",
       "29773  chrX-155612306-155613220            933.240892            917.743434   \n",
       "29774  chrX-155632242-155633102              5.485274              7.610623   \n",
       "29775  chrX-155745433-155746210              4.909662              1.110446   \n",
       "29776  chrX-155880917-155881818            972.044284           1418.284143   \n",
       "\n",
       "       Don003_K27_500_600bp  Don004_K27_500_600bp  Don005_K27_500_600bp  \\\n",
       "0               3767.704604           2277.343231           2056.208693   \n",
       "1                825.097319            331.514932            179.666927   \n",
       "2                186.793999            104.364021             89.948761   \n",
       "3                  1.144129              4.454415              4.542397   \n",
       "4                  1.294672              3.268185              3.527852   \n",
       "...                     ...                   ...                   ...   \n",
       "29772           4121.932760           2006.108369           1428.942641   \n",
       "29773            327.491736            643.420854            540.637992   \n",
       "29774              9.393896             13.581120              8.554465   \n",
       "29775              1.535541              8.400446              4.703804   \n",
       "29776           1992.830596            836.776261            799.923651   \n",
       "\n",
       "       Don006_K27_500_600bp  Don007_K27_500_600bp  Don008_K27_500_600bp  \\\n",
       "0               2309.564902           2205.978804           4336.682684   \n",
       "1                305.580195            453.832238            899.159149   \n",
       "2                154.989097            161.144003            258.805460   \n",
       "3                  6.519577              4.525046              3.347218   \n",
       "4                  5.790267              2.767384              3.209188   \n",
       "...                     ...                   ...                   ...   \n",
       "29772           1025.075628           1410.112967           3662.856250   \n",
       "29773            532.527656            696.427161            886.874525   \n",
       "29774             11.116433             10.489874             19.393158   \n",
       "29775              3.646543              6.544487              1.690863   \n",
       "29776            744.049267            800.652689           2268.481457   \n",
       "\n",
       "       Don009_K27_500_600bp  ...    Don041    Don042    Don043    Don044  \\\n",
       "0               1840.576691  ...  3.801350  3.515020  3.779680  3.452520   \n",
       "1                620.477535  ...  1.173950  1.171670  1.095560  0.944280   \n",
       "2                230.406974  ...  1.900680  1.729610  2.026780  1.504950   \n",
       "3                  3.718479  ...  1.006240  0.613734  0.821669  0.649193   \n",
       "4                  3.233459  ...  0.559023  0.446352  0.931225  0.649193   \n",
       "...                     ...  ...       ...       ...       ...       ...   \n",
       "29772           1082.007503  ...  4.360380  2.678110  2.793670  2.832840   \n",
       "29773            531.880753  ...  1.509360  1.115880  1.150340  0.796736   \n",
       "29774             12.333337  ...  0.726730  0.557940  0.657335  0.885263   \n",
       "29775              5.774040  ...  0.726730  0.781116  0.986003  0.767228   \n",
       "29776            964.448311  ...  4.639890  4.463520  4.217900  3.836140   \n",
       "\n",
       "         Don045    Don046    Don047    Don048    Don049    Don050  \n",
       "0      1.455390  3.403740  3.440040  1.295290  3.725200  3.806610  \n",
       "1      0.415826  0.739389  0.767612  0.362680  1.015960  1.338590  \n",
       "2      0.587049  1.631760  1.478360  0.906701  2.144810  1.631400  \n",
       "3      0.330215  0.662901  0.625462  0.414492  0.940706  0.794787  \n",
       "4      0.452517  0.815878  1.023480  0.375633  0.564424  1.380420  \n",
       "...         ...       ...       ...       ...       ...       ...  \n",
       "29772  1.443160  2.383890  2.501850  1.398910  3.386540  4.141260  \n",
       "29773  0.476977  0.688397  0.739182  0.466303  0.865450  1.087600  \n",
       "29774  0.317985  0.407939  0.710752  0.310869  0.602052  1.338590  \n",
       "29775  0.391366  0.611908  0.426451  0.246104  0.564424  0.920280  \n",
       "29776  1.271940  2.957560  3.212600  1.683870  3.988590  6.023650  \n",
       "\n",
       "[29777 rows x 101 columns]"
      ]
     },
     "execution_count": 126,
     "metadata": {},
     "output_type": "execute_result"
    }
   ],
   "source": [
    " pd.merge(all_peaks_K27, all_peaks_ATAC, on=\"ID\")"
   ]
  },
  {
   "cell_type": "code",
   "execution_count": null,
   "metadata": {},
   "outputs": [],
   "source": []
  }
 ],
 "metadata": {
  "kernelspec": {
   "display_name": "Python 3",
   "language": "python",
   "name": "python3"
  },
  "language_info": {
   "codemirror_mode": {
    "name": "ipython",
    "version": 3
   },
   "file_extension": ".py",
   "mimetype": "text/x-python",
   "name": "python",
   "nbconvert_exporter": "python",
   "pygments_lexer": "ipython3",
   "version": "3.8.3"
  }
 },
 "nbformat": 4,
 "nbformat_minor": 4
}
