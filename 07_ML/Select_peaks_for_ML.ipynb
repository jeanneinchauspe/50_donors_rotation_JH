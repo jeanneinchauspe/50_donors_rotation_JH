{
 "cells": [
  {
   "cell_type": "code",
   "execution_count": 1,
   "metadata": {},
   "outputs": [],
   "source": [
    "import pandas as pd\n",
    "import numpy as np\n",
    "import pyranges\n",
    "import os\n",
    "import seaborn as sns\n",
    "from scipy import stats\n",
    "import matplotlib.pyplot as plt\n",
    "import glob\n",
    "import random"
   ]
  },
  {
   "cell_type": "code",
   "execution_count": 2,
   "metadata": {},
   "outputs": [],
   "source": [
    "Variable_K27 = pd.read_csv('/t1-data/project/fgenomics/jinchaus/rotation/50Donors/peakcall/H3K27ac/sumunion/interesting_peaks/Variable_K27.tsv', sep = \"\\t\")\n"
   ]
  },
  {
   "cell_type": "code",
   "execution_count": 3,
   "metadata": {},
   "outputs": [],
   "source": [
    "# Variable_K27 = Variable_K27.iloc[0:40,]"
   ]
  },
  {
   "cell_type": "code",
   "execution_count": 4,
   "metadata": {},
   "outputs": [
    {
     "data": {
      "text/plain": [
       "(40, 41)"
      ]
     },
     "execution_count": 4,
     "metadata": {},
     "output_type": "execute_result"
    }
   ],
   "source": [
    "LoF = pd.read_csv('/t1-data/project/fgenomics/jinchaus/rotation/50Donors/peakcall/H3K27ac/sumunion/interesting_peaks/Loss_of_function.tsv', sep = \"\\t\")\n",
    "LoF.shape"
   ]
  },
  {
   "cell_type": "code",
   "execution_count": 5,
   "metadata": {},
   "outputs": [
    {
     "data": {
      "text/plain": [
       "(28, 41)"
      ]
     },
     "execution_count": 5,
     "metadata": {},
     "output_type": "execute_result"
    }
   ],
   "source": [
    "GoF = pd.read_csv('/t1-data/project/fgenomics/jinchaus/rotation/50Donors/peakcall/H3K27ac/sumunion/interesting_peaks/Gain_of_function.bed', sep = \"\\t\")\n",
    "GoF.shape"
   ]
  },
  {
   "cell_type": "code",
   "execution_count": 6,
   "metadata": {},
   "outputs": [],
   "source": [
    "Allpeaks = pd.read_csv(\"/t1-data/project/fgenomics/jinchaus/rotation/50Donors/peakcall/H3K27ac/sumunion/Values_only_ATAC.csv\", sep = \"\\t\")\n"
   ]
  },
  {
   "cell_type": "code",
   "execution_count": 7,
   "metadata": {},
   "outputs": [],
   "source": [
    "exceptions = pd.concat([LoF, GoF, Variable_K27])[['Chr', 'Start','End']]"
   ]
  },
  {
   "cell_type": "code",
   "execution_count": 8,
   "metadata": {},
   "outputs": [],
   "source": [
    "exceptions[\"ID\"] = exceptions[\"Chr\"].str.cat(exceptions[[\"Start\", \"End\"]].astype(str), sep=\"-\")"
   ]
  },
  {
   "cell_type": "code",
   "execution_count": 9,
   "metadata": {},
   "outputs": [],
   "source": [
    "subset = Allpeaks[~Allpeaks[\"ID\"].isin(exceptions['ID'])].sample(36)\n",
    "\n"
   ]
  },
  {
   "cell_type": "code",
   "execution_count": 10,
   "metadata": {},
   "outputs": [
    {
     "data": {
      "text/plain": [
       "22273     chr5-151051441-151052351\n",
       "20778     chr4-155442075-155442896\n",
       "26160     chr7-140267363-140268295\n",
       "21017           chr5-219469-220573\n",
       "3518       chr10-32332029-32332987\n",
       "13502      chr19-43624630-43625538\n",
       "13955         chr2-8684591-8686215\n",
       "27600     chr8-143568692-143569903\n",
       "7600     chr12-126874112-126875093\n",
       "14529       chr2-61905269-61906165\n",
       "20631     chr4-143773736-143774675\n",
       "14658       chr2-70984483-70985420\n",
       "15322     chr2-162319426-162319639\n",
       "9871       chr15-88630085-88630977\n",
       "27901       chr9-33233738-33234649\n",
       "700         chr1-43524543-43525477\n",
       "19531     chr3-195177824-195178748\n",
       "6504       chr12-30778921-30779783\n",
       "10203        chr16-4614419-4615341\n",
       "28008       chr9-37485459-37486339\n",
       "14599       chr2-68232181-68233005\n",
       "27739         chr9-4923907-4924795\n",
       "11646      chr17-44279657-44280428\n",
       "18949     chr3-143031573-143032528\n",
       "28575     chr9-122264394-122265290\n",
       "11190        chr17-7841620-7842614\n",
       "21350       chr5-62403390-62404322\n",
       "29128       chrX-40647143-40648038\n",
       "27545     chr8-140457207-140458511\n",
       "8608       chr14-54928118-54928965\n",
       "21495       chr5-78295419-78295990\n",
       "5870     chr11-107563408-107564352\n",
       "2114      chr1-168342459-168343259\n",
       "18768     chr3-128741539-128742280\n",
       "0               chr1-827137-828028\n",
       "16421      chr20-25861239-25862105\n",
       "Name: ID, dtype: object"
      ]
     },
     "execution_count": 10,
     "metadata": {},
     "output_type": "execute_result"
    }
   ],
   "source": [
    "subset['ID']"
   ]
  },
  {
   "cell_type": "code",
   "execution_count": 11,
   "metadata": {},
   "outputs": [],
   "source": [
    "#subset.to_csv('/t1-data/project/fgenomics/jinchaus/rotation/50Donors/peakcall/H3K27ac/sumunion/interesting_peaks/Other_peaks_values_only.csv', sep = \"\\t\", index=False)\n"
   ]
  },
  {
   "cell_type": "code",
   "execution_count": 12,
   "metadata": {},
   "outputs": [],
   "source": [
    "# remove chr5-170248326-170249251??"
   ]
  },
  {
   "cell_type": "code",
   "execution_count": 13,
   "metadata": {},
   "outputs": [],
   "source": [
    "LoF[\"ID\"]=LoF[\"Chr\"].str.cat(LoF[[\"Start\", \"End\"]].astype(str), sep=\"-\")\n",
    "GoF[\"ID\"]=GoF[\"Chr\"].str.cat(GoF[[\"Start\", \"End\"]].astype(str), sep=\"-\")\n",
    "Variable_K27[\"ID\"]=Variable_K27[\"Chr\"].str.cat(Variable_K27[[\"Start\", \"End\"]].astype(str), sep=\"-\")"
   ]
  },
  {
   "cell_type": "code",
   "execution_count": 14,
   "metadata": {},
   "outputs": [],
   "source": [
    "other_ATAC = pd.read_csv(\"/t1-data/project/fgenomics/jinchaus/rotation/50Donors/peakcall/H3K27ac/sumunion/interesting_peaks/Other_peaks_values_only.csv\", sep = \"\\t\")\n",
    "LoF_ATAC = Allpeaks[Allpeaks[\"ID\"].isin(LoF['ID'])]\n",
    "GoF_ATAC = Allpeaks[Allpeaks[\"ID\"].isin(GoF['ID'])]\n",
    "Variable_K27_ATAC = Allpeaks[Allpeaks[\"ID\"].isin(Variable_K27['ID'])]\n"
   ]
  },
  {
   "cell_type": "code",
   "execution_count": 15,
   "metadata": {},
   "outputs": [],
   "source": [
    "all_peaks_K27 = pd.read_csv(\"/t1-data/project/fgenomics/jinchaus/rotation/50Donors/peakcall/H3K27ac/sumunion/Values_only_H3K27ac_window500-600bp_ATAC_ID.csv\", sep = \"\\t\")\n",
    "other_K27 = all_peaks_K27[all_peaks_K27[\"ID\"].isin(other_ATAC['ID'])]\n",
    "LoF_K27 = all_peaks_K27[all_peaks_K27[\"ID\"].isin(LoF['ID'])]\n",
    "GoF_K27 = all_peaks_K27[all_peaks_K27[\"ID\"].isin(GoF['ID'])]\n",
    "Variable_K27_K27 = all_peaks_K27[all_peaks_K27[\"ID\"].isin(Variable_K27['ID'])]"
   ]
  },
  {
   "cell_type": "code",
   "execution_count": 16,
   "metadata": {},
   "outputs": [],
   "source": [
    "Donors = LoF_K27.columns[1:]\n",
    "Donors2 = LoF_ATAC.columns[1:]"
   ]
  },
  {
   "cell_type": "code",
   "execution_count": 17,
   "metadata": {},
   "outputs": [],
   "source": [
    "a = LoF_K27[Donors].to_numpy()\n",
    "b = LoF_ATAC[Donors2].to_numpy()\n",
    "LoF = pd.DataFrame(np.divide(a, b, out = np.ones_like(a), where=b!=0))\n",
    "LoF.columns = Donors2\n",
    "LoF.insert(0, 'ID', LoF_K27['ID'].values)"
   ]
  },
  {
   "cell_type": "code",
   "execution_count": 18,
   "metadata": {},
   "outputs": [],
   "source": [
    "a = GoF_K27[Donors].to_numpy()\n",
    "b = GoF_ATAC[Donors2].to_numpy()\n",
    "GoF = pd.DataFrame(np.divide(a, b, out = np.ones_like(a), where=b!=0))\n",
    "GoF.columns = Donors2\n",
    "GoF.insert(0, 'ID', GoF_K27['ID'].values)"
   ]
  },
  {
   "cell_type": "code",
   "execution_count": 19,
   "metadata": {},
   "outputs": [],
   "source": [
    "a = other_K27[Donors].to_numpy()\n",
    "b = other_ATAC[Donors2].to_numpy()\n",
    "others = pd.DataFrame(np.divide(a, b, out = np.ones_like(a), where=b!=0))\n",
    "others.columns = Donors2\n",
    "others.insert(0, 'ID', other_K27['ID'].values)"
   ]
  },
  {
   "cell_type": "code",
   "execution_count": 20,
   "metadata": {},
   "outputs": [],
   "source": [
    "LoF.insert(0,'group',\"LoF\")\n",
    "GoF.insert(0,'group',\"GoF\")\n",
    "others.insert(0,'group',\"other\")\n",
    "forSOM = pd.concat([LoF, GoF, others])\n",
    "forSOM.to_csv('/t1-data/project/fgenomics/jinchaus/rotation/50Donors/peakcall/H3K27ac/sumunion/interesting_peaks/forSOM_3groups_K27divATAC.csv', sep = \"\\t\", index=False)\n"
   ]
  },
  {
   "cell_type": "code",
   "execution_count": 21,
   "metadata": {},
   "outputs": [],
   "source": [
    "forSOM = pd.concat([LoF, GoF, Variable_K27.iloc[0:40,], others])\n",
    "forSOM.to_csv('/t1-data/project/fgenomics/jinchaus/rotation/50Donors/peakcall/H3K27ac/sumunion/interesting_peaks/forSOM_3groups_K27divATAC.csv', sep = \"\\t\", index=False)\n"
   ]
  },
  {
   "cell_type": "code",
   "execution_count": 22,
   "metadata": {},
   "outputs": [],
   "source": [
    "a = other_K27[Donors].to_numpy() + 1\n",
    "b = other_ATAC[Donors2].to_numpy() + 1\n",
    "\n",
    "others2 = pd.DataFrame(np.multiply(a, b))\n",
    "others2.columns = Donors2\n",
    "others2.insert(0, 'ID', other_K27['ID'].values)"
   ]
  },
  {
   "cell_type": "code",
   "execution_count": 23,
   "metadata": {},
   "outputs": [],
   "source": [
    "a = LoF_K27[Donors].to_numpy() +1\n",
    "b = LoF_ATAC[Donors2].to_numpy() +1\n",
    "LoF2 = pd.DataFrame(np.multiply(a, b))\n",
    "LoF2.columns = Donors2\n",
    "LoF2.insert(0, 'ID', LoF_K27['ID'].values)"
   ]
  },
  {
   "cell_type": "code",
   "execution_count": 24,
   "metadata": {},
   "outputs": [],
   "source": [
    "a = GoF_K27[Donors].to_numpy() +1\n",
    "b = GoF_ATAC[Donors2].to_numpy() +1\n",
    "GoF2 = pd.DataFrame(np.multiply(a, b))\n",
    "GoF2.columns = Donors2\n",
    "GoF2.insert(0, 'ID', GoF_K27['ID'].values)"
   ]
  },
  {
   "cell_type": "code",
   "execution_count": 25,
   "metadata": {},
   "outputs": [],
   "source": [
    "LoF2.insert(0,'group',\"LoF\")\n",
    "GoF2.insert(0,'group',\"GoF\")\n",
    "others2.insert(0,'group',\"other\")\n",
    "forSOM2 = pd.concat([LoF2, GoF2, others2])\n",
    "forSOM2.to_csv('/t1-data/project/fgenomics/jinchaus/rotation/50Donors/peakcall/H3K27ac/sumunion/interesting_peaks/forSOM_3groups_K27byATAC.csv', sep = \"\\t\", index=False)\n"
   ]
  },
  {
   "cell_type": "code",
   "execution_count": 26,
   "metadata": {},
   "outputs": [
    {
     "data": {
      "text/plain": [
       "LoF      40\n",
       "other    36\n",
       "GoF      28\n",
       "Name: group, dtype: int64"
      ]
     },
     "execution_count": 26,
     "metadata": {},
     "output_type": "execute_result"
    }
   ],
   "source": [
    "forSOM2['group'].value_counts()"
   ]
  },
  {
   "cell_type": "code",
   "execution_count": 27,
   "metadata": {},
   "outputs": [],
   "source": [
    "other_all = pd.merge(other_K27, other_ATAC, on=\"ID\")\n",
    "other_all.insert(0,'group',\"other\")\n",
    "LoF_all = pd.merge(LoF_K27, LoF_ATAC, on=\"ID\")\n",
    "LoF_all.insert(0,'group',\"LoF\")\n",
    "GoF_all = pd.merge(GoF_K27, GoF_ATAC, on=\"ID\")\n",
    "GoF_all.insert(0,'group',\"GoF\")\n",
    "for_keras = pd.concat([other_all, LoF_all, GoF_all])\n"
   ]
  },
  {
   "cell_type": "code",
   "execution_count": 28,
   "metadata": {},
   "outputs": [],
   "source": [
    "for_keras.to_csv('/t1-data/project/fgenomics/jinchaus/rotation/50Donors/peakcall/H3K27ac/sumunion/interesting_peaks/forkeras_3groups_K27_ATAC.csv', sep = \"\\t\", index=False)\n"
   ]
  },
  {
   "cell_type": "code",
   "execution_count": 29,
   "metadata": {},
   "outputs": [],
   "source": [
    "other_all = pd.merge(other_K27, other_ATAC, on=\"ID\")\n",
    "other_all.insert(0,'group',\"other\")\n",
    "LoF_all = pd.merge(LoF_K27, LoF_ATAC, on=\"ID\")\n",
    "LoF_all.insert(0,'group',\"LoF\")\n",
    "GoF_all = pd.merge(GoF_K27, GoF_ATAC, on=\"ID\")\n",
    "GoF_all.insert(0,'group',\"GoF\")\n",
    "LoK27_all = pd.merge(Variable_K27_K27, Variable_K27_ATAC, on=\"ID\")\n",
    "LoK27_all.insert(0,'group',\"LoK27\")\n",
    "\n",
    "for_keras2 = pd.concat([other_all, LoF_all, GoF_all, LoK27_all.iloc[0:40,]])\n",
    "for_keras2.to_csv('/t1-data/project/fgenomics/jinchaus/rotation/50Donors/peakcall/H3K27ac/sumunion/interesting_peaks/forkeras_4groups_K27_ATAC.csv', sep = \"\\t\", index=False)\n"
   ]
  },
  {
   "cell_type": "code",
   "execution_count": null,
   "metadata": {},
   "outputs": [],
   "source": [
    "for_keras3 = pd.concat([LoF_all, LoK27_all.iloc[0:40]])\n",
    "for_keras3.to_csv('/t1-data/project/fgenomics/jinchaus/rotation/50Donors/peakcall/H3K27ac/sumunion/interesting_peaks/forkeras_2groups_K27_LoK27.csv', sep = \"\\t\", index=False)\n"
   ]
  },
  {
   "cell_type": "code",
   "execution_count": null,
   "metadata": {},
   "outputs": [],
   "source": [
    "\n",
    "LoF_all = pd.merge(LoF_K27, LoF_ATAC, on=\"ID\")\n",
    "LoF_all.insert(0,'group',\"LoF\")\n",
    "LoF_all.insert(1,'realgroup',\"LoF\")\n",
    "\n",
    "GoF_all = pd.merge(GoF_K27, GoF_ATAC, on=\"ID\")\n",
    "GoF_all.insert(0,'group',\"GoF\")\n",
    "GoF_all.insert(1,'realgroup',\"GoF\")\n",
    "\n",
    "other_2_all = pd.merge(other_K27, other_ATAC, on=\"ID\")\n",
    "other_2_all.insert(0,'group',\"other\")\n",
    "other_2_all.insert(1,'realgroup',\"other\")\n",
    "\n",
    "LoK27_2_all = pd.merge(Variable_K27_K27, Variable_K27_ATAC, on=\"ID\")\n",
    "LoK27_2_all.insert(0,'group',\"other\")\n",
    "LoK27_2_all.insert(1,'realgroup',\"LoK27\")\n",
    "\n",
    "for_keras4 = pd.concat([other_2_all.iloc[0:20,], LoF_all, GoF_all, LoK27_2_all.iloc[0:20,]])\n",
    "for_keras4.to_csv('/t1-data/project/fgenomics/jinchaus/rotation/50Donors/peakcall/H3K27ac/sumunion/interesting_peaks/forkeras_3groups_K27_ATAC_otherLoK27.csv', sep = \"\\t\", index=False)\n",
    "print(for_keras3.shape)\n",
    "for_keras4"
   ]
  },
  {
   "cell_type": "markdown",
   "metadata": {},
   "source": [
    "Now, selecting windows on the interesting peaks to call variants"
   ]
  },
  {
   "cell_type": "code",
   "execution_count": null,
   "metadata": {},
   "outputs": [],
   "source": [
    "Variable_K27 = pd.read_csv('/t1-data/project/fgenomics/jinchaus/rotation/50Donors/peakcall/H3K27ac/sumunion/interesting_peaks/Variable_K27.tsv', sep = \"\\t\")\n",
    "\n",
    "Variable_K27[\"start-2kb\"]=round((Variable_K27['Start'] + (Variable_K27['length-ATAC-union']/2) - 2000)).astype(int)\n",
    "Variable_K27[\"end-2kb\"]=round((Variable_K27['End'] + (Variable_K27['length-ATAC-union']/2) + 2000)).astype(int)\n",
    "\n",
    "Variable_K27[\"start-2kb\"] = Variable_K27[[\"start-2kb\"]].astype(str)\n",
    "Variable_K27[\"end-2kb\"] = Variable_K27[[\"end-2kb\"]].astype(str)\n",
    "Variable_K27[\"ID\"]=Variable_K27['Chr'].str.cat(Variable_K27['start-2kb'].str.cat(Variable_K27['end-2kb'],sep=\"-\"), sep = \":\")\n"
   ]
  },
  {
   "cell_type": "code",
   "execution_count": null,
   "metadata": {},
   "outputs": [],
   "source": [
    "LoF = pd.read_csv('/t1-data/project/fgenomics/jinchaus/rotation/50Donors/peakcall/H3K27ac/sumunion/interesting_peaks/Loss_of_function.tsv', sep = \"\\t\")\n",
    "\n",
    "LoF[\"start-2kb\"]=round((LoF['Start'] + (LoF['length-ATAC-union']/2) - 2000)).astype(int)\n",
    "LoF[\"end-2kb\"]=round((LoF['End'] + (LoF['length-ATAC-union']/2) + 2000)).astype(int)\n",
    "\n",
    "LoF[\"start-2kb\"] = LoF[[\"start-2kb\"]].astype(str)\n",
    "LoF[\"end-2kb\"] = LoF[[\"end-2kb\"]].astype(str)\n",
    "LoF[\"ID\"]=LoF['Chr'].str.cat(LoF['start-2kb'].str.cat(LoF['end-2kb'],sep=\"-\"), sep = \":\")\n"
   ]
  },
  {
   "cell_type": "code",
   "execution_count": null,
   "metadata": {},
   "outputs": [],
   "source": [
    "GoF = pd.read_csv('/t1-data/project/fgenomics/jinchaus/rotation/50Donors/peakcall/H3K27ac/sumunion/interesting_peaks/Gain_of_function.bed', sep = \"\\t\")\n",
    "\n",
    "GoF[\"start-2kb\"]=round((GoF['Start'] + (GoF['length-ATAC-union']/2) - 2000)).astype(int)\n",
    "GoF[\"end-2kb\"]=round((GoF['End'] + (GoF['length-ATAC-union']/2) + 2000)).astype(int)\n",
    "\n",
    "GoF[\"start-2kb\"] = GoF[[\"start-2kb\"]].astype(str)\n",
    "GoF[\"end-2kb\"] = GoF[[\"end-2kb\"]].astype(str)\n",
    "GoF[\"ID\"]=GoF['Chr'].str.cat(GoF['start-2kb'].str.cat(GoF['end-2kb'],sep=\"-\"), sep = \":\")"
   ]
  },
  {
   "cell_type": "code",
   "execution_count": null,
   "metadata": {},
   "outputs": [],
   "source": [
    "Variable_K27['ID'].to_csv('/t1-data/project/fgenomics/jinchaus/rotation/50Donors/peakcall/H3K27ac/sumunion/interesting_peaks/Variable_K27_2kb_for_snps.csv', sep = \"\\t\", index=False, header = False)\n",
    "GoF['ID'].to_csv('/t1-data/project/fgenomics/jinchaus/rotation/50Donors/peakcall/H3K27ac/sumunion/interesting_peaks/GoF_2kb_for_snps.csv', sep = \"\\t\", index=False, header = False)\n",
    "LoF['ID'].to_csv('/t1-data/project/fgenomics/jinchaus/rotation/50Donors/peakcall/H3K27ac/sumunion/interesting_peaks/LoF_2kb_for_snps.csv', sep = \"\\t\", index=False, header = False)\n"
   ]
  },
  {
   "cell_type": "code",
   "execution_count": null,
   "metadata": {},
   "outputs": [],
   "source": []
  }
 ],
 "metadata": {
  "kernelspec": {
   "display_name": "Python 3",
   "language": "python",
   "name": "python3"
  },
  "language_info": {
   "codemirror_mode": {
    "name": "ipython",
    "version": 3
   },
   "file_extension": ".py",
   "mimetype": "text/x-python",
   "name": "python",
   "nbconvert_exporter": "python",
   "pygments_lexer": "ipython3",
   "version": "3.8.3"
  }
 },
 "nbformat": 4,
 "nbformat_minor": 4
}
