{
 "cells": [
  {
   "cell_type": "code",
   "execution_count": 1,
   "metadata": {},
   "outputs": [],
   "source": [
    "import numpy as np\n",
    "import matplotlib.pyplot as plt\n",
    "import pandas as pd\n",
    "from sklearn.pipeline import make_pipeline\n",
    "from sklearn.preprocessing import StandardScaler\n",
    "from sklearn.model_selection import train_test_split\n",
    "from sklearn.model_selection import cross_val_score\n",
    "from sklearn.model_selection import KFold\n",
    "from sklearn.svm import SVC\n",
    "from sklearn import metrics\n",
    "from sklearn.preprocessing import LabelEncoder"
   ]
  },
  {
   "cell_type": "code",
   "execution_count": 16,
   "metadata": {},
   "outputs": [
    {
     "name": "stdout",
     "output_type": "stream",
     "text": [
      "/t1-data/project/fgenomics/jinchaus/rotation\r\n"
     ]
    }
   ],
   "source": [
    "!pwd"
   ]
  },
  {
   "cell_type": "code",
   "execution_count": 2,
   "metadata": {},
   "outputs": [],
   "source": [
    "df = pd.read_csv(\"/t1-data/project/fgenomics/jinchaus/rotation/50Donors/peakcall/H3K27ac/sumunion/interesting_peaks/forkeras_3groups_K27_ATAC.csv\", sep = \"\\t\")\n",
    "df.shape\n",
    "\n",
    "data = np.array(df[df.columns.tolist()[2:]])\n",
    "\n",
    "data_zscore = (data - np.mean(data, axis=0)) / np.std(data, axis=0)\n",
    "labels = np.array(df[df.columns.tolist()[0]])\n"
   ]
  },
  {
   "cell_type": "code",
   "execution_count": 3,
   "metadata": {},
   "outputs": [
    {
     "data": {
      "text/plain": [
       "LoF      40\n",
       "LoK27    40\n",
       "other    36\n",
       "GoF      28\n",
       "Name: group, dtype: int64"
      ]
     },
     "execution_count": 3,
     "metadata": {},
     "output_type": "execute_result"
    }
   ],
   "source": [
    "df['group'].value_counts()"
   ]
  },
  {
   "cell_type": "code",
   "execution_count": null,
   "metadata": {},
   "outputs": [],
   "source": [
    "# Split dataset into training set and test set\n",
    "#X_train, X_test, y_train, y_test = train_test_split(data_zscore, labels , test_size=0.1,random_state=100) \n"
   ]
  },
  {
   "cell_type": "code",
   "execution_count": 4,
   "metadata": {},
   "outputs": [
    {
     "data": {
      "text/plain": [
       "(144,)"
      ]
     },
     "execution_count": 4,
     "metadata": {},
     "output_type": "execute_result"
    }
   ],
   "source": [
    "y_train = labels\n",
    "y_train.shape"
   ]
  },
  {
   "cell_type": "code",
   "execution_count": 5,
   "metadata": {},
   "outputs": [
    {
     "data": {
      "text/plain": [
       "(144, 100)"
      ]
     },
     "execution_count": 5,
     "metadata": {},
     "output_type": "execute_result"
    }
   ],
   "source": [
    "X_train = data_zscore\n",
    "X_train.shape"
   ]
  },
  {
   "cell_type": "code",
   "execution_count": 6,
   "metadata": {},
   "outputs": [
    {
     "data": {
      "text/plain": [
       "(array(['GoF', 'LoF', 'LoK27', 'other'], dtype=object),\n",
       " array([28, 40, 40, 36]))"
      ]
     },
     "execution_count": 6,
     "metadata": {},
     "output_type": "execute_result"
    }
   ],
   "source": [
    "np.unique(y_train, return_counts=True)"
   ]
  },
  {
   "cell_type": "code",
   "execution_count": 7,
   "metadata": {},
   "outputs": [],
   "source": [
    "ML_results = pd.DataFrame()"
   ]
  },
  {
   "cell_type": "code",
   "execution_count": 8,
   "metadata": {},
   "outputs": [
    {
     "name": "stdout",
     "output_type": "stream",
     "text": [
      "0.65 accuracy with a standard deviation of 0.07\n"
     ]
    }
   ],
   "source": [
    "from sklearn import svm\n",
    "clf = make_pipeline(StandardScaler(), SVC(gamma=\"auto\", degree = 3, kernel = \"rbf\")) # add probability = True for k-fold cross val\n",
    "clf.fit(X_train, y_train)\n",
    "scores = cross_val_score(clf, X_train, y_train, cv=5)\n",
    "\n",
    "print(\"%0.2f accuracy with a standard deviation of %0.2f\" % (scores.mean(), scores.std()))\n",
    "\n",
    "scores = np.append(scores, scores.mean())\n",
    "scores = np.append(scores,scores.std())\n",
    "\n",
    "ML_results['SVM']= scores"
   ]
  },
  {
   "cell_type": "code",
   "execution_count": 9,
   "metadata": {},
   "outputs": [
    {
     "data": {
      "text/plain": [
       "array([0.5862069 , 0.72413793, 0.55172414, 0.72413793, 0.64285714,\n",
       "       0.64581281, 0.06414038])"
      ]
     },
     "execution_count": 9,
     "metadata": {},
     "output_type": "execute_result"
    }
   ],
   "source": [
    "scores"
   ]
  },
  {
   "cell_type": "code",
   "execution_count": 10,
   "metadata": {},
   "outputs": [
    {
     "name": "stdout",
     "output_type": "stream",
     "text": [
      "[0.5862069  0.75862069 0.68965517 0.75862069 0.64285714]\n",
      "0.69 accuracy with a standard deviation of 0.07\n"
     ]
    }
   ],
   "source": [
    "from sklearn.neighbors import (NeighborhoodComponentsAnalysis, KNeighborsClassifier)\n",
    "from sklearn.pipeline import Pipeline\n",
    "nca = NeighborhoodComponentsAnalysis(random_state=42)\n",
    "knn = KNeighborsClassifier(n_neighbors=3)\n",
    "nca_pipe = Pipeline([('nca', nca), ('knn', knn)])\n",
    "\n",
    "scores = cross_val_score(nca_pipe, X_train, y_train, cv=5)\n",
    "\n",
    "print(scores)\n",
    "print(\"%0.2f accuracy with a standard deviation of %0.2f\" % (scores.mean(), scores.std()))\n",
    "scores = np.append(scores, scores.mean())\n",
    "scores = np.append(scores,scores.std())\n",
    "ML_results['NCA + KN']= scores"
   ]
  },
  {
   "cell_type": "code",
   "execution_count": 11,
   "metadata": {},
   "outputs": [
    {
     "name": "stdout",
     "output_type": "stream",
     "text": [
      "[0.44827586 0.48275862 0.5862069  0.44827586 0.57142857]\n",
      "0.51 accuracy with a standard deviation of 0.06\n"
     ]
    }
   ],
   "source": [
    "from sklearn.naive_bayes import GaussianNB\n",
    "clf = GaussianNB()\n",
    "clf.fit(X_train, y_train)\n",
    "\n",
    "scores = cross_val_score(clf, X_train, y_train, cv=5)\n",
    "\n",
    "print(scores)\n",
    "print(\"%0.2f accuracy with a standard deviation of %0.2f\" % (scores.mean(), scores.std()))\n",
    "scores = np.append(scores, scores.mean())\n",
    "scores = np.append(scores,scores.std())\n",
    "ML_results['Gaussian NB']= scores"
   ]
  },
  {
   "cell_type": "code",
   "execution_count": 12,
   "metadata": {},
   "outputs": [
    {
     "name": "stderr",
     "output_type": "stream",
     "text": [
      "/package/python-cbrg/current/3.8/lib/python3.8/site-packages/sklearn/neural_network/_multilayer_perceptron.py:471: ConvergenceWarning: lbfgs failed to converge (status=1):\n",
      "STOP: TOTAL NO. of ITERATIONS REACHED LIMIT.\n",
      "\n",
      "Increase the number of iterations (max_iter) or scale the data as shown in:\n",
      "    https://scikit-learn.org/stable/modules/preprocessing.html\n",
      "  self.n_iter_ = _check_optimize_result(\"lbfgs\", opt_res, self.max_iter)\n",
      "/package/python-cbrg/current/3.8/lib/python3.8/site-packages/sklearn/neural_network/_multilayer_perceptron.py:471: ConvergenceWarning: lbfgs failed to converge (status=1):\n",
      "STOP: TOTAL NO. of ITERATIONS REACHED LIMIT.\n",
      "\n",
      "Increase the number of iterations (max_iter) or scale the data as shown in:\n",
      "    https://scikit-learn.org/stable/modules/preprocessing.html\n",
      "  self.n_iter_ = _check_optimize_result(\"lbfgs\", opt_res, self.max_iter)\n",
      "/package/python-cbrg/current/3.8/lib/python3.8/site-packages/sklearn/neural_network/_multilayer_perceptron.py:471: ConvergenceWarning: lbfgs failed to converge (status=1):\n",
      "STOP: TOTAL NO. of ITERATIONS REACHED LIMIT.\n",
      "\n",
      "Increase the number of iterations (max_iter) or scale the data as shown in:\n",
      "    https://scikit-learn.org/stable/modules/preprocessing.html\n",
      "  self.n_iter_ = _check_optimize_result(\"lbfgs\", opt_res, self.max_iter)\n"
     ]
    },
    {
     "name": "stdout",
     "output_type": "stream",
     "text": [
      "[0.55172414 0.55172414 0.55172414 0.51724138 0.60714286]\n",
      "0.56 accuracy with a standard deviation of 0.03\n"
     ]
    },
    {
     "name": "stderr",
     "output_type": "stream",
     "text": [
      "/package/python-cbrg/current/3.8/lib/python3.8/site-packages/sklearn/neural_network/_multilayer_perceptron.py:471: ConvergenceWarning: lbfgs failed to converge (status=1):\n",
      "STOP: TOTAL NO. of ITERATIONS REACHED LIMIT.\n",
      "\n",
      "Increase the number of iterations (max_iter) or scale the data as shown in:\n",
      "    https://scikit-learn.org/stable/modules/preprocessing.html\n",
      "  self.n_iter_ = _check_optimize_result(\"lbfgs\", opt_res, self.max_iter)\n"
     ]
    }
   ],
   "source": [
    "from sklearn.neural_network import MLPClassifier\n",
    "clf = MLPClassifier(solver='lbfgs', alpha=1e-5, hidden_layer_sizes=(5, 2), random_state=1)\n",
    "scores = cross_val_score(clf, X_train, y_train, cv=5)\n",
    "\n",
    "print(scores)\n",
    "print(\"%0.2f accuracy with a standard deviation of %0.2f\" % (scores.mean(), scores.std()))\n",
    "\n",
    "X_train.shape\n",
    "scores = np.append(scores, scores.mean())\n",
    "scores = np.append(scores,scores.std())\n",
    "ML_results['MLP']= scores"
   ]
  },
  {
   "cell_type": "code",
   "execution_count": 13,
   "metadata": {},
   "outputs": [],
   "source": [
    "ML_results.rename(index={0:'Fold 1', 1:'Fold 2', 2:'Fold 3', 3:'Fold 4', 4:'Fold 5',5:'Mean', 6:'SD'}, inplace=True)"
   ]
  },
  {
   "cell_type": "code",
   "execution_count": 14,
   "metadata": {},
   "outputs": [],
   "source": [
    "ML_results = ML_results.round(decimals = 2)"
   ]
  },
  {
   "cell_type": "code",
   "execution_count": 15,
   "metadata": {},
   "outputs": [
    {
     "data": {
      "text/html": [
       "<div>\n",
       "<style scoped>\n",
       "    .dataframe tbody tr th:only-of-type {\n",
       "        vertical-align: middle;\n",
       "    }\n",
       "\n",
       "    .dataframe tbody tr th {\n",
       "        vertical-align: top;\n",
       "    }\n",
       "\n",
       "    .dataframe thead th {\n",
       "        text-align: right;\n",
       "    }\n",
       "</style>\n",
       "<table border=\"1\" class=\"dataframe\">\n",
       "  <thead>\n",
       "    <tr style=\"text-align: center;\">\n",
       "      <th></th>\n",
       "      <th>SVM</th>\n",
       "      <th>NCA + KN</th>\n",
       "      <th>Gaussian NB</th>\n",
       "      <th>MLP</th>\n",
       "    </tr>\n",
       "  </thead>\n",
       "  <tbody>\n",
       "    <tr>\n",
       "      <th>Fold 1</th>\n",
       "      <td>0.59</td>\n",
       "      <td>0.59</td>\n",
       "      <td>0.45</td>\n",
       "      <td>0.55</td>\n",
       "    </tr>\n",
       "    <tr>\n",
       "      <th>Fold 2</th>\n",
       "      <td>0.72</td>\n",
       "      <td>0.76</td>\n",
       "      <td>0.48</td>\n",
       "      <td>0.55</td>\n",
       "    </tr>\n",
       "    <tr>\n",
       "      <th>Fold 3</th>\n",
       "      <td>0.55</td>\n",
       "      <td>0.69</td>\n",
       "      <td>0.59</td>\n",
       "      <td>0.55</td>\n",
       "    </tr>\n",
       "    <tr>\n",
       "      <th>Fold 4</th>\n",
       "      <td>0.72</td>\n",
       "      <td>0.76</td>\n",
       "      <td>0.45</td>\n",
       "      <td>0.52</td>\n",
       "    </tr>\n",
       "    <tr>\n",
       "      <th>Fold 5</th>\n",
       "      <td>0.64</td>\n",
       "      <td>0.64</td>\n",
       "      <td>0.57</td>\n",
       "      <td>0.61</td>\n",
       "    </tr>\n",
       "    <tr>\n",
       "      <th>Mean</th>\n",
       "      <td>0.65</td>\n",
       "      <td>0.69</td>\n",
       "      <td>0.51</td>\n",
       "      <td>0.56</td>\n",
       "    </tr>\n",
       "    <tr>\n",
       "      <th>SD</th>\n",
       "      <td>0.06</td>\n",
       "      <td>0.06</td>\n",
       "      <td>0.05</td>\n",
       "      <td>0.03</td>\n",
       "    </tr>\n",
       "  </tbody>\n",
       "</table>\n",
       "</div>"
      ],
      "text/plain": [
       "         SVM  NCA + KN  Gaussian NB   MLP\n",
       "Fold 1  0.59    0.59       0.45      0.55\n",
       "Fold 2  0.72    0.76       0.48      0.55\n",
       "Fold 3  0.55    0.69       0.59      0.55\n",
       "Fold 4  0.72    0.76       0.45      0.52\n",
       "Fold 5  0.64    0.64       0.57      0.61\n",
       "Mean    0.65    0.69       0.51      0.56\n",
       "SD      0.06    0.06       0.05      0.03"
      ]
     },
     "metadata": {},
     "output_type": "display_data"
    }
   ],
   "source": [
    "pd.set_option('display.max_rows', None)\n",
    "pd.set_option('display.max_columns', None)\n",
    "pd.set_option('display.width', 1000)\n",
    "pd.set_option('display.colheader_justify', 'center')\n",
    "pd.set_option('display.precision', 3)\n",
    "\n",
    "display(ML_results)"
   ]
  },
  {
   "cell_type": "markdown",
   "metadata": {},
   "source": [
    "# Deep learning"
   ]
  },
  {
   "cell_type": "code",
   "execution_count": null,
   "metadata": {},
   "outputs": [],
   "source": [
    "import numpy as np\n",
    "import matplotlib.pyplot as plt\n",
    "import pandas as pd\n",
    "from sklearn.pipeline import make_pipeline\n",
    "from sklearn.preprocessing import StandardScaler\n",
    "from sklearn.model_selection import train_test_split\n",
    "from sklearn.model_selection import cross_val_score\n",
    "from sklearn.model_selection import KFold\n",
    "from sklearn.svm import SVC\n",
    "from sklearn import metrics\n",
    "from sklearn.preprocessing import LabelEncoder\n",
    "#!module load tensorflow2-cpu/202102 \n",
    "import tensorflow as tf\n",
    "from tensorflow import keras\n",
    "from tensorflow.keras import layers\n",
    "from tensorflow.keras.utils import to_categorical\n",
    "from sklearn.model_selection import KFold, StratifiedKFold\n",
    "from keras.callbacks import EarlyStopping, ModelCheckpoint, ReduceLROnPlateau\n",
    "import os, random"
   ]
  },
  {
   "cell_type": "code",
   "execution_count": null,
   "metadata": {},
   "outputs": [],
   "source": [
    "from numpy.random import seed\n",
    "seed(1)"
   ]
  },
  {
   "cell_type": "code",
   "execution_count": null,
   "metadata": {},
   "outputs": [],
   "source": [
    "def plot_history(hist):\n",
    "    plt.plot(hist.history['acc'])\n",
    "    plt.plot(hist.history['val_acc'])\n",
    "    plt.title('Model Accuracy')\n",
    "    plt.ylabel('Accuracy')\n",
    "    plt.xlabel('Epoch')\n",
    "    plt.legend(['train', 'test'], loc=4)\n",
    "    plt.savefig('/datashare/project/fgenomics/jinchaus/rotation/plots/Fold_Epochs_Acc.png', dpi =400)\n",
    "    plt.show()\n",
    "    # summarize history for loss\n",
    "    plt.plot(hist.history['loss'])\n",
    "    plt.plot(hist.history['val_loss'])\n",
    "    plt.title('Model Loss')\n",
    "    plt.ylabel('Loss')\n",
    "    plt.xlabel('Epoch')\n",
    "    plt.legend(['train', 'test'], loc='upper right')  \n",
    "    plt.savefig('/datashare/project/fgenomics/jinchaus/rotation/plots/Fold_Epochs_Loss.png', dpi =400)\n",
    "    plt.show()"
   ]
  },
  {
   "cell_type": "code",
   "execution_count": null,
   "metadata": {},
   "outputs": [],
   "source": [
    "df = pd.read_csv(\"/t1-data/project/fgenomics/jinchaus/rotation/50Donors/peakcall/H3K27ac/sumunion/interesting_peaks/forkeras_3groups_K27_ATAC.csv\", sep = \"\\t\")\n",
    "data = np.array(df[df.columns.tolist()[2:]])\n",
    "\n",
    "data_zscore = (data - np.mean(data, axis=0)) / np.std(data, axis=0)\n",
    "labels = np.array(df[df.columns.tolist()[0]])\n",
    "                 \n",
    "                 "
   ]
  },
  {
   "cell_type": "code",
   "execution_count": null,
   "metadata": {},
   "outputs": [],
   "source": [
    "df['group'].value_counts()"
   ]
  },
  {
   "cell_type": "code",
   "execution_count": null,
   "metadata": {},
   "outputs": [],
   "source": [
    "# prepare target\n",
    "le = LabelEncoder()\n",
    "le.fit(labels)\n",
    "labels_enc = le.transform(labels)\n",
    "labels_enc = to_categorical(labels_enc)"
   ]
  },
  {
   "cell_type": "code",
   "execution_count": null,
   "metadata": {
    "scrolled": false
   },
   "outputs": [],
   "source": [
    "#with k-fold validation\n",
    "\n",
    "mean_accuracy=[]\n",
    "skf = StratifiedKFold(n_splits = 5, random_state = 1, shuffle = True) \n",
    "for j, (train_idx, val_idx) in enumerate(skf.split(data_zscore, labels)):\n",
    "\n",
    "    print('\\nFold ',j)\n",
    "    #X_train, X_test = X[train_index], X[test_index]\n",
    "    #y_train, y_test = y[train_index], y[test_index]\n",
    "\n",
    "    X_train = data_zscore[train_idx]\n",
    "    y_train = labels_enc[train_idx]\n",
    "    X_test = data_zscore[val_idx]\n",
    "    y_test= labels_enc[val_idx]\n",
    "\n",
    "    tf.random.set_seed(42)\n",
    "    model = keras.Sequential([\n",
    "        layers.Dense(64, activation=\"relu\", input_shape=(100,)),\n",
    "        layers.Dense(32, activation=\"relu\"),\n",
    "        layers.Dense(3, activation=\"sigmoid\"),])\n",
    "\n",
    "#     model = keras.Sequential([\n",
    "#         layers.Dense(64, activation=\"relu\", input_shape=(100,)),\n",
    "#         layers.Dense(32, activation=\"relu\"),\n",
    "#         layers.Dense(4, activation=\"sigmoid\"),])\n",
    "    \n",
    "#     model = keras.Sequential([\n",
    "#         layers.Dense(256, activation=\"sigmoid\", input_shape=(100,)),\n",
    "#         layers.Dense(128, activation=\"sigmoid\"),\n",
    "#         layers.Dense(32, activation=\"sigmoid\"),\n",
    "#         layers.Dense(4, activation=\"sigmoid\"),])\n",
    "\n",
    "    model.compile(\n",
    "        optimizer=keras.optimizers.Adam(),\n",
    "        #optimizer=keras.optimizers.RMSprop(),\n",
    "        loss='binary_crossentropy',\n",
    "        metrics=['acc'])\n",
    "\n",
    "    early_stopping = tf.keras.callbacks.EarlyStopping(monitor='val_loss', patience=50, restore_best_weights=True)\n",
    "\n",
    "    \n",
    "    best_model = tf.keras.callbacks.ModelCheckpoint(\n",
    "        filepath='k_fold_best_'+str(j)+'_4groups.h5',\n",
    "        save_weights_only=True,\n",
    "        monitor='val_loss',\n",
    "        mode='min',\n",
    "        save_best_only=True)\n",
    "\n",
    "    print(\"Fit model on training data\")\n",
    "    history = model.fit(X_train, y_train, epochs = 500, validation_data=(X_test, y_test), \n",
    "                        verbose=0, callbacks=[early_stopping, best_model])\n",
    "    #plot_history(history)\n",
    "\n",
    "    #model.load_weights('k_fold_best.h5')\n",
    "\n",
    "    print(\"Evaluate on test data\")\n",
    "    results = model.evaluate(X_test, y_test)\n",
    "    mean_accuracy.append(results[1])\n",
    "    print(\"test loss, test acc:\", results)\n",
    "    #os.remove('k_fold_best.h5')\n",
    "\n",
    "print(\"Mean accuracy from 5 folds: \", np.mean(mean_accuracy))\n",
    "\n",
    "\n"
   ]
  },
  {
   "cell_type": "code",
   "execution_count": null,
   "metadata": {},
   "outputs": [],
   "source": [
    "np.std(mean_accuracy)"
   ]
  },
  {
   "cell_type": "code",
   "execution_count": null,
   "metadata": {},
   "outputs": [],
   "source": [
    "# Split dataset into training set and test set\n",
    "X_train, X_test, y_train, y_test = train_test_split(data_zscore,\n",
    "                                                    labels_enc, \n",
    "                                                    test_size=0.2,\n",
    "                                                    stratify=labels_enc,\n",
    "                                                    random_state=100)"
   ]
  },
  {
   "cell_type": "code",
   "execution_count": null,
   "metadata": {},
   "outputs": [],
   "source": [
    "# Define Sequential model with 3 layers\n",
    "model = keras.Sequential(\n",
    "    [\n",
    "        layers.Dense(64, activation=\"relu\", input_shape=(100,)),\n",
    "        layers.Dense(32, activation=\"relu\"),\n",
    "        layers.Dense(3, activation=\"sigmoid\"),\n",
    "    ]\n",
    ")\n"
   ]
  },
  {
   "cell_type": "code",
   "execution_count": null,
   "metadata": {},
   "outputs": [],
   "source": [
    "model.compile(\n",
    "    # Optimizer\n",
    "    optimizer=keras.optimizers.Adam(),  \n",
    "    # Loss function to minimize\n",
    "    loss='binary_crossentropy',\n",
    "    # List of metrics to monitor\n",
    "    metrics=['acc'],\n",
    ")"
   ]
  },
  {
   "cell_type": "code",
   "execution_count": null,
   "metadata": {
    "scrolled": false
   },
   "outputs": [],
   "source": [
    "callback = keras.callbacks.EarlyStopping(monitor='loss', patience=50, restore_best_weights= True)\n",
    "print(\"Fit model on training data\")\n",
    "history = model.fit(X_train, y_train, epochs = 500, validation_data=(X_test, y_test), verbose=0, callbacks=[early_stopping, best_model])\n",
    "\n",
    "# Probably better to train less epochs. 500 right now. try 150"
   ]
  },
  {
   "cell_type": "code",
   "execution_count": null,
   "metadata": {},
   "outputs": [],
   "source": [
    "print(\"Evaluate on test data\")\n",
    "results = model.evaluate(X_test, y_test)\n",
    "print(\"test loss, test acc:\", results)"
   ]
  },
  {
   "cell_type": "code",
   "execution_count": null,
   "metadata": {},
   "outputs": [],
   "source": [
    "prediction = model.predict(X_test)"
   ]
  },
  {
   "cell_type": "code",
   "execution_count": null,
   "metadata": {},
   "outputs": [],
   "source": [
    "le.inverse_transform(np.argmax(prediction, axis=1))"
   ]
  },
  {
   "cell_type": "code",
   "execution_count": null,
   "metadata": {},
   "outputs": [],
   "source": [
    "le.inverse_transform(np.argmax(y_test, axis=1))"
   ]
  },
  {
   "cell_type": "code",
   "execution_count": null,
   "metadata": {},
   "outputs": [],
   "source": [
    "y_true=le.inverse_transform(np.argmax(y_test, axis=1))\n",
    "y_pred=le.inverse_transform(np.argmax(prediction, axis=1))\n"
   ]
  },
  {
   "cell_type": "code",
   "execution_count": null,
   "metadata": {},
   "outputs": [],
   "source": [
    "from sklearn.metrics import confusion_matrix, ConfusionMatrixDisplay\n",
    "import pylab as pl\n",
    "cm = confusion_matrix(y_true, y_pred, labels=[\"GoF\", \"LoF\",\"other\"])\n",
    "#disp.matshow(cm)\n",
    "\n",
    "disp = ConfusionMatrixDisplay(confusion_matrix=cm,\n",
    "                             display_labels=[\"GoF\", \"LoF\", \"other\"])\n",
    "\n",
    "disp.plot()\n",
    "\n",
    "disp.figure_.savefig('/datashare/project/fgenomics/jinchaus/rotation/plots/Fold_confusion_matrix.png', dpi =400)\n",
    "\n"
   ]
  },
  {
   "cell_type": "code",
   "execution_count": null,
   "metadata": {},
   "outputs": [],
   "source": [
    "plot_history(history)"
   ]
  },
  {
   "cell_type": "markdown",
   "metadata": {},
   "source": [
    "# Adding Loss of K27"
   ]
  },
  {
   "cell_type": "code",
   "execution_count": null,
   "metadata": {},
   "outputs": [],
   "source": [
    "All = pd.read_csv(\"/t1-data/project/fgenomics/jinchaus/rotation/50Donors/peakcall/H3K27ac/sumunion/interesting_peaks/forkeras_4groups_K27_ATAC.csv\", sep = \"\\t\")"
   ]
  },
  {
   "cell_type": "code",
   "execution_count": null,
   "metadata": {},
   "outputs": [],
   "source": [
    "K27 = All[All['group'] == \"LoK27\"]"
   ]
  },
  {
   "cell_type": "code",
   "execution_count": null,
   "metadata": {},
   "outputs": [],
   "source": [
    "data = np.array(K27[K27.columns.tolist()[2:]])\n",
    "\n",
    "data_zscore = (data - np.mean(data, axis=0)) / np.std(data, axis=0)\n",
    "labels = np.array(K27[K27.columns.tolist()[1]])\n",
    "                 "
   ]
  },
  {
   "cell_type": "code",
   "execution_count": null,
   "metadata": {},
   "outputs": [],
   "source": [
    "data_zscore.shape"
   ]
  },
  {
   "cell_type": "code",
   "execution_count": null,
   "metadata": {},
   "outputs": [],
   "source": [
    "prediction = model.predict(data_zscore)"
   ]
  },
  {
   "cell_type": "code",
   "execution_count": null,
   "metadata": {},
   "outputs": [],
   "source": [
    "k27 = le.inverse_transform(np.argmax(prediction, axis=1))\n",
    "np.unique(k27, return_counts=True)\n"
   ]
  },
  {
   "cell_type": "code",
   "execution_count": null,
   "metadata": {},
   "outputs": [],
   "source": [
    "Lo = All[(All['group'] == \"LoK27\")|(All['group'] == \"other\")]\n",
    "#Lo = pd.read_csv('/t1-data/project/fgenomics/jinchaus/rotation/50Donors/peakcall/H3K27ac/sumunion/interesting_peaks/forkeras_2groups_K27_LoK27.csv', sep = \"\\t\")\n",
    "data = np.array(Lo[Lo.columns.tolist()[2:]])\n",
    "data_zscore = (data - np.mean(data, axis=0)) / np.std(data, axis=0)\n",
    "#sx=data_zscore.T[:50].T\n",
    "#dx=data_zscore.T[50:].T\n",
    "#data_zscore = pd.DataFrame(np.divide(sx, dx, out = sx, where=dx!=0))\n",
    "\n",
    "#data_zscore = (data - np.mean(data, axis=0)) / np.std(data, axis=0)\n",
    "labels = np.array(Lo[Lo.columns.tolist()[0]])\n",
    "                 \n",
    "\n",
    "data_zscore.shape"
   ]
  },
  {
   "cell_type": "code",
   "execution_count": null,
   "metadata": {},
   "outputs": [],
   "source": [
    "# prepare target\n",
    "le = LabelEncoder()\n",
    "le.fit(labels)\n",
    "labels_enc = le.transform(labels)\n",
    "labels_enc = to_categorical(labels_enc)"
   ]
  },
  {
   "cell_type": "code",
   "execution_count": null,
   "metadata": {},
   "outputs": [],
   "source": [
    "\n",
    "mean_accuracy=[]\n",
    "skf = StratifiedKFold(n_splits = 5, random_state = 1, shuffle = True) \n",
    "for j, (train_idx, val_idx) in enumerate(skf.split(data_zscore, labels)):\n",
    "\n",
    "    print('\\nFold ',j)\n",
    "    #X_train, X_test = X[train_index], X[test_index]\n",
    "    #y_train, y_test = y[train_index], y[test_index]\n",
    "\n",
    "    X_train = data_zscore[train_idx]\n",
    "    y_train = labels_enc[train_idx]\n",
    "    X_test = data_zscore[val_idx]\n",
    "    y_test= labels_enc[val_idx]\n",
    "\n",
    "    tf.random.set_seed(42)\n",
    "    model = keras.Sequential([\n",
    "        layers.Dense(16, activation=\"relu\", input_shape=(100,)),\n",
    "        layers.Dense(2, activation=\"sigmoid\"),])\n",
    "\n",
    "    model.compile(\n",
    "        optimizer=keras.optimizers.Adam(),\n",
    "        #optimizer=keras.optimizers.RMSprop(),\n",
    "        loss='binary_crossentropy',\n",
    "        metrics=['acc'])\n",
    "\n",
    "    early_stopping = tf.keras.callbacks.EarlyStopping(monitor='val_loss', patience=50, restore_best_weights=True)\n",
    "\n",
    "    \n",
    "    best_model = tf.keras.callbacks.ModelCheckpoint(\n",
    "        filepath='k_fold_best_'+str(j)+'_2groups.h5',\n",
    "        save_weights_only=True,\n",
    "        monitor='val_loss',\n",
    "        mode='min',\n",
    "        save_best_only=True)\n",
    "\n",
    "    print(\"Fit model on training data\")\n",
    "    history = model.fit(X_train, y_train, epochs = 500, validation_data=(X_test, y_test), \n",
    "                        verbose=0, callbacks=[early_stopping, best_model])\n",
    "    #plot_history(history)\n",
    "\n",
    "    #model.load_weights('k_fold_best.h5')\n",
    "\n",
    "    print(\"Evaluate on test data\")\n",
    "    results = model.evaluate(X_test, y_test)\n",
    "    mean_accuracy.append(results[1])\n",
    "    print(\"test loss, test acc:\", results)\n",
    "    #os.remove('k_fold_best.h5')\n",
    "\n",
    "print(\"Mean accuracy from 5 folds: \", np.mean(mean_accuracy))\n",
    "\n"
   ]
  },
  {
   "cell_type": "code",
   "execution_count": null,
   "metadata": {},
   "outputs": [],
   "source": [
    "np.std(mean_accuracy)"
   ]
  },
  {
   "cell_type": "code",
   "execution_count": null,
   "metadata": {},
   "outputs": [],
   "source": [
    "# Split dataset into training set and test set\n",
    "X_train, X_test, y_train, y_test = train_test_split(data_zscore,\n",
    "                                                    labels_enc, \n",
    "                                                    test_size=0.3,\n",
    "                                                    stratify=labels_enc,\n",
    "                                                    random_state=100)"
   ]
  },
  {
   "cell_type": "code",
   "execution_count": null,
   "metadata": {},
   "outputs": [],
   "source": [
    "# Define Sequential model with 2 layers\n",
    "model = keras.Sequential(\n",
    "    [\n",
    "        layers.Dense(16, activation=\"relu\", input_shape=(100,)),\n",
    "        #layers.Dense(32, activation=\"relu\"),\n",
    "        #layers.Dense(8, activation=\"sigmoid\"),\n",
    "        layers.Dense(2, activation=\"sigmoid\"),\n",
    "    ]\n",
    ")\n"
   ]
  },
  {
   "cell_type": "code",
   "execution_count": null,
   "metadata": {},
   "outputs": [],
   "source": [
    "model.compile(\n",
    "    # Optimizer\n",
    "    optimizer=keras.optimizers.Adam(),\n",
    "    #optimizer=keras.optimizers.SGD(),\n",
    "    # Loss function to minimize\n",
    "    loss='binary_crossentropy',\n",
    "    # List of metrics to monitor\n",
    "    metrics=['acc'],\n",
    ")"
   ]
  },
  {
   "cell_type": "code",
   "execution_count": null,
   "metadata": {
    "scrolled": false
   },
   "outputs": [],
   "source": [
    "callback = keras.callbacks.EarlyStopping(monitor='loss', patience=50, restore_best_weights= True)\n",
    "print(\"Fit model on training data\")\n",
    "history = model.fit(X_train, y_train, epochs = 500, validation_data=(X_test, y_test), verbose=0, callbacks=[early_stopping])\n",
    "plot_history(history)\n",
    "# Probably better to train less epochs. 500 right now. try 150"
   ]
  },
  {
   "cell_type": "code",
   "execution_count": null,
   "metadata": {},
   "outputs": [],
   "source": [
    "print(\"Evaluate on test data\")\n",
    "results = model.evaluate(X_test, y_test)\n",
    "print(\"test loss, test acc:\", results)"
   ]
  },
  {
   "cell_type": "code",
   "execution_count": null,
   "metadata": {},
   "outputs": [],
   "source": [
    "prediction = model.predict(X_test)"
   ]
  },
  {
   "cell_type": "code",
   "execution_count": null,
   "metadata": {},
   "outputs": [],
   "source": [
    "le.inverse_transform(np.argmax(prediction, axis=1))"
   ]
  },
  {
   "cell_type": "code",
   "execution_count": null,
   "metadata": {},
   "outputs": [],
   "source": [
    "le.inverse_transform(np.argmax(y_test, axis=1))"
   ]
  },
  {
   "cell_type": "code",
   "execution_count": null,
   "metadata": {},
   "outputs": [],
   "source": [
    "y_true=le.inverse_transform(np.argmax(y_test, axis=1))\n",
    "y_pred=le.inverse_transform(np.argmax(prediction, axis=1))\n"
   ]
  },
  {
   "cell_type": "code",
   "execution_count": null,
   "metadata": {},
   "outputs": [],
   "source": [
    "from sklearn.metrics import confusion_matrix, ConfusionMatrixDisplay\n",
    "import pylab as pl\n",
    "cm = confusion_matrix(y_true, y_pred, labels=[\"other\", \"LoK27\"])\n",
    "#disp.matshow(cm)\n",
    "\n",
    "disp = ConfusionMatrixDisplay(confusion_matrix=cm,\n",
    "                             display_labels=[\"other\", \"LoK27\"])\n",
    "\n",
    "disp.plot()\n",
    "\n"
   ]
  },
  {
   "cell_type": "code",
   "execution_count": null,
   "metadata": {},
   "outputs": [],
   "source": []
  },
  {
   "cell_type": "code",
   "execution_count": null,
   "metadata": {},
   "outputs": [],
   "source": []
  }
 ],
 "metadata": {
  "kernelspec": {
   "display_name": "Python 3",
   "language": "python",
   "name": "python3"
  },
  "language_info": {
   "codemirror_mode": {
    "name": "ipython",
    "version": 3
   },
   "file_extension": ".py",
   "mimetype": "text/x-python",
   "name": "python",
   "nbconvert_exporter": "python",
   "pygments_lexer": "ipython3",
   "version": "3.8.3"
  }
 },
 "nbformat": 4,
 "nbformat_minor": 4
}
