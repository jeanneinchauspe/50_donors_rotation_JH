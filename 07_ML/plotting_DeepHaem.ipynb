{
 "cells": [
  {
   "cell_type": "code",
   "execution_count": 5,
   "metadata": {},
   "outputs": [
    {
     "data": {
      "text/html": [
       "<style>.container {width: 90% !important; }</style>"
      ],
      "text/plain": [
       "<IPython.core.display.HTML object>"
      ]
     },
     "metadata": {},
     "output_type": "display_data"
    }
   ],
   "source": [
    "from IPython.core.display import display, HTML\n",
    "display(HTML('<style>.container {width: 90% !important; }</style>'))"
   ]
  },
  {
   "cell_type": "code",
   "execution_count": 6,
   "metadata": {},
   "outputs": [],
   "source": [
    "import warnings\n",
    "warnings.filterwarnings('ignore')"
   ]
  },
  {
   "cell_type": "markdown",
   "metadata": {},
   "source": [
    "# Library"
   ]
  },
  {
   "cell_type": "code",
   "execution_count": 7,
   "metadata": {},
   "outputs": [],
   "source": [
    "import sys, os, random, pybedtools\n",
    "\n",
    "import numpy as np\n",
    "import pandas as pd\n",
    "import h5py as h5\n",
    "import matplotlib.pylab as plt"
   ]
  },
  {
   "cell_type": "code",
   "execution_count": 10,
   "metadata": {},
   "outputs": [],
   "source": [
    "header_path = 'labels.txt'\n",
    "\n",
    "header_df = pd.read_csv(header_path, sep='\\t', header=None)\n",
    "header_df = header_df.drop(0, axis=1)\n",
    "header_df.columns = ['labels']\n",
    "\n",
    "classes = header_df['labels'].tolist()\n",
    "\n",
    "headers = [\"chr\", \"pos\", \"snptag\", \"ref\", \"var\"] + classes\n",
    "\n",
    "path = \"/t1-data/project/fgenomics/jinchaus/rotation/DeepHeam_out/GoF/dh_GoF_variants\"\n",
    "\n",
    "path_ref = path+\"/reference_class_scores_dh_GoF.bed\"\n",
    "path_var = path+\"/variant_class_scores_dh_GoF.bed\"\n",
    "path_tot = path+\"/total_damage_scores_dh_GoF.bed\"\n",
    "\n",
    "ref = pd.read_csv(path_ref, sep='\\t', header=None)\n",
    "var = pd.read_csv(path_var, sep='\\t', header=None)\n",
    "tot = pd.read_csv(path_tot, sep='\\t', header=None)\n",
    "\n",
    "ref.columns = headers\n",
    "var.columns = headers\n",
    "tot.columns = headers\n"
   ]
  },
  {
   "cell_type": "code",
   "execution_count": 12,
   "metadata": {},
   "outputs": [
    {
     "name": "stdout",
     "output_type": "stream",
     "text": [
      "['assay:ATAC-seq__tag:Don001-ATAC-d13-rep1__description:Don001-ATAC-d13-rep1', 'assay:Histone-ChIP-seq__tag:Don001-H3K27ac-d13-rep1__description:Don001-H3K27ac-d13-rep1', 'assay:TF-ChIP-seq__tag:Don001-CTCF-d13-rep1__description:Don001-CTCF-d13-rep1']\n"
     ]
    }
   ],
   "source": [
    "d13_cols = [col for col in tot.columns if 'd13' in col]\n",
    "\n",
    "print(d13_cols)"
   ]
  },
  {
   "cell_type": "code",
   "execution_count": 13,
   "metadata": {},
   "outputs": [],
   "source": [
    "results_DH = pd.DataFrame()\n",
    "results_DH['ATAC']=tot['assay:ATAC-seq__tag:Don001-ATAC-d13-rep1__description:Don001-ATAC-d13-rep1']"
   ]
  },
  {
   "cell_type": "code",
   "execution_count": 14,
   "metadata": {},
   "outputs": [],
   "source": [
    "results_DH['H3K27ac'] = tot['assay:Histone-ChIP-seq__tag:Don001-H3K27ac-d13-rep1__description:Don001-H3K27ac-d13-rep1']"
   ]
  },
  {
   "cell_type": "code",
   "execution_count": 15,
   "metadata": {},
   "outputs": [],
   "source": [
    "results_DH = pd.melt(results_DH)"
   ]
  },
  {
   "cell_type": "code",
   "execution_count": 16,
   "metadata": {},
   "outputs": [
    {
     "data": {
      "image/png": "[encoded data removed]",
      "text/plain": [
       "<Figure size 432x288 with 1 Axes>"
      ]
     },
     "metadata": {
      "needs_background": "light"
     },
     "output_type": "display_data"
    }
   ],
   "source": [
    "import seaborn as sns\n",
    "\n",
    "plot = sns.swarmplot(data = results_DH, x = 'variable', y = 'value')\n",
    "plot.set_xlabel('Feature')\n",
    "plot.set_ylabel('DeepHaem score')\n",
    "plot.set_title(\"DeepHeam's predictions on 6 GoF peaks\")\n",
    "fig = plot.get_figure()\n",
    "fig.savefig('/datashare/project/fgenomics/jinchaus/rotation/plots/DeepHeam_GoF.png',  bbox_inches='tight', dpi =400)\n"
   ]
  },
  {
   "cell_type": "code",
   "execution_count": null,
   "metadata": {},
   "outputs": [],
   "source": []
  }
 ],
 "metadata": {
  "kernelspec": {
   "display_name": "Python 3",
   "language": "python",
   "name": "python3"
  },
  "language_info": {
   "codemirror_mode": {
    "name": "ipython",
    "version": 3
   },
   "file_extension": ".py",
   "mimetype": "text/x-python",
   "name": "python",
   "nbconvert_exporter": "python",
   "pygments_lexer": "ipython3",
   "version": "3.8.3"
  }
 },
 "nbformat": 4,
 "nbformat_minor": 4
}
